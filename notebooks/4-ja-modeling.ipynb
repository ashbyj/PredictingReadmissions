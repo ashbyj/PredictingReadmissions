{
 "cells": [
  {
   "cell_type": "code",
   "execution_count": 14,
   "id": "f4b34394",
   "metadata": {},
   "outputs": [],
   "source": [
    "# todo\n",
    "# make sure random forest is giving consistent results\n",
    "# add svm\n",
    "# add gradient boosted machine (or adaboost)\n",
    "# add a neural network\n",
    "# clean up the rapids code\n",
    "# add the explanations"
   ]
  },
  {
   "cell_type": "markdown",
   "id": "227124b1",
   "metadata": {},
   "source": [
    "## contents\n",
    "* [introduction](#introduction)\n",
    "* [imports, load and model tester](#imports)\n",
    "* [naive bayes](#naive_bayes')\n",
    "* [logistic regression](#logistic_regression)\n",
    "* [random forest](#random_forest)\n",
    "* [support vector machine](#svm)\n",
    "* [gradient boosting](#gradient_boosting)\n",
    "* [neural network](#)\n",
    "* [model selection and conclusion](#conclusion)"
   ]
  },
  {
   "cell_type": "markdown",
   "id": "5a185373",
   "metadata": {},
   "source": [
    "## imports, load and model tester<a id='imports'></a>"
   ]
  },
  {
   "cell_type": "code",
   "execution_count": 25,
   "id": "64916c44-85e8-4398-ba19-92174bf634cf",
   "metadata": {
    "tags": []
   },
   "outputs": [],
   "source": [
    "import pandas as pd\n",
    "import numpy as np\n",
    "\n",
    "from sklearn.naive_bayes import GaussianNB\n",
    "from sklearn.model_selection import GridSearchCV\n",
    "from sklearn.model_selection import StratifiedKFold\n",
    "from sklearn.metrics import classification_report\n",
    "\n",
    "from cuml import LogisticRegression\n",
    "from cuml import SVC \n"
   ]
  },
  {
   "cell_type": "code",
   "execution_count": 16,
   "id": "e52c4c4a-95af-4b34-b848-4aced0d72cc8",
   "metadata": {
    "tags": []
   },
   "outputs": [],
   "source": [
    "X_train = pd.read_parquet('../data/interim/X_train.parquet')\n",
    "X_test = pd.read_parquet('../data/interim/X_test.parquet')\n",
    "y_train = pd.read_parquet('../data/interim/y_train.parquet')\n",
    "y_test = pd.read_parquet('../data/interim/y_test.parquet')\n",
    "\n",
    "X_train_ind = X_train[X_train['is_independent'] == 1].copy()\n",
    "X_test_ind = X_test[X_test['is_independent'] == 1].copy()\n",
    "y_train_ind = y_train[y_train['is_independent'] == 1].copy()\n",
    "y_test_ind = y_test[y_test['is_independent'] == 1].copy()\n",
    "\n",
    "dataframes = [X_train, X_test, y_train, y_test, X_train_ind, X_test_ind, y_train_ind, y_test_ind]\n",
    "for df in dataframes:\n",
    "    df.drop('is_independent', axis=1, inplace=True)\n",
    "\n",
    "y_train = np.ravel(y_train)\n",
    "y_test = np.ravel(y_test)\n",
    "y_train_ind = np.ravel(y_train_ind)\n",
    "y_test_ind = np.ravel(y_test_ind)\n",
    "\n",
    "cross_validation = StratifiedKFold(n_splits=5, random_state=42, shuffle=True)"
   ]
  },
  {
   "cell_type": "code",
   "execution_count": 17,
   "id": "fedda295-7be7-49ee-a5d3-ee123190c2d0",
   "metadata": {
    "tags": []
   },
   "outputs": [],
   "source": [
    "def sk_model(param_grid, model, cv, independent=False):\n",
    "\n",
    "    X_train_local = X_train_ind if independent else X_train\n",
    "    y_train_local = y_train_ind if independent else y_train\n",
    "    X_test_local = X_test_ind if independent else X_test\n",
    "    y_test_local = y_test_ind if independent else y_test\n",
    "    \n",
    "    grid_search = GridSearchCV(estimator=model, param_grid=param_grid, cv=cv)\n",
    "    grid_search.fit(X_train_local, y_train_local)\n",
    "\n",
    "    best_model = grid_search.best_estimator_\n",
    "    y_pred = best_model.predict(X_test_local)\n",
    "    report = classification_report(y_test_local, y_pred)\n",
    "    print(f'best params: {grid_search.best_params_}')\n",
    "    print(report)"
   ]
  },
  {
   "cell_type": "markdown",
   "id": "02b0daf0-157f-40e7-9ca6-34d304b1112b",
   "metadata": {},
   "source": [
    "## naive bayes<a id='naive_bayes'></a>"
   ]
  },
  {
   "cell_type": "code",
   "execution_count": 18,
   "id": "cba9cd8d-7590-489b-a235-4830fb9f66b4",
   "metadata": {
    "tags": []
   },
   "outputs": [
    {
     "name": "stdout",
     "output_type": "stream",
     "text": [
      "best params: {}\n",
      "              precision    recall  f1-score   support\n",
      "\n",
      "       False       0.72      0.08      0.14      6118\n",
      "        True       0.39      0.95      0.55      3772\n",
      "\n",
      "    accuracy                           0.41      9890\n",
      "   macro avg       0.56      0.51      0.34      9890\n",
      "weighted avg       0.60      0.41      0.30      9890\n",
      "\n"
     ]
    }
   ],
   "source": [
    "param_grid = {}\n",
    "\n",
    "model = GaussianNB()\n",
    "sk_model(param_grid=param_grid,\n",
    "        model=model,\n",
    "        cv=5,\n",
    "        independent=True\n",
    ")"
   ]
  },
  {
   "cell_type": "markdown",
   "id": "22aa7c4f-a615-4633-b44f-f9ee7096eb3f",
   "metadata": {},
   "source": [
    "## logistic regression<a id='logistic_regression'></a>"
   ]
  },
  {
   "cell_type": "code",
   "execution_count": 19,
   "id": "d2b5f04e-dd91-410e-896f-beff1b7daf8b",
   "metadata": {
    "tags": []
   },
   "outputs": [
    {
     "name": "stdout",
     "output_type": "stream",
     "text": [
      "best params: {'C': 0.01, 'penalty': 'l2'}\n",
      "              precision    recall  f1-score   support\n",
      "\n",
      "       False       0.66      0.90      0.76      6118\n",
      "        True       0.59      0.24      0.34      3772\n",
      "\n",
      "    accuracy                           0.65      9890\n",
      "   macro avg       0.62      0.57      0.55      9890\n",
      "weighted avg       0.63      0.65      0.60      9890\n",
      "\n"
     ]
    }
   ],
   "source": [
    "param_grid = {\n",
    "    'C': [0.001, 0.01, 0.1, 1, 10, 100],\n",
    "    'penalty': ['l1','l2']\n",
    "}\n",
    "\n",
    "model = cuml.LogisticRegression(solver='qn')\n",
    "sk_model(param_grid=param_grid,\n",
    "         model=model,\n",
    "         cv=cross_validation,\n",
    "         independent=True)"
   ]
  },
  {
   "cell_type": "markdown",
   "id": "7d1213ee-b1bc-4d6b-8299-134d4fb961d2",
   "metadata": {},
   "source": [
    "## random forest<a id='random_forest'></a>"
   ]
  },
  {
   "cell_type": "code",
   "execution_count": 20,
   "id": "a4c72243-3a3d-48c7-9435-b841eda37d61",
   "metadata": {
    "tags": []
   },
   "outputs": [
    {
     "name": "stderr",
     "output_type": "stream",
     "text": [
      "/home/jesse/miniconda3/envs/rapids/lib/python3.10/site-packages/cuml/internals/api_decorators.py:188: UserWarning: To use pickling first train using float32 data to fit the estimator\n",
      "  ret = func(*args, **kwargs)\n"
     ]
    },
    {
     "name": "stdout",
     "output_type": "stream",
     "text": [
      "best params: {'max_depth': 10, 'min_samples_leaf': 4, 'min_samples_split': 2, 'n_estimators': 200}\n",
      "              precision    recall  f1-score   support\n",
      "\n",
      "       False       0.65      0.93      0.76      6118\n",
      "        True       0.62      0.20      0.30      3772\n",
      "\n",
      "    accuracy                           0.65      9890\n",
      "   macro avg       0.64      0.56      0.53      9890\n",
      "weighted avg       0.64      0.65      0.59      9890\n",
      "\n"
     ]
    }
   ],
   "source": [
    "param_grid = {\n",
    "    'n_estimators': [50, 100, 200],\n",
    "    'max_depth': [10, 20, 30],\n",
    "    'min_samples_split': [2, 5, 10],\n",
    "    'min_samples_leaf': [1, 2, 4]\n",
    "}\n",
    "\n",
    "model = RandomForestClassifier()\n",
    "sk_model(param_grid=param_grid,\n",
    "         model=model,\n",
    "         cv=cross_validation,\n",
    "         independent=True)"
   ]
  },
  {
   "cell_type": "markdown",
   "id": "5097b3e7",
   "metadata": {},
   "source": [
    "## support vector machine<a id='svm'></a>"
   ]
  },
  {
   "cell_type": "code",
   "execution_count": 27,
   "id": "8d1171de",
   "metadata": {},
   "outputs": [
    {
     "data": {
      "text/plain": [
       "['handle',\n",
       " 'verbose',\n",
       " 'output_type',\n",
       " 'C',\n",
       " 'kernel',\n",
       " 'degree',\n",
       " 'gamma',\n",
       " 'coef0',\n",
       " 'tol',\n",
       " 'cache_size',\n",
       " 'max_iter',\n",
       " 'nochange_steps',\n",
       " 'probability',\n",
       " 'random_state',\n",
       " 'class_weight',\n",
       " 'multiclass_strategy']"
      ]
     },
     "execution_count": 27,
     "metadata": {},
     "output_type": "execute_result"
    }
   ],
   "source": [
    "svc = SVC()\n",
    "\n",
    "svc.get_param_names()"
   ]
  },
  {
   "cell_type": "code",
   "execution_count": 29,
   "id": "0f0bdf04",
   "metadata": {},
   "outputs": [],
   "source": [
    "param_grid = {\n",
    "    'C': [0.1, 1, 10, 100, 1000],  \n",
    "    'gamma': [1, 0.1, 0.01, 0.001, 0.0001], \n",
    "    'kernel': ['rbf', 'poly']\n",
    "}\n",
    "\n",
    "model = SVC()\n",
    "\n",
    "sk_model(param_grid=param_grid,\n",
    "         model=model,\n",
    "         cv=cross_validation,\n",
    "         independent=False\n",
    ")\n"
   ]
  },
  {
   "cell_type": "code",
   "execution_count": null,
   "id": "372e9aae",
   "metadata": {},
   "outputs": [],
   "source": [
    "## gradient boosting<a id='gradient_boosting'></a>"
   ]
  },
  {
   "cell_type": "code",
   "execution_count": null,
   "id": "a2b1e8f0",
   "metadata": {},
   "outputs": [],
   "source": [
    "from cuml.ensemble import GradientBoostingClassifier\n",
    "\n",
    "model = GradientBoostingClassifier()\n",
    "model.fit(X_train_ind, y_train_ind)"
   ]
  }
 ],
 "metadata": {
  "kernelspec": {
   "display_name": "Python 3 (ipykernel)",
   "language": "python",
   "name": "python3"
  },
  "language_info": {
   "codemirror_mode": {
    "name": "ipython",
    "version": 3
   },
   "file_extension": ".py",
   "mimetype": "text/x-python",
   "name": "python",
   "nbconvert_exporter": "python",
   "pygments_lexer": "ipython3",
   "version": "3.10.12"
  }
 },
 "nbformat": 4,
 "nbformat_minor": 5
}
