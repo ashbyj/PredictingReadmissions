{
 "cells": [
  {
   "cell_type": "code",
   "execution_count": 76,
   "id": "64916c44-85e8-4398-ba19-92174bf634cf",
   "metadata": {
    "tags": []
   },
   "outputs": [],
   "source": [
    "import pandas as pd\n",
    "import numpy as np\n",
    "import cupy as cp\n",
    "from sklearn.naive_bayes import GaussianNB\n",
    "from sklearn.model_selection import GridSearchCV\n",
    "from sklearn.model_selection import StratifiedKFold\n",
    "from sklearn.metrics import classification_report\n",
    "from sklearn.base import BaseEstimator\n",
    "from cuml.ensemble import RandomForestClassifier\n",
    "import cudf\n",
    "import cuml\n",
    "from cuml.metrics import accuracy_score\n",
    "\n",
    "cp.random.seed(42)\n",
    "np.random.seed(42)\n"
   ]
  },
  {
   "cell_type": "code",
   "execution_count": 75,
   "id": "e52c4c4a-95af-4b34-b848-4aced0d72cc8",
   "metadata": {
    "tags": []
   },
   "outputs": [],
   "source": [
    "X_train = pd.read_parquet('../data/interim/X_train.parquet')\n",
    "X_test = pd.read_parquet('../data/interim/X_test.parquet')\n",
    "y_train = pd.read_parquet('../data/interim/y_train.parquet')\n",
    "y_test = pd.read_parquet('../data/interim/y_test.parquet')\n",
    "\n",
    "X_train_ind = X_train[X_train['is_independent'] == 1].copy()\n",
    "X_test_ind = X_test[X_test['is_independent'] == 1].copy()\n",
    "y_train_ind = y_train[y_train['is_independent'] == 1].copy()\n",
    "y_test_ind = y_test[y_test['is_independent'] == 1].copy()\n",
    "\n",
    "dataframes = [X_train, X_test, y_train, y_test, X_train_ind, X_test_ind, y_train_ind, y_test_ind]\n",
    "for df in dataframes:\n",
    "    df.drop('is_independent', axis=1, inplace=True)\n",
    "\n",
    "y_train = np.ravel(y_train)\n",
    "y_test = np.ravel(y_test)\n",
    "y_train_ind = np.ravel(y_train_ind)\n",
    "y_test_ind = np.ravel(y_test_ind)\n",
    "\n",
    "cross_validation = StratifiedKFold(n_splits=5, random_state=42, shuffle=True)"
   ]
  },
  {
   "cell_type": "code",
   "execution_count": 48,
   "id": "fedda295-7be7-49ee-a5d3-ee123190c2d0",
   "metadata": {
    "tags": []
   },
   "outputs": [],
   "source": [
    "def sk_model(param_grid, model, cv, independent=False):\n",
    "\n",
    "    X_train_local = X_train_ind if independent else X_train\n",
    "    y_train_local = y_train_ind if independent else y_train\n",
    "    X_test_local = X_test_ind if independent else X_test\n",
    "    y_test_local = y_test_ind if independent else y_test\n",
    "    \n",
    "    grid_search = GridSearchCV(estimator=model, param_grid=param_grid, cv=cv)\n",
    "    grid_search.fit(X_train_local, y_train_local)\n",
    "\n",
    "    best_model = grid_search.best_estimator_\n",
    "    y_pred = best_model.predict(X_test_local)\n",
    "    report = classification_report(y_test_local, y_pred)\n",
    "    print(f'best params: {grid_search.best_params_}')\n",
    "    print(report)"
   ]
  },
  {
   "cell_type": "markdown",
   "id": "02b0daf0-157f-40e7-9ca6-34d304b1112b",
   "metadata": {},
   "source": [
    "## naive bayes<a id='naive bayes'></a>"
   ]
  },
  {
   "cell_type": "code",
   "execution_count": 7,
   "id": "cba9cd8d-7590-489b-a235-4830fb9f66b4",
   "metadata": {
    "tags": []
   },
   "outputs": [
    {
     "name": "stdout",
     "output_type": "stream",
     "text": [
      "best params: {}\n",
      "              precision    recall  f1-score   support\n",
      "\n",
      "       False       0.72      0.08      0.14      6118\n",
      "        True       0.39      0.95      0.55      3772\n",
      "\n",
      "    accuracy                           0.41      9890\n",
      "   macro avg       0.56      0.51      0.34      9890\n",
      "weighted avg       0.60      0.41      0.30      9890\n",
      "\n"
     ]
    }
   ],
   "source": [
    "param_grid = {}\n",
    "\n",
    "model = GaussianNB()\n",
    "sk_model(param_grid=param_grid,\n",
    "        model=model,\n",
    "        cv=5,\n",
    "        independent=True\n",
    ")"
   ]
  },
  {
   "cell_type": "markdown",
   "id": "22aa7c4f-a615-4633-b44f-f9ee7096eb3f",
   "metadata": {},
   "source": [
    "## logistic regression<a id='logistic_regression'></a>"
   ]
  },
  {
   "cell_type": "code",
   "execution_count": 72,
   "id": "d2b5f04e-dd91-410e-896f-beff1b7daf8b",
   "metadata": {
    "tags": []
   },
   "outputs": [
    {
     "name": "stdout",
     "output_type": "stream",
     "text": [
      "best params: {'C': 0.01, 'penalty': 'l2'}\n",
      "              precision    recall  f1-score   support\n",
      "\n",
      "       False       0.66      0.90      0.76      6118\n",
      "        True       0.59      0.24      0.34      3772\n",
      "\n",
      "    accuracy                           0.65      9890\n",
      "   macro avg       0.62      0.57      0.55      9890\n",
      "weighted avg       0.63      0.65      0.60      9890\n",
      "\n"
     ]
    }
   ],
   "source": [
    "X_train_cudf = cudf.DataFrame.from_pandas(X_train_ind)\n",
    "y_train_cudf = cudf.Series(y_train_ind)\n",
    "X_train_cp = cp.asarray(X_train_cudf.to_pandas().values)\n",
    "y_train_cp = cp.asarray(y_train_cudf.to_pandas().values)\n",
    "    \n",
    "param_grid = {\n",
    "    'C': [0.001, 0.01, 0.1, 1, 10, 100],\n",
    "    'penalty': ['l1','l2']\n",
    "}\n",
    "\n",
    "cuml_model = cuml.LogisticRegression(solver='qn')\n",
    "grid_search = GridSearchCV(cuml_model, param_grid, cv=cross_validation)\n",
    "grid_search.fit(X_train_cp.get(), y_train_cp.get())\n",
    "\n",
    "best_model = grid_search.best_estimator_\n",
    "y_pred = best_model.predict(X_test_ind)\n",
    "report = classification_report(y_test_ind, y_pred)\n",
    "print(f'best params: {grid_search.best_params_}')\n",
    "print(report)\n"
   ]
  },
  {
   "cell_type": "markdown",
   "id": "7d1213ee-b1bc-4d6b-8299-134d4fb961d2",
   "metadata": {},
   "source": [
    "## random forest<a id='random_forest'></a>"
   ]
  },
  {
   "cell_type": "code",
   "execution_count": 80,
   "id": "a4c72243-3a3d-48c7-9435-b841eda37d61",
   "metadata": {
    "tags": []
   },
   "outputs": [
    {
     "name": "stderr",
     "output_type": "stream",
     "text": [
      "/home/jesse/miniconda3/envs/rapids/lib/python3.10/site-packages/cuml/internals/api_decorators.py:188: UserWarning: To use pickling first train using float32 data to fit the estimator\n",
      "  ret = func(*args, **kwargs)\n",
      "/home/jesse/miniconda3/envs/rapids/lib/python3.10/site-packages/sklearn/model_selection/_validation.py:425: FitFailedWarning: \n",
      "135 fits failed out of a total of 540.\n",
      "The score on these train-test partitions for these parameters will be set to nan.\n",
      "If these failures are not expected, you can try to debug them by setting error_score='raise'.\n",
      "\n",
      "Below are more details about the failures:\n",
      "--------------------------------------------------------------------------------\n",
      "135 fits failed with the following error:\n",
      "Traceback (most recent call last):\n",
      "  File \"/home/jesse/miniconda3/envs/rapids/lib/python3.10/site-packages/sklearn/model_selection/_validation.py\", line 732, in _fit_and_score\n",
      "    estimator.fit(X_train, y_train, **fit_params)\n",
      "  File \"/home/jesse/miniconda3/envs/rapids/lib/python3.10/site-packages/nvtx/nvtx.py\", line 101, in inner\n",
      "    result = func(*args, **kwargs)\n",
      "  File \"/home/jesse/miniconda3/envs/rapids/lib/python3.10/site-packages/cuml/internals/api_decorators.py\", line 188, in wrapper\n",
      "    ret = func(*args, **kwargs)\n",
      "  File \"randomforestclassifier.pyx\", line 466, in cuml.ensemble.randomforestclassifier.RandomForestClassifier.fit\n",
      "TypeError: an integer is required\n",
      "\n",
      "  warnings.warn(some_fits_failed_message, FitFailedWarning)\n",
      "/home/jesse/miniconda3/envs/rapids/lib/python3.10/site-packages/sklearn/model_selection/_search.py:976: UserWarning: One or more of the test scores are non-finite: [       nan        nan        nan        nan        nan        nan\n",
      "        nan        nan        nan        nan        nan        nan\n",
      "        nan        nan        nan        nan        nan        nan\n",
      "        nan        nan        nan        nan        nan        nan\n",
      "        nan        nan        nan 0.64288602 0.64384636 0.64339147\n",
      " 0.64301238 0.64361889 0.64258276 0.64321457 0.64288602 0.64286075\n",
      " 0.64263331 0.6427344  0.64286075 0.64278494 0.64250695 0.6423806\n",
      " 0.64260803 0.64222897 0.64329036 0.64238061 0.64250695 0.64394743\n",
      " 0.64238061 0.64250695 0.64394743 0.64270911 0.64235532 0.64313874\n",
      " 0.63843821 0.64056104 0.64169825 0.63800859 0.63960069 0.6423806\n",
      " 0.63932272 0.64190043 0.64311347 0.63965126 0.64126865 0.64233005\n",
      " 0.63909527 0.64073793 0.64268385 0.64083902 0.64331564 0.64341674\n",
      " 0.64142026 0.64308819 0.64303766 0.64142026 0.64308819 0.64303766\n",
      " 0.64167298 0.64167299 0.64318929 0.63404094 0.63578469 0.63745261\n",
      " 0.63477381 0.63651757 0.6392469  0.63525399 0.63692192 0.64071267\n",
      " 0.6358605  0.63864038 0.64033358 0.6361385  0.63856457 0.6399545\n",
      " 0.63833712 0.64083903 0.6410412  0.6398787  0.6410412  0.64200152\n",
      " 0.6398787  0.6410412  0.64200152 0.63992925 0.64083902 0.64164772]\n",
      "  warnings.warn(\n"
     ]
    },
    {
     "name": "stdout",
     "output_type": "stream",
     "text": [
      "best params: {'max_depth': 10, 'min_samples_leaf': 4, 'min_samples_split': 2, 'n_estimators': 200}\n",
      "              precision    recall  f1-score   support\n",
      "\n",
      "       False       0.65      0.93      0.76      6118\n",
      "        True       0.62      0.20      0.30      3772\n",
      "\n",
      "    accuracy                           0.65      9890\n",
      "   macro avg       0.64      0.56      0.53      9890\n",
      "weighted avg       0.64      0.65      0.59      9890\n",
      "\n"
     ]
    }
   ],
   "source": [
    "param_grid = {\n",
    "    'n_estimators': [50, 100, 200],\n",
    "    'max_depth': [None, 10, 20, 30],\n",
    "    'min_samples_split': [2, 5, 10],\n",
    "    'min_samples_leaf': [1, 2, 4]\n",
    "}\n",
    "\n",
    "model = RandomForestClassifier()\n",
    "grid_search = GridSearchCV(model, param_grid, cv=cross_validation)\n",
    "grid_search.fit(X_train_cp.get(), y_train_cp.get())\n",
    "\n",
    "best_model = grid_search.best_estimator_\n",
    "y_pred = best_model.predict(X_test_ind)\n",
    "report = classification_report(y_test_ind, y_pred)\n",
    "print(f'best params: {grid_search.best_params_}')\n",
    "print(report)"
   ]
  },
  {
   "cell_type": "code",
   "execution_count": null,
   "id": "cb8b8122-1968-4f5c-9e10-645c4294a865",
   "metadata": {},
   "outputs": [],
   "source": []
  }
 ],
 "metadata": {
  "kernelspec": {
   "display_name": "Python 3 (ipykernel)",
   "language": "python",
   "name": "python3"
  },
  "language_info": {
   "codemirror_mode": {
    "name": "ipython",
    "version": 3
   },
   "file_extension": ".py",
   "mimetype": "text/x-python",
   "name": "python",
   "nbconvert_exporter": "python",
   "pygments_lexer": "ipython3",
   "version": "3.10.12"
  }
 },
 "nbformat": 4,
 "nbformat_minor": 5
}
