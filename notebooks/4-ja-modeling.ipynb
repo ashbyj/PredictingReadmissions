{
 "cells": [
  {
   "cell_type": "markdown",
   "id": "f4b34394",
   "metadata": {},
   "source": [
    "# todo\n",
    "- create new environment with limited packages\n",
    "- separate model training from roc curve plot\n",
    "- random forest repeatable \n",
    "- svm repeatable\n",
    "- adaboost repeatable \n",
    "- add the notes"
   ]
  },
  {
   "cell_type": "markdown",
   "id": "227124b1",
   "metadata": {},
   "source": [
    "## contents\n",
    "* [introduction](#introduction)\n",
    "* [imports, load and model tester](#imports)\n",
    "* [naive bayes](#naive_bayes')\n",
    "* [logistic regression](#logistic_regression)\n",
    "* [random forest](#random_forest)\n",
    "* [AdaBoost](#adaboost)\n",
    "* [support vector machine](#svm)\n",
    "* [model selection and conclusion](#conclusion)"
   ]
  },
  {
   "cell_type": "markdown",
   "id": "76eb4768",
   "metadata": {},
   "source": [
    "## introduction <a id='introduction'></a>"
   ]
  },
  {
   "cell_type": "markdown",
   "id": "5a185373",
   "metadata": {},
   "source": [
    "## imports, load and model tester<a id='imports'></a>"
   ]
  },
  {
   "cell_type": "code",
   "execution_count": null,
   "id": "64916c44-85e8-4398-ba19-92174bf634cf",
   "metadata": {
    "tags": []
   },
   "outputs": [],
   "source": [
    "import pandas as pd\n",
    "import numpy as np\n",
    "import matplotlib.pyplot as plt\n",
    "import warnings\n",
    "\n",
    "from sklearn.model_selection import GridSearchCV\n",
    "from sklearn.model_selection import StratifiedKFold\n",
    "from sklearn.metrics import classification_report\n",
    "from sklearn.metrics import roc_curve, auc\n",
    "from sklearn.naive_bayes import GaussianNB\n",
    "from sklearn.linear_model import LogisticRegression\n",
    "from sklearn.ensemble import RandomForestClassifier\n",
    "from sklearn.ensemble import AdaBoostClassifier\n",
    "\n",
    "\n",
    "from sklearnex import patch_sklearn, config_context\n",
    "patch_sklearn()\n",
    "\n",
    "warnings.filterwarnings('ignore')\n",
    "%matplotlib inline\n"
   ]
  },
  {
   "cell_type": "code",
   "execution_count": null,
   "id": "e52c4c4a-95af-4b34-b848-4aced0d72cc8",
   "metadata": {
    "tags": []
   },
   "outputs": [],
   "source": [
    "X_train = pd.read_parquet('../data/interim/X_train.parquet')\n",
    "X_test = pd.read_parquet('../data/interim/X_test.parquet')\n",
    "y_train = pd.read_parquet('../data/interim/y_train.parquet')\n",
    "y_test = pd.read_parquet('../data/interim/y_test.parquet')\n",
    "\n",
    "X_train_ind = X_train[X_train['is_independent'] == 1].copy()\n",
    "X_test_ind = X_test[X_test['is_independent'] == 1].copy()\n",
    "y_train_ind = y_train[y_train['is_independent'] == 1].copy()\n",
    "y_test_ind = y_test[y_test['is_independent'] == 1].copy()\n",
    "\n",
    "dataframes = [X_train, X_test, y_train, y_test, X_train_ind, X_test_ind, y_train_ind, y_test_ind]\n",
    "for df in dataframes:\n",
    "    df.drop('is_independent', axis=1, inplace=True)\n",
    "\n",
    "y_train = np.ravel(y_train)\n",
    "y_test = np.ravel(y_test)\n",
    "y_train_ind = np.ravel(y_train_ind)\n",
    "y_test_ind = np.ravel(y_test_ind)\n",
    "\n",
    "cross_validation = StratifiedKFold(n_splits=5, random_state=42, shuffle=True)"
   ]
  },
  {
   "cell_type": "code",
   "execution_count": null,
   "id": "fedda295-7be7-49ee-a5d3-ee123190c2d0",
   "metadata": {
    "tags": []
   },
   "outputs": [],
   "source": [
    "def sk_model(param_grid, model, cv, independent=False):\n",
    "\n",
    "    X_train_local = X_train_ind if independent else X_train\n",
    "    y_train_local = y_train_ind if independent else y_train\n",
    "    X_test_local = X_test_ind if independent else X_test\n",
    "    y_test_local = y_test_ind if independent else y_test\n",
    "    \n",
    "    grid_search = GridSearchCV(\n",
    "            estimator=model, \n",
    "            param_grid=param_grid, \n",
    "            cv=cv)\n",
    "    \n",
    "    with config_context(target_offload=\"gpu:0\"):\n",
    "        grid_search.fit(X_train_local, y_train_local)\n",
    "\n",
    "    best_model = grid_search.best_estimator_\n",
    "    y_pred = best_model.predict_proba(X_test_local)[:, 1]\n",
    "    fpr, tpr, _ = roc_curve(y_test_local, y_pred)\n",
    "    roc_auc = auc(fpr, tpr)\n",
    "\n",
    "    plt.figure(figsize=(8, 8))\n",
    "    plt.plot(fpr, tpr, color='darkorange', lw=2, label='ROC curve (area = %0.2f)' % roc_auc)\n",
    "    plt.plot([0, 1], [0, 1], color='navy', lw=2, linestyle='--')\n",
    "    plt.xlim([0, 1])\n",
    "    plt.ylim([0, 1.05])\n",
    "    plt.xlabel('false positive rate')\n",
    "    plt.ylabel('true positive rate')\n",
    "    plt.legend(loc='lower right')\n",
    "    plt.show()\n"
   ]
  },
  {
   "cell_type": "markdown",
   "id": "02b0daf0-157f-40e7-9ca6-34d304b1112b",
   "metadata": {},
   "source": [
    "## naive bayes<a id='naive_bayes'></a>"
   ]
  },
  {
   "cell_type": "code",
   "execution_count": null,
   "id": "cba9cd8d-7590-489b-a235-4830fb9f66b4",
   "metadata": {
    "tags": []
   },
   "outputs": [],
   "source": [
    "param_grid = {}\n",
    "\n",
    "model = GaussianNB()\n",
    "sk_model(param_grid=param_grid,\n",
    "        model=model,\n",
    "        cv=5,\n",
    "        independent=True\n",
    ")"
   ]
  },
  {
   "cell_type": "markdown",
   "id": "22aa7c4f-a615-4633-b44f-f9ee7096eb3f",
   "metadata": {},
   "source": [
    "## logistic regression<a id='logistic_regression'></a>"
   ]
  },
  {
   "cell_type": "code",
   "execution_count": null,
   "id": "d2b5f04e-dd91-410e-896f-beff1b7daf8b",
   "metadata": {
    "tags": []
   },
   "outputs": [],
   "source": [
    "param_grid = {\n",
    "    'C': [0.001, 0.01, 0.1, 1, 10, 100],\n",
    "    'penalty': ['l1','l2']\n",
    "}\n",
    "\n",
    "model = LogisticRegression(solver='liblinear', random_state=42)\n",
    "sk_model(param_grid=param_grid,\n",
    "         model=model,\n",
    "         cv=cross_validation,\n",
    "         independent=True\n",
    ")"
   ]
  },
  {
   "cell_type": "markdown",
   "id": "7d1213ee-b1bc-4d6b-8299-134d4fb961d2",
   "metadata": {},
   "source": [
    "## random forest<a id='random_forest'></a>"
   ]
  },
  {
   "cell_type": "code",
   "execution_count": null,
   "id": "a4c72243-3a3d-48c7-9435-b841eda37d61",
   "metadata": {
    "tags": []
   },
   "outputs": [],
   "source": [
    "param_grid = {\n",
    "    'n_estimators': [50, 100, 200],\n",
    "    'max_depth': [10, 20, 30],\n",
    "    'min_samples_split': [2, 5, 10],\n",
    "    'min_samples_leaf': [1, 2, 4]\n",
    "}\n",
    "\n",
    "model = RandomForestClassifier()\n",
    "sk_model(param_grid=param_grid,\n",
    "         model=model,\n",
    "         cv=cross_validation,\n",
    "         independent=True)"
   ]
  },
  {
   "cell_type": "markdown",
   "id": "372e9aae",
   "metadata": {},
   "source": [
    "## AdaBoost<a id='adaboost'></a>"
   ]
  },
  {
   "cell_type": "code",
   "execution_count": null,
   "id": "a2b1e8f0",
   "metadata": {},
   "outputs": [],
   "source": [
    "param_grid = {\n",
    "    'n_estimators': [25, 50, 100, 200],  \n",
    "    'learning_rate': [0.5, 1, 1.5]\n",
    "}\n",
    "\n",
    "model = AdaBoostClassifier()\n",
    "\n",
    "sk_model(param_grid=param_grid,\n",
    "         model=model,\n",
    "         cv=cross_validation,\n",
    "         independent=True\n",
    ")\n"
   ]
  },
  {
   "cell_type": "markdown",
   "id": "5097b3e7",
   "metadata": {},
   "source": [
    "## support vector machine<a id='svm'></a>"
   ]
  },
  {
   "cell_type": "code",
   "execution_count": null,
   "id": "0f0bdf04",
   "metadata": {},
   "outputs": [],
   "source": [
    "param_grid = {\n",
    "    'C': [0.1, 1, 10, 100, 1000],  \n",
    "    'gamma': [1, 0.1, 0.01, 0.001, 0.0001], \n",
    "    'kernel': ['rbf', 'poly']\n",
    "}\n",
    "\n",
    "model = SVC()\n",
    "\n",
    "sk_model(param_grid=param_grid,\n",
    "         model=model,\n",
    "         cv=cross_validation,\n",
    "         independent=False\n",
    ")\n"
   ]
  },
  {
   "cell_type": "markdown",
   "id": "128a8d47",
   "metadata": {},
   "source": [
    "## conclusion <a id='conclusion'></a>"
   ]
  },
  {
   "cell_type": "markdown",
   "id": "fb3ea9a6",
   "metadata": {},
   "source": []
  }
 ],
 "metadata": {
  "kernelspec": {
   "display_name": "Python 3 (ipykernel)",
   "language": "python",
   "name": "python3"
  },
  "language_info": {
   "codemirror_mode": {
    "name": "ipython",
    "version": 3
   },
   "file_extension": ".py",
   "mimetype": "text/x-python",
   "name": "python",
   "nbconvert_exporter": "python",
   "pygments_lexer": "ipython3",
   "version": "3.10.12"
  }
 },
 "nbformat": 4,
 "nbformat_minor": 5
}
