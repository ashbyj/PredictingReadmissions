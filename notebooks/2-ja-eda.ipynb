{
 "cells": [
  {
   "cell_type": "markdown",
   "metadata": {},
   "source": [
    "# exploratory data analysis<a id='3_Exploratory_Data_Analysis'></a>"
   ]
  },
  {
   "cell_type": "markdown",
   "metadata": {},
   "source": [
    "## contents\n",
    "* [introduction](#introduction)\n",
    "* [imports and load](#imports_and_load)\n",
    "* [exploration](#exploration_start)\n",
    "    - [check for bias](#bias_check)\n",
    "        - [bias in race](#race)\n",
    "        - [type of diabetes](#type)\n",
    "    - [demographic visualizations](#demo_viz)\n"
   ]
  },
  {
   "cell_type": "markdown",
   "metadata": {},
   "source": [
    "## introduction<a id='introduction'></a>"
   ]
  },
  {
   "cell_type": "markdown",
   "metadata": {},
   "source": [
    "The goal of this analysis will be to understand this data more fully.  This exploration will inform modelling decisions and possibly reveal insights itself.  This work will include reviewing distributions, scaling, encoding and testing interactions.  Additional data may be merged during exploration as needed and available."
   ]
  },
  {
   "cell_type": "markdown",
   "metadata": {},
   "source": [
    "## imports and load<a id='imports_and_load'></a>"
   ]
  },
  {
   "cell_type": "code",
   "execution_count": 1,
   "metadata": {},
   "outputs": [],
   "source": [
    "import pandas as pd\n",
    "from numpy import random\n",
    "import seaborn as sns\n"
   ]
  },
  {
   "cell_type": "markdown",
   "metadata": {},
   "source": [
    "Pip requirements for reproducibility"
   ]
  },
  {
   "cell_type": "code",
   "execution_count": 2,
   "metadata": {},
   "outputs": [
    {
     "name": "stdout",
     "output_type": "stream",
     "text": [
      "Note: you may need to restart the kernel to use updated packages.\n"
     ]
    }
   ],
   "source": [
    "pip list --format=freeze > requirements-2-ja-eda.ipynb.txt"
   ]
  },
  {
   "cell_type": "markdown",
   "metadata": {},
   "source": [
    "Start with the output of the data wrangling and confirm load"
   ]
  },
  {
   "cell_type": "code",
   "execution_count": 3,
   "metadata": {},
   "outputs": [
    {
     "name": "stdout",
     "output_type": "stream",
     "text": [
      "(101727, 38)\n"
     ]
    },
    {
     "data": {
      "text/html": [
       "<div>\n",
       "<style scoped>\n",
       "    .dataframe tbody tr th:only-of-type {\n",
       "        vertical-align: middle;\n",
       "    }\n",
       "\n",
       "    .dataframe tbody tr th {\n",
       "        vertical-align: top;\n",
       "    }\n",
       "\n",
       "    .dataframe thead th {\n",
       "        text-align: right;\n",
       "    }\n",
       "</style>\n",
       "<table border=\"1\" class=\"dataframe\">\n",
       "  <thead>\n",
       "    <tr style=\"text-align: right;\">\n",
       "      <th></th>\n",
       "      <th>patient_nbr</th>\n",
       "      <th>race</th>\n",
       "      <th>gender</th>\n",
       "      <th>age</th>\n",
       "      <th>admission_type_id</th>\n",
       "      <th>discharge_disposition_id</th>\n",
       "      <th>admission_source_id</th>\n",
       "      <th>time_in_hospital</th>\n",
       "      <th>num_lab_procedures</th>\n",
       "      <th>num_procedures</th>\n",
       "      <th>...</th>\n",
       "      <th>pioglitazone</th>\n",
       "      <th>rosiglitazone</th>\n",
       "      <th>acarbose</th>\n",
       "      <th>miglitol</th>\n",
       "      <th>tolazamide</th>\n",
       "      <th>insulin</th>\n",
       "      <th>glyburide-metformin</th>\n",
       "      <th>change</th>\n",
       "      <th>diabetesMed</th>\n",
       "      <th>readmitted</th>\n",
       "    </tr>\n",
       "    <tr>\n",
       "      <th>encounter_id</th>\n",
       "      <th></th>\n",
       "      <th></th>\n",
       "      <th></th>\n",
       "      <th></th>\n",
       "      <th></th>\n",
       "      <th></th>\n",
       "      <th></th>\n",
       "      <th></th>\n",
       "      <th></th>\n",
       "      <th></th>\n",
       "      <th></th>\n",
       "      <th></th>\n",
       "      <th></th>\n",
       "      <th></th>\n",
       "      <th></th>\n",
       "      <th></th>\n",
       "      <th></th>\n",
       "      <th></th>\n",
       "      <th></th>\n",
       "      <th></th>\n",
       "      <th></th>\n",
       "    </tr>\n",
       "  </thead>\n",
       "  <tbody>\n",
       "    <tr>\n",
       "      <th>2278392</th>\n",
       "      <td>8222157</td>\n",
       "      <td>Caucasian</td>\n",
       "      <td>Female</td>\n",
       "      <td>[0-10)</td>\n",
       "      <td>Other</td>\n",
       "      <td>Other</td>\n",
       "      <td>physicial referral</td>\n",
       "      <td>1</td>\n",
       "      <td>41</td>\n",
       "      <td>0</td>\n",
       "      <td>...</td>\n",
       "      <td>No</td>\n",
       "      <td>No</td>\n",
       "      <td>No</td>\n",
       "      <td>No</td>\n",
       "      <td>No</td>\n",
       "      <td>No</td>\n",
       "      <td>No</td>\n",
       "      <td>No</td>\n",
       "      <td>No</td>\n",
       "      <td>NO</td>\n",
       "    </tr>\n",
       "    <tr>\n",
       "      <th>149190</th>\n",
       "      <td>55629189</td>\n",
       "      <td>Caucasian</td>\n",
       "      <td>Female</td>\n",
       "      <td>[10-20)</td>\n",
       "      <td>emergency</td>\n",
       "      <td>home</td>\n",
       "      <td>emergency room</td>\n",
       "      <td>3</td>\n",
       "      <td>59</td>\n",
       "      <td>0</td>\n",
       "      <td>...</td>\n",
       "      <td>No</td>\n",
       "      <td>No</td>\n",
       "      <td>No</td>\n",
       "      <td>No</td>\n",
       "      <td>No</td>\n",
       "      <td>Up</td>\n",
       "      <td>No</td>\n",
       "      <td>Ch</td>\n",
       "      <td>Yes</td>\n",
       "      <td>&gt;30</td>\n",
       "    </tr>\n",
       "    <tr>\n",
       "      <th>64410</th>\n",
       "      <td>86047875</td>\n",
       "      <td>AfricanAmerican</td>\n",
       "      <td>Female</td>\n",
       "      <td>[20-30)</td>\n",
       "      <td>emergency</td>\n",
       "      <td>home</td>\n",
       "      <td>emergency room</td>\n",
       "      <td>2</td>\n",
       "      <td>11</td>\n",
       "      <td>5</td>\n",
       "      <td>...</td>\n",
       "      <td>No</td>\n",
       "      <td>No</td>\n",
       "      <td>No</td>\n",
       "      <td>No</td>\n",
       "      <td>No</td>\n",
       "      <td>No</td>\n",
       "      <td>No</td>\n",
       "      <td>No</td>\n",
       "      <td>Yes</td>\n",
       "      <td>NO</td>\n",
       "    </tr>\n",
       "  </tbody>\n",
       "</table>\n",
       "<p>3 rows × 38 columns</p>\n",
       "</div>"
      ],
      "text/plain": [
       "              patient_nbr             race  gender      age admission_type_id  \\\n",
       "encounter_id                                                                    \n",
       "2278392           8222157        Caucasian  Female   [0-10)             Other   \n",
       "149190           55629189        Caucasian  Female  [10-20)         emergency   \n",
       "64410            86047875  AfricanAmerican  Female  [20-30)         emergency   \n",
       "\n",
       "             discharge_disposition_id admission_source_id  time_in_hospital  \\\n",
       "encounter_id                                                                  \n",
       "2278392                         Other  physicial referral                 1   \n",
       "149190                           home      emergency room                 3   \n",
       "64410                            home      emergency room                 2   \n",
       "\n",
       "              num_lab_procedures  num_procedures  ...  pioglitazone  \\\n",
       "encounter_id                                      ...                 \n",
       "2278392                       41               0  ...            No   \n",
       "149190                        59               0  ...            No   \n",
       "64410                         11               5  ...            No   \n",
       "\n",
       "              rosiglitazone  acarbose  miglitol tolazamide insulin  \\\n",
       "encounter_id                                                         \n",
       "2278392                  No        No        No         No      No   \n",
       "149190                   No        No        No         No      Up   \n",
       "64410                    No        No        No         No      No   \n",
       "\n",
       "             glyburide-metformin  change diabetesMed readmitted  \n",
       "encounter_id                                                     \n",
       "2278392                       No      No          No         NO  \n",
       "149190                        No      Ch         Yes        >30  \n",
       "64410                         No      No         Yes         NO  \n",
       "\n",
       "[3 rows x 38 columns]"
      ]
     },
     "execution_count": 3,
     "metadata": {},
     "output_type": "execute_result"
    }
   ],
   "source": [
    "admissions = pd.read_csv('../data/interim/notebook1_output.csv', \n",
    "                         index_col='encounter_id')\n",
    "print(admissions.shape)\n",
    "admissions.head(3)"
   ]
  },
  {
   "cell_type": "markdown",
   "metadata": {},
   "source": [
    "## exploration<a id='exploration_start'></a>"
   ]
  },
  {
   "cell_type": "markdown",
   "metadata": {},
   "source": [
    "### check for bias<a id='bias_check'></a>"
   ]
  },
  {
   "cell_type": "markdown",
   "metadata": {},
   "source": [
    "#### race<a id='race'></a>"
   ]
  },
  {
   "cell_type": "markdown",
   "metadata": {},
   "source": [
    "As there are demographics present, there is an opportunity to know if any particular group is over or under represented.  Race alone is the first target.  The 2000 [US Census](https://www2.census.gov/library/publications/decennial/2000/briefs/c2kbr01-01.pdf) reports a full population racial mix of 75.1% white and 12.3% black.\n",
    "\n",
    "The American Diabetes Association [ADA](https://diabetes.org/about-us/statistics/about-diabetes#:~:text=Diabetes%20by%20race%2Fethnicity&text=12.1%25%20of%20non%2DHispanic%20blacks,7.4%25%20of%20non%2DHispanic%20whites) reports that 12.1% of  non-hispanic blacks and 7.4% of non-hispanic whites have diabetes diagnoses.  Ethnicity was not captured in this dataset so cannot be tested.\n",
    "\n",
    "\n"
   ]
  },
  {
   "cell_type": "code",
   "execution_count": 4,
   "metadata": {},
   "outputs": [
    {
     "name": "stdout",
     "output_type": "stream",
     "text": [
      "unique race values: ['Caucasian' 'AfricanAmerican' 'Other']\n",
      "expected white fraction: 0.7078017567818881\n",
      "observed white fraction: 0.798421378564756\n",
      "expected black fraction: 0.29219824321811194\n",
      "observed black fraction: 0.201578621435244\n"
     ]
    }
   ],
   "source": [
    "print('unique race values:', admissions.race.unique())\n",
    "twoRace = admissions[admissions.race != 'Other']\n",
    "twoRace_counts = twoRace.race.value_counts()\n",
    "twoRace_fractions = twoRace.race.value_counts('normalize=True')\n",
    "\n",
    "adj_white_count = twoRace_counts['Caucasian'] * 7.4\n",
    "adj_black_count = twoRace_counts['AfricanAmerican'] * 12.1\n",
    "adj_total = adj_white_count + adj_black_count\n",
    "adj_white_perc = adj_white_count / adj_total\n",
    "adj_black_perc = adj_black_count / adj_total\n",
    "print('expected white fraction:', adj_white_perc)\n",
    "print('observed white fraction:', twoRace_fractions['Caucasian'])\n",
    "print('expected black fraction:', adj_black_perc)\n",
    "print('observed black fraction:', twoRace_fractions['AfricanAmerican'])\n"
   ]
  },
  {
   "cell_type": "markdown",
   "metadata": {},
   "source": [
    "To make this dataset unbiased, observations with a race value of \"Caucasian\" should make up ~71% of all observations.  The number of observations over that can be removed at random."
   ]
  },
  {
   "cell_type": "code",
   "execution_count": 5,
   "metadata": {},
   "outputs": [
    {
     "data": {
      "text/plain": [
       "Caucasian          0.710004\n",
       "AfricanAmerican    0.289996\n",
       "Name: race, dtype: float64"
      ]
     },
     "execution_count": 5,
     "metadata": {},
     "output_type": "execute_result"
    }
   ],
   "source": [
    "random.seed(42)\n",
    "count_black = twoRace.race.value_counts()['AfricanAmerican']\n",
    "count_white = twoRace.race.value_counts()['Caucasian']\n",
    "white_to_remove = int(count_white - (count_black / 0.29 - count_black ))\n",
    "raceWhite = twoRace[twoRace['race'] == 'Caucasian']\n",
    "raceWhite = raceWhite.sample(raceWhite.shape[0] - white_to_remove)\n",
    "raceBlack = twoRace[twoRace['race'] == 'AfricanAmerican']\n",
    "twoRace = pd.concat( [raceBlack, raceWhite])\n",
    "twoRace.race.value_counts('normalize=True')"
   ]
  },
  {
   "cell_type": "markdown",
   "metadata": {},
   "source": [
    "#### type of diabetes<a id='type'></a>"
   ]
  },
  {
   "cell_type": "markdown",
   "metadata": {},
   "source": [
    "From here, statistics vary widely on prevalance of type 1 and type 2 diabetes by gender and age.  In general, males are more likely to have diabetes than females, but the gap between the sexes is smaller for type 1.  This dataset does contain the first 3 diagnoses for each admission.  Both ICD9 and ICD10 diagnoses codes are used.  ICD9 codes for diabetes start with 250 and ICD10 codes for type 1 start with E10 and type 2 start with E11."
   ]
  },
  {
   "cell_type": "code",
   "execution_count": 7,
   "metadata": {},
   "outputs": [
    {
     "data": {
      "text/plain": [
       "0.6218346545866364"
      ]
     },
     "execution_count": 7,
     "metadata": {},
     "output_type": "execute_result"
    }
   ],
   "source": [
    "twoRace[~(twoRace['diag_1'].str.contains('250')) &\n",
    "        ~(twoRace['diag_1'].str.contains('E1')) &\n",
    "        ~(twoRace['diag_2'].str.contains('250')) & \n",
    "        ~(twoRace['diag_2'].str.contains('E1')) &\n",
    "        ~(twoRace['diag_3'].str.contains('250')) & \n",
    "        ~(twoRace['diag_3'].str.contains('E1')) \n",
    "       ].shape[0] / twoRace.shape[0] "
   ]
  },
  {
   "cell_type": "markdown",
   "metadata": {},
   "source": [
    "Unfortunately, 62% of the observations here don't have any diabetes type diagnoses codes included.  Demographic bias corrections end here."
   ]
  },
  {
   "cell_type": "markdown",
   "metadata": {},
   "source": [
    "### demographic visualizations <a id='demo_viz'></a>"
   ]
  },
  {
   "cell_type": "code",
   "execution_count": null,
   "metadata": {},
   "outputs": [],
   "source": []
  },
  {
   "cell_type": "code",
   "execution_count": null,
   "metadata": {},
   "outputs": [],
   "source": []
  }
 ],
 "metadata": {
  "kernelspec": {
   "display_name": "Python 3 (ipykernel)",
   "language": "python",
   "name": "python3"
  },
  "language_info": {
   "codemirror_mode": {
    "name": "ipython",
    "version": 3
   },
   "file_extension": ".py",
   "mimetype": "text/x-python",
   "name": "python",
   "nbconvert_exporter": "python",
   "pygments_lexer": "ipython3",
   "version": "3.10.6"
  },
  "vscode": {
   "interpreter": {
    "hash": "5d2c4c95cea2788f8c21345c0cb9e2ba3db7f736e3071a1d82fb5d0afbfa5ea3"
   }
  }
 },
 "nbformat": 4,
 "nbformat_minor": 4
}
