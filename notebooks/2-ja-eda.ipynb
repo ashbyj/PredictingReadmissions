{
 "cells": [
  {
   "attachments": {},
   "cell_type": "markdown",
   "metadata": {},
   "source": [
    "# exploratory data analysis<a id='3_Exploratory_Data_Analysis'></a>"
   ]
  },
  {
   "attachments": {},
   "cell_type": "markdown",
   "metadata": {},
   "source": [
    "## contents\n",
    "* [introduction](#introduction)\n",
    "* [imports and load](#imports_and_load)\n",
    "* [exploration](#exploration_start)\n",
    "    - [check for bias](#bias_check)\n",
    "        - [bias in race](#race)\n",
    "        - [type of diabetes](#type)\n",
    "    - [demographic visualizations](#demo_viz)\n",
    "    - [demographic readmit ratios](#demo_rat)\n",
    "    - [admission source and type](#admit_st)\n",
    "    - [admission measurements](#admit_metrics)"
   ]
  },
  {
   "attachments": {},
   "cell_type": "markdown",
   "metadata": {},
   "source": [
    "## introduction<a id='introduction'></a>"
   ]
  },
  {
   "attachments": {},
   "cell_type": "markdown",
   "metadata": {},
   "source": [
    "The goal of this analysis will be to understand this data more fully.  This exploration will inform modelling decisions and possibly reveal insights itself.  This work will include reviewing distributions, scaling, encoding and testing interactions.  Additional data may be merged during exploration as needed and available."
   ]
  },
  {
   "attachments": {},
   "cell_type": "markdown",
   "metadata": {},
   "source": [
    "## imports and load<a id='imports_and_load'></a>"
   ]
  },
  {
   "cell_type": "code",
   "execution_count": 1,
   "metadata": {
    "tags": []
   },
   "outputs": [
    {
     "name": "stderr",
     "output_type": "stream",
     "text": [
      "C:\\Users\\ashby\\AppData\\Local\\Temp\\ipykernel_19532\\1514250527.py:11: DeprecationWarning: `import pandas_profiling` is going to be deprecated by April 1st. Please use `import ydata_profiling` instead.\n",
      "  import pandas_profiling\n"
     ]
    }
   ],
   "source": [
    "import pandas as pd\n",
    "import numpy as np\n",
    "import seaborn as sns\n",
    "import matplotlib.pyplot as plt\n",
    "from scipy.stats import chi2_contingency\n",
    "from sklearn.linear_model import LogisticRegression\n",
    "from sklearn.model_selection import train_test_split\n",
    "from sklearn.metrics import accuracy_score\n",
    "from sklearn.preprocessing import OneHotEncoder\n",
    "import warnings \n",
    "import pandas_profiling\n",
    "import feather\n",
    "\n",
    "warnings.filterwarnings('ignore')\n",
    "%matplotlib inline"
   ]
  },
  {
   "attachments": {},
   "cell_type": "markdown",
   "metadata": {},
   "source": [
    "Pip requirements for reproducibility"
   ]
  },
  {
   "cell_type": "code",
   "execution_count": 2,
   "metadata": {},
   "outputs": [
    {
     "name": "stdout",
     "output_type": "stream",
     "text": [
      "Note: you may need to restart the kernel to use updated packages.\n"
     ]
    }
   ],
   "source": [
    "pip list --format=freeze > requirements-nb2.txt"
   ]
  },
  {
   "attachments": {},
   "cell_type": "markdown",
   "metadata": {},
   "source": [
    "Start with the output of the data wrangling and confirm load"
   ]
  },
  {
   "cell_type": "code",
   "execution_count": 3,
   "metadata": {},
   "outputs": [
    {
     "name": "stdout",
     "output_type": "stream",
     "text": [
      "(101727, 38)\n"
     ]
    },
    {
     "data": {
      "text/html": [
       "<div>\n",
       "<style scoped>\n",
       "    .dataframe tbody tr th:only-of-type {\n",
       "        vertical-align: middle;\n",
       "    }\n",
       "\n",
       "    .dataframe tbody tr th {\n",
       "        vertical-align: top;\n",
       "    }\n",
       "\n",
       "    .dataframe thead th {\n",
       "        text-align: right;\n",
       "    }\n",
       "</style>\n",
       "<table border=\"1\" class=\"dataframe\">\n",
       "  <thead>\n",
       "    <tr style=\"text-align: right;\">\n",
       "      <th></th>\n",
       "      <th>patient_nbr</th>\n",
       "      <th>race</th>\n",
       "      <th>gender</th>\n",
       "      <th>age</th>\n",
       "      <th>admission_type_id</th>\n",
       "      <th>discharge_disposition_id</th>\n",
       "      <th>admission_source_id</th>\n",
       "      <th>time_in_hospital</th>\n",
       "      <th>num_lab_procedures</th>\n",
       "      <th>num_procedures</th>\n",
       "      <th>...</th>\n",
       "      <th>pioglitazone</th>\n",
       "      <th>rosiglitazone</th>\n",
       "      <th>acarbose</th>\n",
       "      <th>miglitol</th>\n",
       "      <th>tolazamide</th>\n",
       "      <th>insulin</th>\n",
       "      <th>glyburide-metformin</th>\n",
       "      <th>change</th>\n",
       "      <th>diabetesMed</th>\n",
       "      <th>readmitted</th>\n",
       "    </tr>\n",
       "    <tr>\n",
       "      <th>encounter_id</th>\n",
       "      <th></th>\n",
       "      <th></th>\n",
       "      <th></th>\n",
       "      <th></th>\n",
       "      <th></th>\n",
       "      <th></th>\n",
       "      <th></th>\n",
       "      <th></th>\n",
       "      <th></th>\n",
       "      <th></th>\n",
       "      <th></th>\n",
       "      <th></th>\n",
       "      <th></th>\n",
       "      <th></th>\n",
       "      <th></th>\n",
       "      <th></th>\n",
       "      <th></th>\n",
       "      <th></th>\n",
       "      <th></th>\n",
       "      <th></th>\n",
       "      <th></th>\n",
       "    </tr>\n",
       "  </thead>\n",
       "  <tbody>\n",
       "    <tr>\n",
       "      <th>2278392</th>\n",
       "      <td>8222157</td>\n",
       "      <td>Caucasian</td>\n",
       "      <td>Female</td>\n",
       "      <td>[0-10)</td>\n",
       "      <td>Other</td>\n",
       "      <td>Other</td>\n",
       "      <td>physicial referral</td>\n",
       "      <td>1</td>\n",
       "      <td>41</td>\n",
       "      <td>0</td>\n",
       "      <td>...</td>\n",
       "      <td>No</td>\n",
       "      <td>No</td>\n",
       "      <td>No</td>\n",
       "      <td>No</td>\n",
       "      <td>No</td>\n",
       "      <td>No</td>\n",
       "      <td>No</td>\n",
       "      <td>No</td>\n",
       "      <td>No</td>\n",
       "      <td>NO</td>\n",
       "    </tr>\n",
       "    <tr>\n",
       "      <th>149190</th>\n",
       "      <td>55629189</td>\n",
       "      <td>Caucasian</td>\n",
       "      <td>Female</td>\n",
       "      <td>[10-20)</td>\n",
       "      <td>emergency</td>\n",
       "      <td>home</td>\n",
       "      <td>emergency room</td>\n",
       "      <td>3</td>\n",
       "      <td>59</td>\n",
       "      <td>0</td>\n",
       "      <td>...</td>\n",
       "      <td>No</td>\n",
       "      <td>No</td>\n",
       "      <td>No</td>\n",
       "      <td>No</td>\n",
       "      <td>No</td>\n",
       "      <td>Up</td>\n",
       "      <td>No</td>\n",
       "      <td>Ch</td>\n",
       "      <td>Yes</td>\n",
       "      <td>&gt;30</td>\n",
       "    </tr>\n",
       "    <tr>\n",
       "      <th>64410</th>\n",
       "      <td>86047875</td>\n",
       "      <td>AfricanAmerican</td>\n",
       "      <td>Female</td>\n",
       "      <td>[20-30)</td>\n",
       "      <td>emergency</td>\n",
       "      <td>home</td>\n",
       "      <td>emergency room</td>\n",
       "      <td>2</td>\n",
       "      <td>11</td>\n",
       "      <td>5</td>\n",
       "      <td>...</td>\n",
       "      <td>No</td>\n",
       "      <td>No</td>\n",
       "      <td>No</td>\n",
       "      <td>No</td>\n",
       "      <td>No</td>\n",
       "      <td>No</td>\n",
       "      <td>No</td>\n",
       "      <td>No</td>\n",
       "      <td>Yes</td>\n",
       "      <td>NO</td>\n",
       "    </tr>\n",
       "  </tbody>\n",
       "</table>\n",
       "<p>3 rows × 38 columns</p>\n",
       "</div>"
      ],
      "text/plain": [
       "              patient_nbr             race  gender      age admission_type_id  \\\n",
       "encounter_id                                                                    \n",
       "2278392           8222157        Caucasian  Female   [0-10)             Other   \n",
       "149190           55629189        Caucasian  Female  [10-20)         emergency   \n",
       "64410            86047875  AfricanAmerican  Female  [20-30)         emergency   \n",
       "\n",
       "             discharge_disposition_id admission_source_id  time_in_hospital  \\\n",
       "encounter_id                                                                  \n",
       "2278392                         Other  physicial referral                 1   \n",
       "149190                           home      emergency room                 3   \n",
       "64410                            home      emergency room                 2   \n",
       "\n",
       "              num_lab_procedures  num_procedures  ...  pioglitazone  \\\n",
       "encounter_id                                      ...                 \n",
       "2278392                       41               0  ...            No   \n",
       "149190                        59               0  ...            No   \n",
       "64410                         11               5  ...            No   \n",
       "\n",
       "              rosiglitazone  acarbose  miglitol tolazamide insulin  \\\n",
       "encounter_id                                                         \n",
       "2278392                  No        No        No         No      No   \n",
       "149190                   No        No        No         No      Up   \n",
       "64410                    No        No        No         No      No   \n",
       "\n",
       "             glyburide-metformin  change diabetesMed readmitted  \n",
       "encounter_id                                                     \n",
       "2278392                       No      No          No         NO  \n",
       "149190                        No      Ch         Yes        >30  \n",
       "64410                         No      No         Yes         NO  \n",
       "\n",
       "[3 rows x 38 columns]"
      ]
     },
     "execution_count": 3,
     "metadata": {},
     "output_type": "execute_result"
    }
   ],
   "source": [
    "admissions = feather.read_dataframe('../data/interim/notebook1_output.feather')\n",
    "print(admissions.shape)\n",
    "admissions.head(3)\n"
   ]
  },
  {
   "cell_type": "code",
   "execution_count": 4,
   "metadata": {},
   "outputs": [
    {
     "name": "stdout",
     "output_type": "stream",
     "text": [
      "<class 'pandas.core.frame.DataFrame'>\n",
      "Int64Index: 101727 entries, 2278392 to 443867222\n",
      "Data columns (total 38 columns):\n",
      " #   Column                    Non-Null Count   Dtype   \n",
      "---  ------                    --------------   -----   \n",
      " 0   patient_nbr               101727 non-null  int64   \n",
      " 1   race                      101727 non-null  object  \n",
      " 2   gender                    101727 non-null  object  \n",
      " 3   age                       101727 non-null  category\n",
      " 4   admission_type_id         101727 non-null  category\n",
      " 5   discharge_disposition_id  101727 non-null  category\n",
      " 6   admission_source_id       101727 non-null  category\n",
      " 7   time_in_hospital          101727 non-null  int64   \n",
      " 8   num_lab_procedures        101727 non-null  int64   \n",
      " 9   num_procedures            101727 non-null  int64   \n",
      " 10  num_medications           101727 non-null  int64   \n",
      " 11  number_outpatient         101727 non-null  int64   \n",
      " 12  number_emergency          101727 non-null  int64   \n",
      " 13  number_inpatient          101727 non-null  int64   \n",
      " 14  diag_1                    101727 non-null  object  \n",
      " 15  diag_2                    101727 non-null  object  \n",
      " 16  diag_3                    101727 non-null  object  \n",
      " 17  number_diagnoses          101727 non-null  int64   \n",
      " 18  max_glu_serum             101727 non-null  object  \n",
      " 19  A1Cresult                 101727 non-null  object  \n",
      " 20  metformin                 101727 non-null  object  \n",
      " 21  repaglinide               101727 non-null  object  \n",
      " 22  nateglinide               101727 non-null  object  \n",
      " 23  chlorpropamide            101727 non-null  object  \n",
      " 24  glimepiride               101727 non-null  object  \n",
      " 25  glipizide                 101727 non-null  object  \n",
      " 26  glyburide                 101727 non-null  object  \n",
      " 27  tolbutamide               101727 non-null  object  \n",
      " 28  pioglitazone              101727 non-null  object  \n",
      " 29  rosiglitazone             101727 non-null  object  \n",
      " 30  acarbose                  101727 non-null  object  \n",
      " 31  miglitol                  101727 non-null  object  \n",
      " 32  tolazamide                101727 non-null  object  \n",
      " 33  insulin                   101727 non-null  object  \n",
      " 34  glyburide-metformin       101727 non-null  object  \n",
      " 35  change                    101727 non-null  object  \n",
      " 36  diabetesMed               101727 non-null  object  \n",
      " 37  readmitted                101727 non-null  object  \n",
      "dtypes: category(4), int64(9), object(25)\n",
      "memory usage: 27.6+ MB\n"
     ]
    }
   ],
   "source": [
    "admissions.info()"
   ]
  },
  {
   "attachments": {},
   "cell_type": "markdown",
   "metadata": {
    "tags": []
   },
   "source": [
    "## exploration<a id='exploration_start'></a>"
   ]
  },
  {
   "attachments": {},
   "cell_type": "markdown",
   "metadata": {},
   "source": [
    "### check for bias<a id='bias_check'></a>"
   ]
  },
  {
   "attachments": {},
   "cell_type": "markdown",
   "metadata": {},
   "source": [
    "#### race<a id='race'></a>"
   ]
  },
  {
   "attachments": {},
   "cell_type": "markdown",
   "metadata": {},
   "source": [
    "As there are demographics present, there is an opportunity to know if any particular group is over or under represented.  Race alone is the first target.  The 2000 [US Census](https://www2.census.gov/library/publications/decennial/2000/briefs/c2kbr01-01.pdf) reports a full population racial mix of 75.1% white and 12.3% black.\n",
    "\n",
    "The American Diabetes Association [ADA](https://diabetes.org/about-us/statistics/about-diabetes#:~:text=Diabetes%20by%20race%2Fethnicity&text=12.1%25%20of%20non%2DHispanic%20blacks,7.4%25%20of%20non%2DHispanic%20whites) reports that 12.1% of  non-hispanic blacks and 7.4% of non-hispanic whites have diabetes diagnoses.  Ethnicity was not captured in this dataset so cannot be tested.\n",
    "\n",
    "\n"
   ]
  },
  {
   "cell_type": "code",
   "execution_count": 5,
   "metadata": {},
   "outputs": [
    {
     "name": "stdout",
     "output_type": "stream",
     "text": [
      "unique race values: ['Caucasian' 'AfricanAmerican' 'Other']\n",
      "expected white fraction: 0.7078017567818881\n",
      "observed white fraction: 0.798421378564756\n",
      "expected black fraction: 0.29219824321811194\n",
      "observed black fraction: 0.201578621435244\n"
     ]
    }
   ],
   "source": [
    "print('unique race values:', admissions.race.unique())\n",
    "twoRace = admissions[admissions.race != 'Other'].copy()\n",
    "twoRace_counts = twoRace.race.value_counts()\n",
    "twoRace_fractions = twoRace.race.value_counts('normalize=True')\n",
    "\n",
    "adj_white_count = twoRace_counts['Caucasian'] * 7.4\n",
    "adj_black_count = twoRace_counts['AfricanAmerican'] * 12.1\n",
    "adj_total = adj_white_count + adj_black_count\n",
    "adj_white_perc = adj_white_count / adj_total\n",
    "adj_black_perc = adj_black_count / adj_total\n",
    "print('expected white fraction:', adj_white_perc)\n",
    "print('observed white fraction:', twoRace_fractions['Caucasian'])\n",
    "print('expected black fraction:', adj_black_perc)\n",
    "print('observed black fraction:', twoRace_fractions['AfricanAmerican'])"
   ]
  },
  {
   "attachments": {},
   "cell_type": "markdown",
   "metadata": {},
   "source": [
    "To make this dataset unbiased, observations with a race value of \"Caucasian\" should make up ~71% of all observations.  The number of observations over that can be removed at random."
   ]
  },
  {
   "cell_type": "code",
   "execution_count": 6,
   "metadata": {},
   "outputs": [
    {
     "data": {
      "text/plain": [
       "Caucasian          0.710004\n",
       "AfricanAmerican    0.289996\n",
       "Name: race, dtype: float64"
      ]
     },
     "execution_count": 6,
     "metadata": {},
     "output_type": "execute_result"
    }
   ],
   "source": [
    "np.random.seed(42)\n",
    "count_black = twoRace.race.value_counts()['AfricanAmerican']\n",
    "count_white = twoRace.race.value_counts()['Caucasian']\n",
    "white_to_remove = int(count_white - (count_black / 0.29 - count_black ))\n",
    "raceWhite = twoRace[twoRace['race'] == 'Caucasian']\n",
    "raceWhite = raceWhite.sample(raceWhite.shape[0] - white_to_remove)\n",
    "raceBlack = twoRace[twoRace['race'] == 'AfricanAmerican']\n",
    "twoRace = pd.concat( [raceBlack, raceWhite])\n",
    "twoRace.race.value_counts('normalize=True')"
   ]
  },
  {
   "attachments": {},
   "cell_type": "markdown",
   "metadata": {},
   "source": [
    "#### type of diabetes<a id='type'></a>"
   ]
  },
  {
   "attachments": {},
   "cell_type": "markdown",
   "metadata": {},
   "source": [
    "From here, statistics vary widely on prevalance of type 1 and type 2 diabetes by gender and age.  In general, males are more likely to have diabetes than females, but the gap between the sexes is smaller for type 1.  This dataset does contain the first 3 diagnoses for each admission.  Both ICD9 and ICD10 diagnoses codes are used.  ICD9 codes for diabetes start with 250 and ICD10 codes for type 1 start with E10 and type 2 start with E11."
   ]
  },
  {
   "cell_type": "code",
   "execution_count": 7,
   "metadata": {},
   "outputs": [
    {
     "data": {
      "text/plain": [
       "0.6218346545866364"
      ]
     },
     "execution_count": 7,
     "metadata": {},
     "output_type": "execute_result"
    }
   ],
   "source": [
    "twoRace[~(twoRace['diag_1'].str.contains('250')) &\n",
    "        ~(twoRace['diag_1'].str.contains('E1')) &\n",
    "        ~(twoRace['diag_2'].str.contains('250')) & \n",
    "        ~(twoRace['diag_2'].str.contains('E1')) &\n",
    "        ~(twoRace['diag_3'].str.contains('250')) & \n",
    "        ~(twoRace['diag_3'].str.contains('E1')) \n",
    "       ].shape[0] / twoRace.shape[0] "
   ]
  },
  {
   "attachments": {},
   "cell_type": "markdown",
   "metadata": {},
   "source": [
    "Unfortunately, 62% of the observations here don't have any diabetes type diagnoses codes included.  Demographic bias corrections end here."
   ]
  },
  {
   "attachments": {},
   "cell_type": "markdown",
   "metadata": {},
   "source": [
    "### demographic visualization <a id='demo_viz'></a>"
   ]
  },
  {
   "cell_type": "code",
   "execution_count": 8,
   "metadata": {},
   "outputs": [
    {
     "data": {
      "text/plain": [
       "<Figure size 640x480 with 0 Axes>"
      ]
     },
     "metadata": {},
     "output_type": "display_data"
    },
    {
     "data": {
      "image/png": "[encoded data removed]",
      "text/plain": [
       "<Figure size 700x700 with 4 Axes>"
      ]
     },
     "metadata": {},
     "output_type": "display_data"
    }
   ],
   "source": [
    "twoRace['age'] = pd.Categorical(twoRace['age'], ['[0-10)', '[10-20)', '[20-30)', '[30-40)', \n",
    "    '[40-50)', '[50-60)', '[60-70)', '[70-80)', '[80-90)', '[90-100)',])\n",
    "\n",
    "plt.clf()\n",
    "\n",
    "g = sns.FacetGrid(\n",
    "    twoRace,\n",
    "    col='gender',\n",
    "    row='race',\n",
    "    height=3.5,\n",
    "    sharey=False\n",
    ").map(sns.histplot, 'age')\n",
    "\n",
    "for axes in g.axes.flat:\n",
    "    for label in axes.get_xticklabels():\n",
    "        label.set_rotation(45)\n",
    "\n",
    "plt.show()"
   ]
  },
  {
   "attachments": {},
   "cell_type": "markdown",
   "metadata": {},
   "source": [
    "These distributions show that the various demographic combinations remaining in the dataset are well represented.  How are these combinations related to the readmission variable?  For this, I'll only be concerned with whether or not readmission happened and not whether or not in happened within 30 days.  I'll look at the readmit rate for each race, gender, age group combination."
   ]
  },
  {
   "cell_type": "code",
   "execution_count": 9,
   "metadata": {},
   "outputs": [
    {
     "data": {
      "text/plain": [
       "<Figure size 640x480 with 0 Axes>"
      ]
     },
     "metadata": {},
     "output_type": "display_data"
    },
    {
     "data": {
      "image/png": "[encoded data removed]",
      "text/plain": [
       "<Figure size 700x700 with 4 Axes>"
      ]
     },
     "metadata": {},
     "output_type": "display_data"
    }
   ],
   "source": [
    "readmitMapping = {'NO': 0, '>30': 1, '<30': 1}\n",
    "twoRace['readmitBinary'] = twoRace['readmitted'].replace(to_replace=readmitMapping)\n",
    "demographic_readmit_mean = twoRace.groupby(['race','age','gender'])\\\n",
    "                           .agg([np.mean])['readmitBinary']\\\n",
    "                           .reset_index()\n",
    "\n",
    "plt.clf()\n",
    "g = sns.FacetGrid(\n",
    "    demographic_readmit_mean,\n",
    "    col='gender',\n",
    "    row='race',\n",
    "    height=3.5,\n",
    "    sharey=False\n",
    ").map(sns.barplot, 'mean', 'age')\n",
    "\n",
    "[axes.set_xlabel('readmit ratio') for axes in g.axes.flat]\n",
    "\n",
    "plt.show()"
   ]
  },
  {
   "attachments": {},
   "cell_type": "markdown",
   "metadata": {},
   "source": [
    "### demographic readmit ratios <a id='demo_rat'></a>"
   ]
  },
  {
   "attachments": {},
   "cell_type": "markdown",
   "metadata": {},
   "source": [
    "There are 2 notable items here.  \n",
    "1. The 0-10 age group is very different between races\n",
    "3. The 90-100 group has a lower ratio than most other age groups for each race/gender combination.\n",
    "\n",
    "I suspect both of these can be explained with a small sample size"
   ]
  },
  {
   "cell_type": "code",
   "execution_count": 10,
   "metadata": {},
   "outputs": [
    {
     "data": {
      "text/html": [
       "<div>\n",
       "<style scoped>\n",
       "    .dataframe tbody tr th:only-of-type {\n",
       "        vertical-align: middle;\n",
       "    }\n",
       "\n",
       "    .dataframe tbody tr th {\n",
       "        vertical-align: top;\n",
       "    }\n",
       "\n",
       "    .dataframe thead th {\n",
       "        text-align: right;\n",
       "    }\n",
       "</style>\n",
       "<table border=\"1\" class=\"dataframe\">\n",
       "  <thead>\n",
       "    <tr style=\"text-align: right;\">\n",
       "      <th></th>\n",
       "      <th>age</th>\n",
       "      <th>patient_nbr</th>\n",
       "    </tr>\n",
       "  </thead>\n",
       "  <tbody>\n",
       "    <tr>\n",
       "      <th>0</th>\n",
       "      <td>[0-10)</td>\n",
       "      <td>98</td>\n",
       "    </tr>\n",
       "    <tr>\n",
       "      <th>9</th>\n",
       "      <td>[90-100)</td>\n",
       "      <td>1735</td>\n",
       "    </tr>\n",
       "  </tbody>\n",
       "</table>\n",
       "</div>"
      ],
      "text/plain": [
       "        age  patient_nbr\n",
       "0    [0-10)           98\n",
       "9  [90-100)         1735"
      ]
     },
     "execution_count": 10,
     "metadata": {},
     "output_type": "execute_result"
    }
   ],
   "source": [
    "demographic_counts = twoRace.groupby(['age'])['patient_nbr'].count()\n",
    "demographic_counts = demographic_counts.to_frame().reset_index()\n",
    "demographic_counts[(demographic_counts['age'] == '[0-10)') | \n",
    "                   (demographic_counts['age'] == '[90-100)')]"
   ]
  },
  {
   "attachments": {},
   "cell_type": "markdown",
   "metadata": {},
   "source": [
    "The small sample idea does hold for the 0-10 age group, but not the 90-100.  Its possible that the 90-100 age group expires during the admission more often than the others.  "
   ]
  },
  {
   "cell_type": "code",
   "execution_count": 11,
   "metadata": {},
   "outputs": [
    {
     "data": {
      "text/plain": [
       "['home', 'snf', 'Other', 'home health']\n",
       "Categories (4, object): ['home', 'Other', 'snf', 'home health']"
      ]
     },
     "execution_count": 11,
     "metadata": {},
     "output_type": "execute_result"
    }
   ],
   "source": [
    "twoRace['discharge_disposition_id'].unique()"
   ]
  },
  {
   "attachments": {},
   "cell_type": "markdown",
   "metadata": {},
   "source": [
    "Expiration would fit into the 'Other' category, but so would transferred, etc.  Being discharged to a skilled nursing facility (SNF) or home health could also explain the lack of readmission as these would help with adherence to medical advice given at discharge."
   ]
  },
  {
   "cell_type": "code",
   "execution_count": 12,
   "metadata": {},
   "outputs": [
    {
     "data": {
      "image/png": "[encoded data removed]",
      "text/plain": [
       "<Figure size 625.861x500 with 1 Axes>"
      ]
     },
     "metadata": {},
     "output_type": "display_data"
    }
   ],
   "source": [
    "discharge_age_counts = twoRace.groupby(['age','discharge_disposition_id'])['patient_nbr'].count()\n",
    "discharge_age_counts = discharge_age_counts.to_frame().reset_index()\n",
    "\n",
    "discharge_age_counts.columns = ['ageGroup','dischargeToCare','count']\n",
    "to_replace = {'Other': 'no', 'home': 'no', 'home health': 'yes', 'snf': 'yes'}\n",
    "discharge_age_counts['dischargeToCare'] = discharge_age_counts['dischargeToCare'].replace(to_replace)\n",
    "discharge_age_counts = discharge_age_counts.groupby(['ageGroup','dischargeToCare'])['count'].sum()\n",
    "discharge_age_counts = discharge_age_counts.to_frame().reset_index()\n",
    "\n",
    "_ = sns.catplot(data=discharge_age_counts\n",
    "    , x='ageGroup' \n",
    "    , y='count' \n",
    "    , hue='dischargeToCare'\n",
    "    , kind='bar'\n",
    ")\n",
    "plt.xticks(rotation=45)\n",
    "\n",
    "plt.show()"
   ]
  },
  {
   "attachments": {},
   "cell_type": "markdown",
   "metadata": {},
   "source": [
    "The 90-100 age group is the only one where a patient is discharged to care more often than not.  The ratio of discharged to care vs not also increases with age after 30.  What does that look like?"
   ]
  },
  {
   "cell_type": "code",
   "execution_count": 13,
   "metadata": {},
   "outputs": [
    {
     "data": {
      "text/plain": [
       "<AxesSubplot: xlabel='ageGroup', ylabel='value'>"
      ]
     },
     "execution_count": 13,
     "metadata": {},
     "output_type": "execute_result"
    },
    {
     "data": {
      "image/png": "[encoded data removed]",
      "text/plain": [
       "<Figure size 640x480 with 1 Axes>"
      ]
     },
     "metadata": {},
     "output_type": "display_data"
    }
   ],
   "source": [
    "ratios = discharge_age_counts['count'] / \\\n",
    "         discharge_age_counts.groupby('ageGroup')['count'].transform('sum')\n",
    "no_care = ratios[::2].to_frame().reset_index().drop(columns='index')\n",
    "care = ratios[1::2].to_frame().reset_index().drop(columns='index')\n",
    "\n",
    "age_ratios = pd.concat([no_care, care], axis=1)\n",
    "age_ratios.columns=['no_care', 'care']\n",
    "age_ratios['ageGroup'] = discharge_age_counts['ageGroup'].unique()\n",
    "\n",
    "sns.lineplot(data=pd.melt(age_ratios, ['ageGroup']), x='ageGroup', y='value', hue='variable')\n"
   ]
  },
  {
   "attachments": {},
   "cell_type": "markdown",
   "metadata": {},
   "source": [
    "This is looking like a good candidate for a new feature.  Does it have a relationship to readmitted?"
   ]
  },
  {
   "cell_type": "code",
   "execution_count": 14,
   "metadata": {},
   "outputs": [],
   "source": [
    "twoRace['DischargedToCare'] = twoRace['discharge_disposition_id'].replace(to_replace)"
   ]
  },
  {
   "cell_type": "code",
   "execution_count": 15,
   "metadata": {},
   "outputs": [],
   "source": [
    "def chi2pvalue (rows, columns):\n",
    "    contingency = pd.crosstab(rows, columns)\n",
    "    _, p, _, _ = chi2_contingency(contingency)\n",
    "    return p\n",
    "    "
   ]
  },
  {
   "cell_type": "code",
   "execution_count": 16,
   "metadata": {},
   "outputs": [
    {
     "data": {
      "text/plain": [
       "9.39262946259018e-72"
      ]
     },
     "execution_count": 16,
     "metadata": {},
     "output_type": "execute_result"
    }
   ],
   "source": [
    "chi2pvalue(twoRace.readmitted, twoRace.DischargedToCare)"
   ]
  },
  {
   "attachments": {},
   "cell_type": "markdown",
   "metadata": {},
   "source": [
    "It does and this new feature will replace the discharge_disposition_id"
   ]
  },
  {
   "cell_type": "code",
   "execution_count": 17,
   "metadata": {},
   "outputs": [],
   "source": [
    "twoRace = twoRace.drop(['discharge_disposition_id'], axis=1)"
   ]
  },
  {
   "attachments": {},
   "cell_type": "markdown",
   "metadata": {},
   "source": [
    "### admission source and type <a id='admit_st'></a>"
   ]
  },
  {
   "attachments": {},
   "cell_type": "markdown",
   "metadata": {},
   "source": [
    "These variables seem potentially redundant.  I will take a look at the frequency of combinations of their values."
   ]
  },
  {
   "cell_type": "code",
   "execution_count": 18,
   "metadata": {},
   "outputs": [
    {
     "data": {
      "image/png": "[encoded data removed]",
      "text/plain": [
       "<Figure size 640x480 with 2 Axes>"
      ]
     },
     "metadata": {},
     "output_type": "display_data"
    }
   ],
   "source": [
    "crosstab = pd.crosstab(twoRace['admission_source_id'], twoRace['admission_type_id'])\n",
    "sns.heatmap(crosstab, cmap=sns.cubehelix_palette(as_cmap=True), yticklabels=True, linewidths=0.5)\n",
    "plt.yticks(rotation=0)\n",
    "plt.show()"
   ]
  },
  {
   "attachments": {},
   "cell_type": "markdown",
   "metadata": {},
   "source": [
    "The first item that stands out is that physical referral should be physician referral"
   ]
  },
  {
   "cell_type": "code",
   "execution_count": 19,
   "metadata": {},
   "outputs": [
    {
     "data": {
      "text/plain": [
       "['emergency room', 'Other', 'physician referral']\n",
       "Categories (3, object): ['physician referral', 'Other', 'emergency room']"
      ]
     },
     "execution_count": 19,
     "metadata": {},
     "output_type": "execute_result"
    }
   ],
   "source": [
    "twoRace['admission_source_id'] = twoRace['admission_source_id'].cat.rename_categories({'physicial referral': 'physician referral'})\n",
    "twoRace.admission_source_id.unique()"
   ]
  },
  {
   "attachments": {},
   "cell_type": "markdown",
   "metadata": {},
   "source": [
    "The next item that stands out is that these 2 look to have a strong association and are possibly redundant.  "
   ]
  },
  {
   "cell_type": "code",
   "execution_count": 20,
   "metadata": {},
   "outputs": [
    {
     "data": {
      "text/plain": [
       "0.0"
      ]
     },
     "execution_count": 20,
     "metadata": {},
     "output_type": "execute_result"
    }
   ],
   "source": [
    "chi2pvalue(twoRace.admission_source_id, twoRace.admission_type_id)"
   ]
  },
  {
   "attachments": {},
   "cell_type": "markdown",
   "metadata": {},
   "source": [
    "Because they are so closely related, I will compare simple logisitic regression models run with the readmitted binary variable and each of these variables independently as well as together to judge the value.  First, I need to encode them."
   ]
  },
  {
   "cell_type": "code",
   "execution_count": 21,
   "metadata": {},
   "outputs": [
    {
     "data": {
      "text/html": [
       "<div>\n",
       "<style scoped>\n",
       "    .dataframe tbody tr th:only-of-type {\n",
       "        vertical-align: middle;\n",
       "    }\n",
       "\n",
       "    .dataframe tbody tr th {\n",
       "        vertical-align: top;\n",
       "    }\n",
       "\n",
       "    .dataframe thead th {\n",
       "        text-align: right;\n",
       "    }\n",
       "</style>\n",
       "<table border=\"1\" class=\"dataframe\">\n",
       "  <thead>\n",
       "    <tr style=\"text-align: right;\">\n",
       "      <th></th>\n",
       "      <th>admission_type_id_elective</th>\n",
       "      <th>admission_type_id_emergency</th>\n",
       "      <th>admission_type_id_urgent</th>\n",
       "      <th>admission_source_id_emergency room</th>\n",
       "      <th>admission_source_id_physician referral</th>\n",
       "      <th>readmitBinary</th>\n",
       "    </tr>\n",
       "  </thead>\n",
       "  <tbody>\n",
       "    <tr>\n",
       "      <th>0</th>\n",
       "      <td>0.0</td>\n",
       "      <td>1.0</td>\n",
       "      <td>0.0</td>\n",
       "      <td>1.0</td>\n",
       "      <td>0.0</td>\n",
       "      <td>0</td>\n",
       "    </tr>\n",
       "    <tr>\n",
       "      <th>1</th>\n",
       "      <td>0.0</td>\n",
       "      <td>1.0</td>\n",
       "      <td>0.0</td>\n",
       "      <td>1.0</td>\n",
       "      <td>0.0</td>\n",
       "      <td>1</td>\n",
       "    </tr>\n",
       "    <tr>\n",
       "      <th>2</th>\n",
       "      <td>0.0</td>\n",
       "      <td>0.0</td>\n",
       "      <td>1.0</td>\n",
       "      <td>0.0</td>\n",
       "      <td>0.0</td>\n",
       "      <td>1</td>\n",
       "    </tr>\n",
       "    <tr>\n",
       "      <th>3</th>\n",
       "      <td>1.0</td>\n",
       "      <td>0.0</td>\n",
       "      <td>0.0</td>\n",
       "      <td>0.0</td>\n",
       "      <td>0.0</td>\n",
       "      <td>1</td>\n",
       "    </tr>\n",
       "    <tr>\n",
       "      <th>4</th>\n",
       "      <td>0.0</td>\n",
       "      <td>1.0</td>\n",
       "      <td>0.0</td>\n",
       "      <td>1.0</td>\n",
       "      <td>0.0</td>\n",
       "      <td>0</td>\n",
       "    </tr>\n",
       "    <tr>\n",
       "      <th>...</th>\n",
       "      <td>...</td>\n",
       "      <td>...</td>\n",
       "      <td>...</td>\n",
       "      <td>...</td>\n",
       "      <td>...</td>\n",
       "      <td>...</td>\n",
       "    </tr>\n",
       "    <tr>\n",
       "      <th>66220</th>\n",
       "      <td>0.0</td>\n",
       "      <td>0.0</td>\n",
       "      <td>0.0</td>\n",
       "      <td>0.0</td>\n",
       "      <td>0.0</td>\n",
       "      <td>1</td>\n",
       "    </tr>\n",
       "    <tr>\n",
       "      <th>66221</th>\n",
       "      <td>0.0</td>\n",
       "      <td>1.0</td>\n",
       "      <td>0.0</td>\n",
       "      <td>1.0</td>\n",
       "      <td>0.0</td>\n",
       "      <td>0</td>\n",
       "    </tr>\n",
       "    <tr>\n",
       "      <th>66222</th>\n",
       "      <td>0.0</td>\n",
       "      <td>0.0</td>\n",
       "      <td>1.0</td>\n",
       "      <td>1.0</td>\n",
       "      <td>0.0</td>\n",
       "      <td>0</td>\n",
       "    </tr>\n",
       "    <tr>\n",
       "      <th>66223</th>\n",
       "      <td>0.0</td>\n",
       "      <td>0.0</td>\n",
       "      <td>1.0</td>\n",
       "      <td>0.0</td>\n",
       "      <td>1.0</td>\n",
       "      <td>0</td>\n",
       "    </tr>\n",
       "    <tr>\n",
       "      <th>66224</th>\n",
       "      <td>0.0</td>\n",
       "      <td>0.0</td>\n",
       "      <td>1.0</td>\n",
       "      <td>0.0</td>\n",
       "      <td>1.0</td>\n",
       "      <td>0</td>\n",
       "    </tr>\n",
       "  </tbody>\n",
       "</table>\n",
       "<p>66225 rows × 6 columns</p>\n",
       "</div>"
      ],
      "text/plain": [
       "       admission_type_id_elective  admission_type_id_emergency  \\\n",
       "0                             0.0                          1.0   \n",
       "1                             0.0                          1.0   \n",
       "2                             0.0                          0.0   \n",
       "3                             1.0                          0.0   \n",
       "4                             0.0                          1.0   \n",
       "...                           ...                          ...   \n",
       "66220                         0.0                          0.0   \n",
       "66221                         0.0                          1.0   \n",
       "66222                         0.0                          0.0   \n",
       "66223                         0.0                          0.0   \n",
       "66224                         0.0                          0.0   \n",
       "\n",
       "       admission_type_id_urgent  admission_source_id_emergency room  \\\n",
       "0                           0.0                                 1.0   \n",
       "1                           0.0                                 1.0   \n",
       "2                           1.0                                 0.0   \n",
       "3                           0.0                                 0.0   \n",
       "4                           0.0                                 1.0   \n",
       "...                         ...                                 ...   \n",
       "66220                       0.0                                 0.0   \n",
       "66221                       0.0                                 1.0   \n",
       "66222                       1.0                                 1.0   \n",
       "66223                       1.0                                 0.0   \n",
       "66224                       1.0                                 0.0   \n",
       "\n",
       "       admission_source_id_physician referral  readmitBinary  \n",
       "0                                         0.0              0  \n",
       "1                                         0.0              1  \n",
       "2                                         0.0              1  \n",
       "3                                         0.0              1  \n",
       "4                                         0.0              0  \n",
       "...                                       ...            ...  \n",
       "66220                                     0.0              1  \n",
       "66221                                     0.0              0  \n",
       "66222                                     0.0              0  \n",
       "66223                                     1.0              0  \n",
       "66224                                     1.0              0  \n",
       "\n",
       "[66225 rows x 6 columns]"
      ]
     },
     "execution_count": 21,
     "metadata": {},
     "output_type": "execute_result"
    }
   ],
   "source": [
    "twoRace.admission_type_id = twoRace.admission_type_id.astype('category')\n",
    "twoRace.admission_source_id = twoRace.admission_source_id.astype('category')\n",
    "\n",
    "AdmissionFeatureSelection = twoRace[['admission_type_id','admission_source_id','readmitBinary']].copy()\n",
    "\n",
    "encoder = OneHotEncoder(drop='first')\n",
    "encoded = encoder.fit_transform(AdmissionFeatureSelection[['admission_type_id','admission_source_id']])\n",
    "\n",
    "afs_encoded = pd.DataFrame(encoded.toarray(), columns=encoder.get_feature_names_out())\n",
    "afs_encoded['readmitBinary'] = AdmissionFeatureSelection['readmitBinary'].values\n",
    "afs_encoded"
   ]
  },
  {
   "attachments": {},
   "cell_type": "markdown",
   "metadata": {},
   "source": [
    "Then create a function to do the regression and return a single metric. "
   ]
  },
  {
   "cell_type": "code",
   "execution_count": 22,
   "metadata": {},
   "outputs": [],
   "source": [
    "def simple_logreg (x, y):\n",
    "    \n",
    "    x_train, x_test, y_train, y_test = train_test_split(x, y, test_size=0.25, random_state=42)\n",
    "\n",
    "    logreg = LogisticRegression()\n",
    "    logreg.fit(x_train, y_train)\n",
    "    y_pred = logreg.predict(x_test)\n",
    "\n",
    "    label_and_weight = dict(zip(x.columns, logreg.coef_[0]))\n",
    "\n",
    "    return accuracy_score(y_test, y_pred), label_and_weight"
   ]
  },
  {
   "cell_type": "code",
   "execution_count": 23,
   "metadata": {},
   "outputs": [
    {
     "name": "stdout",
     "output_type": "stream",
     "text": [
      "(66225, 3)\n"
     ]
    },
    {
     "data": {
      "text/plain": [
       "(0.5302289062028145,\n",
       " {'admission_type_id_elective': -0.34208973434550477,\n",
       "  'admission_type_id_emergency': -0.07997740548052237,\n",
       "  'admission_type_id_urgent': -0.11144173362381758})"
      ]
     },
     "execution_count": 23,
     "metadata": {},
     "output_type": "execute_result"
    }
   ],
   "source": [
    "y = afs_encoded.readmitBinary\n",
    "\n",
    "admission_type_x = afs_encoded.loc[:, afs_encoded.columns.str.contains('type')]\n",
    "print(admission_type_x.shape)\n",
    "simple_logreg(admission_type_x, y)"
   ]
  },
  {
   "cell_type": "code",
   "execution_count": 24,
   "metadata": {},
   "outputs": [
    {
     "name": "stdout",
     "output_type": "stream",
     "text": [
      "(66225, 2)\n"
     ]
    },
    {
     "data": {
      "text/plain": [
       "(0.5302289062028145,\n",
       " {'admission_source_id_emergency room': 0.4017572686906928,\n",
       "  'admission_source_id_physician referral': 0.16698493594568195})"
      ]
     },
     "execution_count": 24,
     "metadata": {},
     "output_type": "execute_result"
    }
   ],
   "source": [
    "admission_source_x = afs_encoded.loc[:, afs_encoded.columns.str.contains('source')]\n",
    "print(admission_source_x.shape)\n",
    "simple_logreg(admission_source_x, y)"
   ]
  },
  {
   "cell_type": "code",
   "execution_count": 25,
   "metadata": {},
   "outputs": [
    {
     "data": {
      "text/plain": [
       "(0.5377785830766443,\n",
       " {'admission_type_id_elective': -0.44556787850468665,\n",
       "  'admission_type_id_emergency': -0.4441222259317295,\n",
       "  'admission_type_id_urgent': -0.2737029830842031,\n",
       "  'admission_source_id_emergency room': 0.5874350140854414,\n",
       "  'admission_source_id_physician referral': 0.29237912536854177})"
      ]
     },
     "execution_count": 25,
     "metadata": {},
     "output_type": "execute_result"
    }
   ],
   "source": [
    "both = afs_encoded.iloc[:, :-1]\n",
    "simple_logreg(both, y)"
   ]
  },
  {
   "attachments": {},
   "cell_type": "markdown",
   "metadata": {},
   "source": [
    "As the model using both the admission type and source is more accurate, both will be left in place.  It is also interesting that an emergency admission type means a patient is less likely to be readmitted than an emergency department source.  In hindsight, this is likely because trauma injuries would come through the emergency room and create an emergency admission with a low chance of readmission."
   ]
  },
  {
   "attachments": {},
   "cell_type": "markdown",
   "metadata": {},
   "source": [
    "## admission measurements <a id=\"admit_metrics\"></a>"
   ]
  },
  {
   "attachments": {},
   "cell_type": "markdown",
   "metadata": {},
   "source": [
    "The next set of interesting features to explore are the num* and time_in_hospital.  All of these metrics speak to the attributes of a patient's interactions with healthcare in the previous year.  Understanding the relationships between these variables as well as their relationship to readmission may yield additional insights into this dataset.  Number diagnoses will be included here as these are assigned during an encounter with a provider.  The details of these diagnoses will be left to the exploration of the diag_* variables."
   ]
  },
  {
   "cell_type": "code",
   "execution_count": 26,
   "metadata": {},
   "outputs": [
    {
     "name": "stdout",
     "output_type": "stream",
     "text": [
      "patient_nbr               int64\n",
      "race                     object\n",
      "gender                   object\n",
      "age                    category\n",
      "admission_type_id      category\n",
      "admission_source_id    category\n",
      "time_in_hospital          int64\n",
      "num_lab_procedures        int64\n",
      "num_procedures            int64\n",
      "num_medications           int64\n",
      "number_outpatient         int64\n",
      "number_emergency          int64\n",
      "number_inpatient          int64\n",
      "diag_1                   object\n",
      "diag_2                   object\n",
      "diag_3                   object\n",
      "number_diagnoses          int64\n",
      "max_glu_serum            object\n",
      "A1Cresult                object\n",
      "metformin                object\n",
      "repaglinide              object\n",
      "nateglinide              object\n",
      "chlorpropamide           object\n",
      "glimepiride              object\n",
      "glipizide                object\n",
      "glyburide                object\n",
      "tolbutamide              object\n",
      "pioglitazone             object\n",
      "rosiglitazone            object\n",
      "acarbose                 object\n",
      "miglitol                 object\n",
      "tolazamide               object\n",
      "insulin                  object\n",
      "glyburide-metformin      object\n",
      "change                   object\n",
      "diabetesMed              object\n",
      "readmitted               object\n",
      "readmitBinary             int64\n",
      "DischargedToCare       category\n",
      "dtype: object\n"
     ]
    }
   ],
   "source": [
    "print(twoRace.dtypes)\n",
    "encounter_attributes = twoRace[['time_in_hospital',\n",
    "                                'num_lab_procedures',\n",
    "                                'num_medications',\n",
    "                                'number_outpatient',\n",
    "                                'number_emergency',\n",
    "                                'number_inpatient',\n",
    "                                'number_diagnoses']].copy()"
   ]
  },
  {
   "cell_type": "code",
   "execution_count": 27,
   "metadata": {},
   "outputs": [
    {
     "data": {
      "application/vnd.jupyter.widget-view+json": {
       "model_id": "8eb0ff55c7bd4b5a8bf1ec72e5fe662f",
       "version_major": 2,
       "version_minor": 0
      },
      "text/plain": [
       "Summarize dataset:   0%|          | 0/5 [00:00<?, ?it/s]"
      ]
     },
     "metadata": {},
     "output_type": "display_data"
    },
    {
     "data": {
      "application/vnd.jupyter.widget-view+json": {
       "model_id": "0d4599b48785495ba294a92ff8e2a58d",
       "version_major": 2,
       "version_minor": 0
      },
      "text/plain": [
       "Generate report structure:   0%|          | 0/1 [00:00<?, ?it/s]"
      ]
     },
     "metadata": {},
     "output_type": "display_data"
    },
    {
     "data": {
      "application/vnd.jupyter.widget-view+json": {
       "model_id": "9e5ad75218be4d8fb67d08b054e34e35",
       "version_major": 2,
       "version_minor": 0
      },
      "text/plain": [
       "Render widgets:   0%|          | 0/1 [00:00<?, ?it/s]"
      ]
     },
     "metadata": {},
     "output_type": "display_data"
    },
    {
     "data": {
      "application/vnd.jupyter.widget-view+json": {
       "model_id": "56b0515a647d4d6bb8c8b2df62299226",
       "version_major": 2,
       "version_minor": 0
      },
      "text/plain": [
       "VBox(children=(Tab(children=(Tab(children=(GridBox(children=(VBox(children=(GridspecLayout(children=(HTML(valu…"
      ]
     },
     "metadata": {},
     "output_type": "display_data"
    }
   ],
   "source": [
    "profile = pandas_profiling.ProfileReport(encounter_attributes)\n",
    "profile.to_widgets()"
   ]
  },
  {
   "attachments": {},
   "cell_type": "markdown",
   "metadata": {},
   "source": [
    "The first item that stands out in this profile is that many of the variables are a large percentage of zeroes.  For example, number_outpatient is ~84% zeroes.  These will be better represented as binary or categorical variables.  I will use the histograms in the profiling report to identify which variables should be transformed and what transformation would be most appropriate.  As a rule of thumb, variables where more than 75% of the values are 0 will be transformed into binary variables and variables with 50% or more zeroes will be binned into categorical variables.  "
   ]
  },
  {
   "cell_type": "code",
   "execution_count": 28,
   "metadata": {},
   "outputs": [
    {
     "data": {
      "text/plain": [
       "{'time_in_hospital': 0.0,\n",
       " 'num_lab_procedures': 0.0,\n",
       " 'num_medications': 0.0,\n",
       " 'number_outpatient': 83.7115892789732,\n",
       " 'number_emergency': 88.36995092487732,\n",
       " 'number_inpatient': 65.67761419403548,\n",
       " 'number_diagnoses': 0.0}"
      ]
     },
     "execution_count": 28,
     "metadata": {},
     "output_type": "execute_result"
    }
   ],
   "source": [
    "{col: (encounter_attributes[col] == 0).mean() * 100 for col in encounter_attributes}\n"
   ]
  }
 ],
 "metadata": {
  "kernelspec": {
   "display_name": "Python 3 (ipykernel)",
   "language": "python",
   "name": "python3"
  },
  "language_info": {
   "codemirror_mode": {
    "name": "ipython",
    "version": 3
   },
   "file_extension": ".py",
   "mimetype": "text/x-python",
   "name": "python",
   "nbconvert_exporter": "python",
   "pygments_lexer": "ipython3",
   "version": "3.10.11"
  },
  "vscode": {
   "interpreter": {
    "hash": "2d6168d7bc7859454aa8ce9bc6837161dc8041b6aaba9ceece6c315f9b1379bf"
   }
  }
 },
 "nbformat": 4,
 "nbformat_minor": 4
}
