{
 "cells": [
  {
   "cell_type": "markdown",
   "metadata": {},
   "source": [
    "# exploratory data analysis<a id='3_Exploratory_Data_Analysis'></a>"
   ]
  },
  {
   "cell_type": "markdown",
   "metadata": {},
   "source": [
    "## contents\n",
    "* [introduction](#introduction)\n",
    "* [imports and load](#imports_and_load)\n",
    "* [exploration](#exploration_start)\n",
    "    - [check for bias](#bias_check)\n",
    "        - [bias in race](#race)\n",
    "        - [type of diabetes](#type)\n",
    "    - [demographic visualizations](#demo_viz)\n",
    "    - [demographic readmit ratios](#demo_rat)\n",
    "    - [admission source and type](#admit_st)\n",
    "    - [preadmission measurements](#preadmit_metrics)\n",
    "        - [previous encounters](#prev_enc)\n",
    "        - [glucose measurements](#glu_meas)\n",
    "    - [numerical descriptions of admission](#num_)\n",
    "        - [time in hopsital](#tih)\n",
    "        - [number of lab procedures](#nlp)\n",
    "        - [number of procedures](#np)\n",
    "        - [number of medications](#nm)\n",
    "        - [number of diagnoses](#nd)\n",
    "    - [top 3 diagnoses](#dx)\n",
    "    - [medications](#meds)\n",
    "- [Wrap-up](#wrapUp)"
   ]
  },
  {
   "cell_type": "markdown",
   "metadata": {},
   "source": [
    "## introduction<a id='introduction'></a>"
   ]
  },
  {
   "cell_type": "markdown",
   "metadata": {},
   "source": [
    "The goal of this analysis will be to understand this data more fully.  This exploration will inform modelling decisions and possibly reveal insights itself.  This work will include reviewing distributions, scaling, encoding and testing interactions.  Additional data may be merged during exploration as needed and available."
   ]
  },
  {
   "cell_type": "markdown",
   "metadata": {},
   "source": [
    "## imports and load<a id='imports_and_load'></a>"
   ]
  },
  {
   "cell_type": "code",
   "execution_count": 1,
   "metadata": {
    "tags": []
   },
   "outputs": [],
   "source": [
    "import pandas as pd\n",
    "import numpy as np\n",
    "import seaborn as sns\n",
    "import matplotlib.pyplot as plt\n",
    "from scipy.stats import chi2_contingency\n",
    "from scipy.stats import pearsonr\n",
    "from sklearn.linear_model import LogisticRegression\n",
    "from sklearn.model_selection import train_test_split\n",
    "from sklearn.metrics import accuracy_score\n",
    "from sklearn.metrics import silhouette_score\n",
    "from sklearn.preprocessing import OneHotEncoder\n",
    "from sklearn.cluster import KMeans\n",
    "from gensim.models import Word2Vec\n",
    "from collections import Counter\n",
    "import warnings \n",
    "\n",
    "warnings.filterwarnings('ignore')\n",
    "%matplotlib inline"
   ]
  },
  {
   "cell_type": "markdown",
   "metadata": {},
   "source": [
    "Pip requirements for reproducibility"
   ]
  },
  {
   "cell_type": "code",
   "execution_count": 2,
   "metadata": {},
   "outputs": [
    {
     "name": "stdout",
     "output_type": "stream",
     "text": [
      "Note: you may need to restart the kernel to use updated packages.\n"
     ]
    }
   ],
   "source": [
    "pip list --format=freeze > requirements-nb2.txt"
   ]
  },
  {
   "cell_type": "markdown",
   "metadata": {},
   "source": [
    "Start with the output of the data wrangling and confirm load"
   ]
  },
  {
   "cell_type": "code",
   "execution_count": 3,
   "metadata": {},
   "outputs": [
    {
     "name": "stdout",
     "output_type": "stream",
     "text": [
      "(101727, 38)\n"
     ]
    },
    {
     "data": {
      "text/html": [
       "<div>\n",
       "<style scoped>\n",
       "    .dataframe tbody tr th:only-of-type {\n",
       "        vertical-align: middle;\n",
       "    }\n",
       "\n",
       "    .dataframe tbody tr th {\n",
       "        vertical-align: top;\n",
       "    }\n",
       "\n",
       "    .dataframe thead th {\n",
       "        text-align: right;\n",
       "    }\n",
       "</style>\n",
       "<table border=\"1\" class=\"dataframe\">\n",
       "  <thead>\n",
       "    <tr style=\"text-align: right;\">\n",
       "      <th></th>\n",
       "      <th>patient_nbr</th>\n",
       "      <th>race</th>\n",
       "      <th>gender</th>\n",
       "      <th>age</th>\n",
       "      <th>admission_type_id</th>\n",
       "      <th>discharge_disposition_id</th>\n",
       "      <th>admission_source_id</th>\n",
       "      <th>time_in_hospital</th>\n",
       "      <th>num_lab_procedures</th>\n",
       "      <th>num_procedures</th>\n",
       "      <th>...</th>\n",
       "      <th>pioglitazone</th>\n",
       "      <th>rosiglitazone</th>\n",
       "      <th>acarbose</th>\n",
       "      <th>miglitol</th>\n",
       "      <th>tolazamide</th>\n",
       "      <th>insulin</th>\n",
       "      <th>glyburide-metformin</th>\n",
       "      <th>change</th>\n",
       "      <th>diabetesMed</th>\n",
       "      <th>readmitted</th>\n",
       "    </tr>\n",
       "    <tr>\n",
       "      <th>encounter_id</th>\n",
       "      <th></th>\n",
       "      <th></th>\n",
       "      <th></th>\n",
       "      <th></th>\n",
       "      <th></th>\n",
       "      <th></th>\n",
       "      <th></th>\n",
       "      <th></th>\n",
       "      <th></th>\n",
       "      <th></th>\n",
       "      <th></th>\n",
       "      <th></th>\n",
       "      <th></th>\n",
       "      <th></th>\n",
       "      <th></th>\n",
       "      <th></th>\n",
       "      <th></th>\n",
       "      <th></th>\n",
       "      <th></th>\n",
       "      <th></th>\n",
       "      <th></th>\n",
       "    </tr>\n",
       "  </thead>\n",
       "  <tbody>\n",
       "    <tr>\n",
       "      <th>2278392</th>\n",
       "      <td>8222157</td>\n",
       "      <td>Caucasian</td>\n",
       "      <td>Female</td>\n",
       "      <td>[0-10)</td>\n",
       "      <td>Other</td>\n",
       "      <td>Other</td>\n",
       "      <td>physicial referral</td>\n",
       "      <td>1</td>\n",
       "      <td>41</td>\n",
       "      <td>0</td>\n",
       "      <td>...</td>\n",
       "      <td>No</td>\n",
       "      <td>No</td>\n",
       "      <td>No</td>\n",
       "      <td>No</td>\n",
       "      <td>No</td>\n",
       "      <td>No</td>\n",
       "      <td>No</td>\n",
       "      <td>No</td>\n",
       "      <td>No</td>\n",
       "      <td>NO</td>\n",
       "    </tr>\n",
       "    <tr>\n",
       "      <th>149190</th>\n",
       "      <td>55629189</td>\n",
       "      <td>Caucasian</td>\n",
       "      <td>Female</td>\n",
       "      <td>[10-20)</td>\n",
       "      <td>emergency</td>\n",
       "      <td>home</td>\n",
       "      <td>emergency room</td>\n",
       "      <td>3</td>\n",
       "      <td>59</td>\n",
       "      <td>0</td>\n",
       "      <td>...</td>\n",
       "      <td>No</td>\n",
       "      <td>No</td>\n",
       "      <td>No</td>\n",
       "      <td>No</td>\n",
       "      <td>No</td>\n",
       "      <td>Up</td>\n",
       "      <td>No</td>\n",
       "      <td>Ch</td>\n",
       "      <td>Yes</td>\n",
       "      <td>&gt;30</td>\n",
       "    </tr>\n",
       "    <tr>\n",
       "      <th>64410</th>\n",
       "      <td>86047875</td>\n",
       "      <td>AfricanAmerican</td>\n",
       "      <td>Female</td>\n",
       "      <td>[20-30)</td>\n",
       "      <td>emergency</td>\n",
       "      <td>home</td>\n",
       "      <td>emergency room</td>\n",
       "      <td>2</td>\n",
       "      <td>11</td>\n",
       "      <td>5</td>\n",
       "      <td>...</td>\n",
       "      <td>No</td>\n",
       "      <td>No</td>\n",
       "      <td>No</td>\n",
       "      <td>No</td>\n",
       "      <td>No</td>\n",
       "      <td>No</td>\n",
       "      <td>No</td>\n",
       "      <td>No</td>\n",
       "      <td>Yes</td>\n",
       "      <td>NO</td>\n",
       "    </tr>\n",
       "    <tr>\n",
       "      <th>500364</th>\n",
       "      <td>82442376</td>\n",
       "      <td>Caucasian</td>\n",
       "      <td>Male</td>\n",
       "      <td>[30-40)</td>\n",
       "      <td>emergency</td>\n",
       "      <td>home</td>\n",
       "      <td>emergency room</td>\n",
       "      <td>2</td>\n",
       "      <td>44</td>\n",
       "      <td>1</td>\n",
       "      <td>...</td>\n",
       "      <td>No</td>\n",
       "      <td>No</td>\n",
       "      <td>No</td>\n",
       "      <td>No</td>\n",
       "      <td>No</td>\n",
       "      <td>Up</td>\n",
       "      <td>No</td>\n",
       "      <td>Ch</td>\n",
       "      <td>Yes</td>\n",
       "      <td>NO</td>\n",
       "    </tr>\n",
       "    <tr>\n",
       "      <th>16680</th>\n",
       "      <td>42519267</td>\n",
       "      <td>Caucasian</td>\n",
       "      <td>Male</td>\n",
       "      <td>[40-50)</td>\n",
       "      <td>emergency</td>\n",
       "      <td>home</td>\n",
       "      <td>emergency room</td>\n",
       "      <td>1</td>\n",
       "      <td>51</td>\n",
       "      <td>0</td>\n",
       "      <td>...</td>\n",
       "      <td>No</td>\n",
       "      <td>No</td>\n",
       "      <td>No</td>\n",
       "      <td>No</td>\n",
       "      <td>No</td>\n",
       "      <td>Steady</td>\n",
       "      <td>No</td>\n",
       "      <td>Ch</td>\n",
       "      <td>Yes</td>\n",
       "      <td>NO</td>\n",
       "    </tr>\n",
       "  </tbody>\n",
       "</table>\n",
       "<p>5 rows × 38 columns</p>\n",
       "</div>"
      ],
      "text/plain": [
       "              patient_nbr             race  gender      age admission_type_id  \\\n",
       "encounter_id                                                                    \n",
       "2278392           8222157        Caucasian  Female   [0-10)             Other   \n",
       "149190           55629189        Caucasian  Female  [10-20)         emergency   \n",
       "64410            86047875  AfricanAmerican  Female  [20-30)         emergency   \n",
       "500364           82442376        Caucasian    Male  [30-40)         emergency   \n",
       "16680            42519267        Caucasian    Male  [40-50)         emergency   \n",
       "\n",
       "             discharge_disposition_id admission_source_id  time_in_hospital  \\\n",
       "encounter_id                                                                  \n",
       "2278392                         Other  physicial referral                 1   \n",
       "149190                           home      emergency room                 3   \n",
       "64410                            home      emergency room                 2   \n",
       "500364                           home      emergency room                 2   \n",
       "16680                            home      emergency room                 1   \n",
       "\n",
       "              num_lab_procedures  num_procedures  ...  pioglitazone  \\\n",
       "encounter_id                                      ...                 \n",
       "2278392                       41               0  ...            No   \n",
       "149190                        59               0  ...            No   \n",
       "64410                         11               5  ...            No   \n",
       "500364                        44               1  ...            No   \n",
       "16680                         51               0  ...            No   \n",
       "\n",
       "              rosiglitazone  acarbose  miglitol tolazamide insulin  \\\n",
       "encounter_id                                                         \n",
       "2278392                  No        No        No         No      No   \n",
       "149190                   No        No        No         No      Up   \n",
       "64410                    No        No        No         No      No   \n",
       "500364                   No        No        No         No      Up   \n",
       "16680                    No        No        No         No  Steady   \n",
       "\n",
       "             glyburide-metformin  change diabetesMed readmitted  \n",
       "encounter_id                                                     \n",
       "2278392                       No      No          No         NO  \n",
       "149190                        No      Ch         Yes        >30  \n",
       "64410                         No      No         Yes         NO  \n",
       "500364                        No      Ch         Yes         NO  \n",
       "16680                         No      Ch         Yes         NO  \n",
       "\n",
       "[5 rows x 38 columns]"
      ]
     },
     "execution_count": 3,
     "metadata": {},
     "output_type": "execute_result"
    }
   ],
   "source": [
    "admissions = pd.read_parquet('../data/interim/notebook1_output.parquet')\n",
    "print(admissions.shape)\n",
    "admissions.head()"
   ]
  },
  {
   "cell_type": "markdown",
   "metadata": {},
   "source": [
    "Take a quick look at the features available."
   ]
  },
  {
   "cell_type": "code",
   "execution_count": 4,
   "metadata": {},
   "outputs": [
    {
     "name": "stdout",
     "output_type": "stream",
     "text": [
      "<class 'pandas.core.frame.DataFrame'>\n",
      "Int64Index: 101727 entries, 2278392 to 443867222\n",
      "Data columns (total 38 columns):\n",
      " #   Column                    Non-Null Count   Dtype   \n",
      "---  ------                    --------------   -----   \n",
      " 0   patient_nbr               101727 non-null  int64   \n",
      " 1   race                      101727 non-null  object  \n",
      " 2   gender                    101727 non-null  object  \n",
      " 3   age                       101727 non-null  category\n",
      " 4   admission_type_id         101727 non-null  category\n",
      " 5   discharge_disposition_id  101727 non-null  category\n",
      " 6   admission_source_id       101727 non-null  category\n",
      " 7   time_in_hospital          101727 non-null  int64   \n",
      " 8   num_lab_procedures        101727 non-null  int64   \n",
      " 9   num_procedures            101727 non-null  int64   \n",
      " 10  num_medications           101727 non-null  int64   \n",
      " 11  number_outpatient         101727 non-null  int64   \n",
      " 12  number_emergency          101727 non-null  int64   \n",
      " 13  number_inpatient          101727 non-null  int64   \n",
      " 14  diag_1                    101727 non-null  object  \n",
      " 15  diag_2                    101727 non-null  object  \n",
      " 16  diag_3                    101727 non-null  object  \n",
      " 17  number_diagnoses          101727 non-null  int64   \n",
      " 18  max_glu_serum             101727 non-null  object  \n",
      " 19  A1Cresult                 101727 non-null  object  \n",
      " 20  metformin                 101727 non-null  object  \n",
      " 21  repaglinide               101727 non-null  object  \n",
      " 22  nateglinide               101727 non-null  object  \n",
      " 23  chlorpropamide            101727 non-null  object  \n",
      " 24  glimepiride               101727 non-null  object  \n",
      " 25  glipizide                 101727 non-null  object  \n",
      " 26  glyburide                 101727 non-null  object  \n",
      " 27  tolbutamide               101727 non-null  object  \n",
      " 28  pioglitazone              101727 non-null  object  \n",
      " 29  rosiglitazone             101727 non-null  object  \n",
      " 30  acarbose                  101727 non-null  object  \n",
      " 31  miglitol                  101727 non-null  object  \n",
      " 32  tolazamide                101727 non-null  object  \n",
      " 33  insulin                   101727 non-null  object  \n",
      " 34  glyburide-metformin       101727 non-null  object  \n",
      " 35  change                    101727 non-null  object  \n",
      " 36  diabetesMed               101727 non-null  object  \n",
      " 37  readmitted                101727 non-null  object  \n",
      "dtypes: category(4), int64(9), object(25)\n",
      "memory usage: 27.6+ MB\n"
     ]
    }
   ],
   "source": [
    "admissions.info()"
   ]
  },
  {
   "cell_type": "markdown",
   "metadata": {
    "tags": []
   },
   "source": [
    "## exploration<a id='exploration_start'></a>"
   ]
  },
  {
   "cell_type": "markdown",
   "metadata": {},
   "source": [
    "### check for bias<a id='bias_check'></a>"
   ]
  },
  {
   "cell_type": "markdown",
   "metadata": {},
   "source": [
    "#### race<a id='race'></a>"
   ]
  },
  {
   "cell_type": "markdown",
   "metadata": {},
   "source": [
    "As there are demographics present, there is an opportunity to know if any particular group is over or under represented.  Race alone is the first target.  What values are available and what percent of the data does each of these values represent?"
   ]
  },
  {
   "cell_type": "markdown",
   "metadata": {},
   "source": [
    "The 2000 [US Census](https://www2.census.gov/library/publications/decennial/2000/briefs/c2kbr01-01.pdf) reports a full population racial mix of 75.1% white and 12.3% black.\n",
    "\n",
    "The American Diabetes Association [ADA](https://diabetes.org/about-us/statistics/about-diabetes#:~:text=Diabetes%20by%20race%2Fethnicity&text=12.1%25%20of%20non%2DHispanic%20blacks,7.4%25%20of%20non%2DHispanic%20whites) reports that 12.1% of  non-hispanic blacks and 7.4% of non-hispanic whites have diabetes diagnoses.  Ethnicity was not captured in this dataset so cannot be tested."
   ]
  },
  {
   "cell_type": "code",
   "execution_count": 5,
   "metadata": {},
   "outputs": [
    {
     "name": "stdout",
     "output_type": "stream",
     "text": [
      "unique race values: ['Caucasian' 'AfricanAmerican' 'Other']\n",
      "expected white fraction: 0.7078017567818881\n",
      "observed white fraction: 0.798421378564756\n",
      "expected black fraction: 0.29219824321811194\n",
      "observed black fraction: 0.201578621435244\n"
     ]
    }
   ],
   "source": [
    "print('unique race values:', admissions.race.unique())\n",
    "twoRace = admissions[admissions.race != 'Other'].copy()\n",
    "twoRace_counts = twoRace.race.value_counts()\n",
    "twoRace_fractions = twoRace.race.value_counts('normalize=True')\n",
    "\n",
    "adj_white_count = twoRace_counts['Caucasian'] * 7.4\n",
    "adj_black_count = twoRace_counts['AfricanAmerican'] * 12.1\n",
    "adj_total = adj_white_count + adj_black_count\n",
    "adj_white_perc = adj_white_count / adj_total\n",
    "adj_black_perc = adj_black_count / adj_total\n",
    "print('expected white fraction:', adj_white_perc)\n",
    "print('observed white fraction:', twoRace_fractions['Caucasian'])\n",
    "print('expected black fraction:', adj_black_perc)\n",
    "print('observed black fraction:', twoRace_fractions['AfricanAmerican'])"
   ]
  },
  {
   "cell_type": "markdown",
   "metadata": {},
   "source": [
    "To make this dataset unbiased, observations with a race value of \"Caucasian\" should make up ~71% of all observations.  The number of observations over that can be removed at random."
   ]
  },
  {
   "cell_type": "code",
   "execution_count": 6,
   "metadata": {},
   "outputs": [
    {
     "data": {
      "text/plain": [
       "Caucasian          0.710004\n",
       "AfricanAmerican    0.289996\n",
       "Name: race, dtype: float64"
      ]
     },
     "execution_count": 6,
     "metadata": {},
     "output_type": "execute_result"
    }
   ],
   "source": [
    "np.random.seed(42)\n",
    "count_black = twoRace.race.value_counts()['AfricanAmerican']\n",
    "count_white = twoRace.race.value_counts()['Caucasian']\n",
    "white_to_remove = int(count_white - (count_black / 0.29 - count_black ))\n",
    "raceWhite = twoRace[twoRace['race'] == 'Caucasian']\n",
    "raceWhite = raceWhite.sample(raceWhite.shape[0] - white_to_remove)\n",
    "raceBlack = twoRace[twoRace['race'] == 'AfricanAmerican']\n",
    "twoRace = pd.concat( [raceBlack, raceWhite])\n",
    "twoRace.race.value_counts('normalize=True')"
   ]
  },
  {
   "cell_type": "markdown",
   "metadata": {},
   "source": [
    "#### type of diabetes<a id='type'></a>"
   ]
  },
  {
   "cell_type": "markdown",
   "metadata": {},
   "source": [
    "From here, statistics vary widely on prevalance of type 1 and type 2 diabetes by gender and age.  In general, males are more likely to have diabetes than females, but the gap between the sexes is smaller for type 1.  This dataset does contain the first 3 diagnoses for each admission.  ICD9 codes for diabetes start with 250."
   ]
  },
  {
   "cell_type": "code",
   "execution_count": 7,
   "metadata": {},
   "outputs": [
    {
     "data": {
      "text/plain": [
       "0.6218346545866364"
      ]
     },
     "execution_count": 7,
     "metadata": {},
     "output_type": "execute_result"
    }
   ],
   "source": [
    "twoRace[~(twoRace['diag_1'].str.contains('250')) &\n",
    "        ~(twoRace['diag_2'].str.contains('250')) & \n",
    "        ~(twoRace['diag_3'].str.contains('250')) \n",
    "       ].shape[0] / twoRace.shape[0] "
   ]
  },
  {
   "cell_type": "markdown",
   "metadata": {},
   "source": [
    "Unfortunately, 62% of the observations here don't have any diabetes type diagnoses codes included.  Demographic bias corrections end here."
   ]
  },
  {
   "cell_type": "markdown",
   "metadata": {},
   "source": [
    "### demographic visualization <a id='demo_viz'></a>"
   ]
  },
  {
   "cell_type": "code",
   "execution_count": 8,
   "metadata": {},
   "outputs": [
    {
     "data": {
      "text/plain": [
       "<Figure size 640x480 with 0 Axes>"
      ]
     },
     "metadata": {},
     "output_type": "display_data"
    },
    {
     "data": {
      "image/png": "[encoded data removed]",
      "text/plain": [
       "<Figure size 700x700 with 4 Axes>"
      ]
     },
     "metadata": {},
     "output_type": "display_data"
    }
   ],
   "source": [
    "twoRace['age'] = pd.Categorical(twoRace['age'], ['[0-10)', '[10-20)', '[20-30)', '[30-40)', \n",
    "    '[40-50)', '[50-60)', '[60-70)', '[70-80)', '[80-90)', '[90-100)',])\n",
    "\n",
    "plt.clf()\n",
    "\n",
    "g = sns.FacetGrid(\n",
    "    twoRace,\n",
    "    col='gender',\n",
    "    row='race',\n",
    "    height=3.5,\n",
    "    sharey=False\n",
    ").map(sns.histplot, 'age')\n",
    "\n",
    "for axes in g.axes.flat:\n",
    "    for label in axes.get_xticklabels():\n",
    "        label.set_rotation(45)\n",
    "\n",
    "plt.show()"
   ]
  },
  {
   "cell_type": "markdown",
   "metadata": {},
   "source": [
    "These distributions show that the various demographic combinations remaining in the dataset are well represented.  How are these combinations related to the readmission variable?  For this, I'll only be concerned with whether or not readmission happened and not whether or not in happened within 30 days.  I'll look at the readmit rate for each race, gender, age group combination."
   ]
  },
  {
   "cell_type": "code",
   "execution_count": 9,
   "metadata": {},
   "outputs": [
    {
     "data": {
      "text/plain": [
       "<Figure size 640x480 with 0 Axes>"
      ]
     },
     "metadata": {},
     "output_type": "display_data"
    },
    {
     "data": {
      "image/png": "[encoded data removed]",
      "text/plain": [
       "<Figure size 700x700 with 4 Axes>"
      ]
     },
     "metadata": {},
     "output_type": "display_data"
    }
   ],
   "source": [
    "readmitMapping = {'NO': 0, '>30': 1, '<30': 1}\n",
    "twoRace['readmitBinary'] = twoRace['readmitted'].replace(to_replace=readmitMapping)\n",
    "demographic_readmit_mean = twoRace.groupby(['race','age','gender'])\\\n",
    "                           .agg([np.mean])['readmitBinary']\\\n",
    "                           .reset_index()\n",
    "\n",
    "plt.clf()\n",
    "g = sns.FacetGrid(\n",
    "    demographic_readmit_mean,\n",
    "    col='gender',\n",
    "    row='race',\n",
    "    height=3.5,\n",
    "    sharey=False\n",
    ").map(sns.barplot, 'mean', 'age')\n",
    "\n",
    "[axes.set_xlabel('readmit ratio') for axes in g.axes.flat]\n",
    "\n",
    "plt.show()"
   ]
  },
  {
   "cell_type": "markdown",
   "metadata": {},
   "source": [
    "### demographic readmit ratios <a id='demo_rat'></a>"
   ]
  },
  {
   "cell_type": "markdown",
   "metadata": {},
   "source": [
    "There are 2 notable items here.  \n",
    "1. The 0-10 age group is very different between races\n",
    "3. The 90-100 group has a lower ratio than most other age groups for each race/gender combination.\n",
    "\n",
    "I suspect both of these can be explained with a small sample size"
   ]
  },
  {
   "cell_type": "code",
   "execution_count": 10,
   "metadata": {},
   "outputs": [
    {
     "data": {
      "text/html": [
       "<div>\n",
       "<style scoped>\n",
       "    .dataframe tbody tr th:only-of-type {\n",
       "        vertical-align: middle;\n",
       "    }\n",
       "\n",
       "    .dataframe tbody tr th {\n",
       "        vertical-align: top;\n",
       "    }\n",
       "\n",
       "    .dataframe thead th {\n",
       "        text-align: right;\n",
       "    }\n",
       "</style>\n",
       "<table border=\"1\" class=\"dataframe\">\n",
       "  <thead>\n",
       "    <tr style=\"text-align: right;\">\n",
       "      <th></th>\n",
       "      <th>age</th>\n",
       "      <th>patient_nbr</th>\n",
       "    </tr>\n",
       "  </thead>\n",
       "  <tbody>\n",
       "    <tr>\n",
       "      <th>0</th>\n",
       "      <td>[0-10)</td>\n",
       "      <td>98</td>\n",
       "    </tr>\n",
       "    <tr>\n",
       "      <th>9</th>\n",
       "      <td>[90-100)</td>\n",
       "      <td>1735</td>\n",
       "    </tr>\n",
       "  </tbody>\n",
       "</table>\n",
       "</div>"
      ],
      "text/plain": [
       "        age  patient_nbr\n",
       "0    [0-10)           98\n",
       "9  [90-100)         1735"
      ]
     },
     "execution_count": 10,
     "metadata": {},
     "output_type": "execute_result"
    }
   ],
   "source": [
    "demographic_counts = twoRace.groupby(['age'])['patient_nbr'].count()\n",
    "demographic_counts = demographic_counts.to_frame().reset_index()\n",
    "demographic_counts[(demographic_counts['age'] == '[0-10)') | \n",
    "                   (demographic_counts['age'] == '[90-100)')]"
   ]
  },
  {
   "cell_type": "markdown",
   "metadata": {},
   "source": [
    "The small sample idea does hold for the 0-10 age group, but not the 90-100.  Its possible that the 90-100 age group expires during the admission more often than the others.  "
   ]
  },
  {
   "cell_type": "code",
   "execution_count": 11,
   "metadata": {},
   "outputs": [
    {
     "data": {
      "text/plain": [
       "['home', 'snf', 'Other', 'home health']\n",
       "Categories (4, object): ['home', 'Other', 'snf', 'home health']"
      ]
     },
     "execution_count": 11,
     "metadata": {},
     "output_type": "execute_result"
    }
   ],
   "source": [
    "twoRace['discharge_disposition_id'].unique()"
   ]
  },
  {
   "cell_type": "markdown",
   "metadata": {},
   "source": [
    "Expiration would fit into the 'Other' category, but so would transferred, etc.  Being discharged to a skilled nursing facility (SNF) or home health could also explain the lack of readmission as these would help with adherence to medical advice given at discharge."
   ]
  },
  {
   "cell_type": "code",
   "execution_count": 12,
   "metadata": {},
   "outputs": [
    {
     "data": {
      "image/png": "[encoded data removed]",
      "text/plain": [
       "<Figure size 625.986x500 with 1 Axes>"
      ]
     },
     "metadata": {},
     "output_type": "display_data"
    }
   ],
   "source": [
    "discharge_age_counts = twoRace.groupby(['age','discharge_disposition_id'])['patient_nbr'].count()\n",
    "discharge_age_counts = discharge_age_counts.to_frame().reset_index()\n",
    "\n",
    "discharge_age_counts.columns = ['ageGroup','dischargeToCare','count']\n",
    "to_replace = {'Other': False, 'home': False, 'home health': True, 'snf': True}\n",
    "discharge_age_counts['dischargeToCare'] = discharge_age_counts['dischargeToCare'].replace(to_replace)\n",
    "discharge_age_counts = discharge_age_counts.groupby(['ageGroup','dischargeToCare'])['count'].sum()\n",
    "discharge_age_counts = discharge_age_counts.to_frame().reset_index()\n",
    "\n",
    "_ = sns.catplot(data=discharge_age_counts\n",
    "    , x='ageGroup' \n",
    "    , y='count' \n",
    "    , hue='dischargeToCare'\n",
    "    , kind='bar'\n",
    ")\n",
    "plt.xticks(rotation=45)\n",
    "\n",
    "plt.show()"
   ]
  },
  {
   "cell_type": "markdown",
   "metadata": {},
   "source": [
    "The 90-100 age group is the only one where a patient is discharged to care more often than not.  The ratio of discharged to care vs not also increases with age after 30.  What does that look like?"
   ]
  },
  {
   "cell_type": "code",
   "execution_count": 13,
   "metadata": {},
   "outputs": [
    {
     "data": {
      "text/plain": [
       "<Axes: xlabel='ageGroup', ylabel='value'>"
      ]
     },
     "execution_count": 13,
     "metadata": {},
     "output_type": "execute_result"
    },
    {
     "data": {
      "image/png": "[encoded data removed]",
      "text/plain": [
       "<Figure size 640x480 with 1 Axes>"
      ]
     },
     "metadata": {},
     "output_type": "display_data"
    }
   ],
   "source": [
    "ratios = discharge_age_counts['count'] / \\\n",
    "         discharge_age_counts.groupby('ageGroup')['count'].transform('sum')\n",
    "no_care = ratios[::2].to_frame().reset_index().drop(columns='index')\n",
    "care = ratios[1::2].to_frame().reset_index().drop(columns='index')\n",
    "\n",
    "age_ratios = pd.concat([no_care, care], axis=1)\n",
    "age_ratios.columns=['no_care', 'care']\n",
    "age_ratios['ageGroup'] = discharge_age_counts['ageGroup'].unique()\n",
    "\n",
    "sns.lineplot(data=pd.melt(age_ratios, ['ageGroup']), x='ageGroup', y='value', hue='variable')\n"
   ]
  },
  {
   "cell_type": "markdown",
   "metadata": {},
   "source": [
    "This is looking like a good candidate for a new feature.  Does it have a relationship to readmitted?"
   ]
  },
  {
   "cell_type": "code",
   "execution_count": 14,
   "metadata": {},
   "outputs": [],
   "source": [
    "twoRace['DischargedToCare'] = twoRace['discharge_disposition_id'].replace(to_replace).astype(bool)"
   ]
  },
  {
   "cell_type": "code",
   "execution_count": 15,
   "metadata": {},
   "outputs": [],
   "source": [
    "def chi2pvalue (rows, columns):\n",
    "    contingency = pd.crosstab(rows, columns)\n",
    "    _, p, _, _ = chi2_contingency(contingency)\n",
    "    return p\n",
    "    "
   ]
  },
  {
   "cell_type": "code",
   "execution_count": 16,
   "metadata": {},
   "outputs": [
    {
     "data": {
      "text/plain": [
       "9.39262946259018e-72"
      ]
     },
     "execution_count": 16,
     "metadata": {},
     "output_type": "execute_result"
    }
   ],
   "source": [
    "chi2pvalue(twoRace.readmitted, twoRace.DischargedToCare)"
   ]
  },
  {
   "cell_type": "markdown",
   "metadata": {},
   "source": [
    "It does and this new feature will replace the discharge_disposition_id"
   ]
  },
  {
   "cell_type": "code",
   "execution_count": 17,
   "metadata": {},
   "outputs": [],
   "source": [
    "twoRace = twoRace.drop(['discharge_disposition_id'], axis=1)"
   ]
  },
  {
   "cell_type": "markdown",
   "metadata": {},
   "source": [
    "### admission source and type <a id='admit_st'></a>"
   ]
  },
  {
   "cell_type": "markdown",
   "metadata": {},
   "source": [
    "These variables seem potentially redundant.  I will take a look at the frequency of combinations of their values."
   ]
  },
  {
   "cell_type": "code",
   "execution_count": 18,
   "metadata": {},
   "outputs": [
    {
     "data": {
      "image/png": "[encoded data removed]",
      "text/plain": [
       "<Figure size 640x480 with 2 Axes>"
      ]
     },
     "metadata": {},
     "output_type": "display_data"
    }
   ],
   "source": [
    "crosstab = pd.crosstab(twoRace['admission_source_id'], twoRace['admission_type_id'])\n",
    "sns.heatmap(crosstab, cmap=sns.cubehelix_palette(as_cmap=True), yticklabels=True, linewidths=0.5)\n",
    "plt.yticks(rotation=0)\n",
    "plt.show()"
   ]
  },
  {
   "cell_type": "markdown",
   "metadata": {},
   "source": [
    "The first item that stands out is that physical referral should be physician referral"
   ]
  },
  {
   "cell_type": "code",
   "execution_count": 19,
   "metadata": {},
   "outputs": [
    {
     "data": {
      "text/plain": [
       "['emergency room', 'Other', 'physician referral']\n",
       "Categories (3, object): ['physician referral', 'Other', 'emergency room']"
      ]
     },
     "execution_count": 19,
     "metadata": {},
     "output_type": "execute_result"
    }
   ],
   "source": [
    "twoRace['admission_source_id'] = twoRace['admission_source_id'].cat.rename_categories({'physicial referral': 'physician referral'})\n",
    "twoRace.admission_source_id.unique()"
   ]
  },
  {
   "cell_type": "markdown",
   "metadata": {},
   "source": [
    "The next item that stands out is that these 2 look to have a strong association and are possibly redundant.  "
   ]
  },
  {
   "cell_type": "markdown",
   "metadata": {},
   "source": [
    "Because they are so closely related, I will compare simple logisitic regression models run with the readmitted binary variable and each of these variables independently as well as together to judge the value.  First, I need to encode them."
   ]
  },
  {
   "cell_type": "code",
   "execution_count": 20,
   "metadata": {},
   "outputs": [
    {
     "data": {
      "text/html": [
       "<div>\n",
       "<style scoped>\n",
       "    .dataframe tbody tr th:only-of-type {\n",
       "        vertical-align: middle;\n",
       "    }\n",
       "\n",
       "    .dataframe tbody tr th {\n",
       "        vertical-align: top;\n",
       "    }\n",
       "\n",
       "    .dataframe thead th {\n",
       "        text-align: right;\n",
       "    }\n",
       "</style>\n",
       "<table border=\"1\" class=\"dataframe\">\n",
       "  <thead>\n",
       "    <tr style=\"text-align: right;\">\n",
       "      <th></th>\n",
       "      <th>admission_type_id_elective</th>\n",
       "      <th>admission_type_id_emergency</th>\n",
       "      <th>admission_type_id_urgent</th>\n",
       "      <th>admission_source_id_emergency room</th>\n",
       "      <th>admission_source_id_physician referral</th>\n",
       "      <th>readmitBinary</th>\n",
       "    </tr>\n",
       "  </thead>\n",
       "  <tbody>\n",
       "    <tr>\n",
       "      <th>0</th>\n",
       "      <td>0.0</td>\n",
       "      <td>1.0</td>\n",
       "      <td>0.0</td>\n",
       "      <td>1.0</td>\n",
       "      <td>0.0</td>\n",
       "      <td>0</td>\n",
       "    </tr>\n",
       "    <tr>\n",
       "      <th>1</th>\n",
       "      <td>0.0</td>\n",
       "      <td>1.0</td>\n",
       "      <td>0.0</td>\n",
       "      <td>1.0</td>\n",
       "      <td>0.0</td>\n",
       "      <td>1</td>\n",
       "    </tr>\n",
       "    <tr>\n",
       "      <th>2</th>\n",
       "      <td>0.0</td>\n",
       "      <td>0.0</td>\n",
       "      <td>1.0</td>\n",
       "      <td>0.0</td>\n",
       "      <td>0.0</td>\n",
       "      <td>1</td>\n",
       "    </tr>\n",
       "    <tr>\n",
       "      <th>3</th>\n",
       "      <td>1.0</td>\n",
       "      <td>0.0</td>\n",
       "      <td>0.0</td>\n",
       "      <td>0.0</td>\n",
       "      <td>0.0</td>\n",
       "      <td>1</td>\n",
       "    </tr>\n",
       "    <tr>\n",
       "      <th>4</th>\n",
       "      <td>0.0</td>\n",
       "      <td>1.0</td>\n",
       "      <td>0.0</td>\n",
       "      <td>1.0</td>\n",
       "      <td>0.0</td>\n",
       "      <td>0</td>\n",
       "    </tr>\n",
       "    <tr>\n",
       "      <th>...</th>\n",
       "      <td>...</td>\n",
       "      <td>...</td>\n",
       "      <td>...</td>\n",
       "      <td>...</td>\n",
       "      <td>...</td>\n",
       "      <td>...</td>\n",
       "    </tr>\n",
       "    <tr>\n",
       "      <th>66220</th>\n",
       "      <td>0.0</td>\n",
       "      <td>0.0</td>\n",
       "      <td>0.0</td>\n",
       "      <td>0.0</td>\n",
       "      <td>0.0</td>\n",
       "      <td>1</td>\n",
       "    </tr>\n",
       "    <tr>\n",
       "      <th>66221</th>\n",
       "      <td>0.0</td>\n",
       "      <td>1.0</td>\n",
       "      <td>0.0</td>\n",
       "      <td>1.0</td>\n",
       "      <td>0.0</td>\n",
       "      <td>0</td>\n",
       "    </tr>\n",
       "    <tr>\n",
       "      <th>66222</th>\n",
       "      <td>0.0</td>\n",
       "      <td>0.0</td>\n",
       "      <td>1.0</td>\n",
       "      <td>1.0</td>\n",
       "      <td>0.0</td>\n",
       "      <td>0</td>\n",
       "    </tr>\n",
       "    <tr>\n",
       "      <th>66223</th>\n",
       "      <td>0.0</td>\n",
       "      <td>0.0</td>\n",
       "      <td>1.0</td>\n",
       "      <td>0.0</td>\n",
       "      <td>1.0</td>\n",
       "      <td>0</td>\n",
       "    </tr>\n",
       "    <tr>\n",
       "      <th>66224</th>\n",
       "      <td>0.0</td>\n",
       "      <td>0.0</td>\n",
       "      <td>1.0</td>\n",
       "      <td>0.0</td>\n",
       "      <td>1.0</td>\n",
       "      <td>0</td>\n",
       "    </tr>\n",
       "  </tbody>\n",
       "</table>\n",
       "<p>66225 rows × 6 columns</p>\n",
       "</div>"
      ],
      "text/plain": [
       "       admission_type_id_elective  admission_type_id_emergency  \\\n",
       "0                             0.0                          1.0   \n",
       "1                             0.0                          1.0   \n",
       "2                             0.0                          0.0   \n",
       "3                             1.0                          0.0   \n",
       "4                             0.0                          1.0   \n",
       "...                           ...                          ...   \n",
       "66220                         0.0                          0.0   \n",
       "66221                         0.0                          1.0   \n",
       "66222                         0.0                          0.0   \n",
       "66223                         0.0                          0.0   \n",
       "66224                         0.0                          0.0   \n",
       "\n",
       "       admission_type_id_urgent  admission_source_id_emergency room  \\\n",
       "0                           0.0                                 1.0   \n",
       "1                           0.0                                 1.0   \n",
       "2                           1.0                                 0.0   \n",
       "3                           0.0                                 0.0   \n",
       "4                           0.0                                 1.0   \n",
       "...                         ...                                 ...   \n",
       "66220                       0.0                                 0.0   \n",
       "66221                       0.0                                 1.0   \n",
       "66222                       1.0                                 1.0   \n",
       "66223                       1.0                                 0.0   \n",
       "66224                       1.0                                 0.0   \n",
       "\n",
       "       admission_source_id_physician referral  readmitBinary  \n",
       "0                                         0.0              0  \n",
       "1                                         0.0              1  \n",
       "2                                         0.0              1  \n",
       "3                                         0.0              1  \n",
       "4                                         0.0              0  \n",
       "...                                       ...            ...  \n",
       "66220                                     0.0              1  \n",
       "66221                                     0.0              0  \n",
       "66222                                     0.0              0  \n",
       "66223                                     1.0              0  \n",
       "66224                                     1.0              0  \n",
       "\n",
       "[66225 rows x 6 columns]"
      ]
     },
     "execution_count": 20,
     "metadata": {},
     "output_type": "execute_result"
    }
   ],
   "source": [
    "twoRace.admission_type_id = twoRace.admission_type_id.astype('category')\n",
    "twoRace.admission_source_id = twoRace.admission_source_id.astype('category')\n",
    "\n",
    "AdmissionFeatureSelection = twoRace[['admission_type_id','admission_source_id','readmitBinary']].copy()\n",
    "\n",
    "encoder = OneHotEncoder(drop='first')\n",
    "encoded = encoder.fit_transform(AdmissionFeatureSelection[['admission_type_id','admission_source_id']])\n",
    "\n",
    "afs_encoded = pd.DataFrame(encoded.toarray(), columns=encoder.get_feature_names_out())\n",
    "afs_encoded['readmitBinary'] = AdmissionFeatureSelection['readmitBinary'].values\n",
    "afs_encoded"
   ]
  },
  {
   "cell_type": "markdown",
   "metadata": {},
   "source": [
    "Then create a function to do the regression and return a single metric. "
   ]
  },
  {
   "cell_type": "code",
   "execution_count": 21,
   "metadata": {},
   "outputs": [],
   "source": [
    "def simple_logreg (x, y):\n",
    "    \n",
    "    x_train, x_test, y_train, y_test = train_test_split(x, y, test_size=0.25, random_state=42)\n",
    "\n",
    "    logreg = LogisticRegression()\n",
    "    logreg.fit(x_train, y_train)\n",
    "    y_pred = logreg.predict(x_test)\n",
    "\n",
    "    label_and_weight = dict(zip(x.columns, logreg.coef_[0]))\n",
    "\n",
    "    return accuracy_score(y_test, y_pred), label_and_weight"
   ]
  },
  {
   "cell_type": "code",
   "execution_count": 22,
   "metadata": {},
   "outputs": [
    {
     "name": "stdout",
     "output_type": "stream",
     "text": [
      "(66225, 3)\n"
     ]
    },
    {
     "data": {
      "text/plain": [
       "(0.5302289062028145,\n",
       " {'admission_type_id_elective': -0.3420897343455047,\n",
       "  'admission_type_id_emergency': -0.07997740548052241,\n",
       "  'admission_type_id_urgent': -0.11144173362381765})"
      ]
     },
     "execution_count": 22,
     "metadata": {},
     "output_type": "execute_result"
    }
   ],
   "source": [
    "y = afs_encoded.readmitBinary\n",
    "\n",
    "admission_type_x = afs_encoded.loc[:, afs_encoded.columns.str.contains('type')]\n",
    "print(admission_type_x.shape)\n",
    "simple_logreg(admission_type_x, y)"
   ]
  },
  {
   "cell_type": "code",
   "execution_count": 23,
   "metadata": {},
   "outputs": [
    {
     "name": "stdout",
     "output_type": "stream",
     "text": [
      "(66225, 2)\n"
     ]
    },
    {
     "data": {
      "text/plain": [
       "(0.5302289062028145,\n",
       " {'admission_source_id_emergency room': 0.40175726869069284,\n",
       "  'admission_source_id_physician referral': 0.16698493594568198})"
      ]
     },
     "execution_count": 23,
     "metadata": {},
     "output_type": "execute_result"
    }
   ],
   "source": [
    "admission_source_x = afs_encoded.loc[:, afs_encoded.columns.str.contains('source')]\n",
    "print(admission_source_x.shape)\n",
    "simple_logreg(admission_source_x, y)"
   ]
  },
  {
   "cell_type": "code",
   "execution_count": 24,
   "metadata": {},
   "outputs": [
    {
     "data": {
      "text/plain": [
       "(0.5377785830766443,\n",
       " {'admission_type_id_elective': -0.44556787850468826,\n",
       "  'admission_type_id_emergency': -0.44412222593173234,\n",
       "  'admission_type_id_urgent': -0.2737029830842074,\n",
       "  'admission_source_id_emergency room': 0.5874350140854427,\n",
       "  'admission_source_id_physician referral': 0.2923791253685427})"
      ]
     },
     "execution_count": 24,
     "metadata": {},
     "output_type": "execute_result"
    }
   ],
   "source": [
    "both = afs_encoded.iloc[:, :-1]\n",
    "simple_logreg(both, y)"
   ]
  },
  {
   "cell_type": "markdown",
   "metadata": {},
   "source": [
    "As the model using both the admission type and source is more accurate, both will be left in place.  It is also interesting that an emergency admission type means a patient is less likely to be readmitted than an emergency department source.  In hindsight, this is likely because trauma injuries would come through the emergency room and create an emergency admission with a low chance of readmission."
   ]
  },
  {
   "cell_type": "markdown",
   "metadata": {},
   "source": [
    "### preadmission measurements <a id=\"preadmit_metrics\"></a>"
   ]
  },
  {
   "cell_type": "markdown",
   "metadata": {},
   "source": [
    "#### previous encounters <a id=\"prev_enc\"></a>"
   ]
  },
  {
   "cell_type": "markdown",
   "metadata": {},
   "source": [
    "Details about the patient's interactions with providers in the year before their admission may contain interesting information.  The variables that describe this are num_outpatient, num_emergency, and num_inpatient.  I will start this exploration with histograms to look at the distribution of these variables."
   ]
  },
  {
   "cell_type": "code",
   "execution_count": 25,
   "metadata": {},
   "outputs": [
    {
     "data": {
      "image/png": "[encoded data removed]",
      "text/plain": [
       "<Figure size 1200x400 with 3 Axes>"
      ]
     },
     "metadata": {},
     "output_type": "display_data"
    }
   ],
   "source": [
    "fig, ax = plt.subplots(1, 3, figsize=(12,4))\n",
    "\n",
    "sns.histplot(twoRace['number_outpatient'], ax=ax[0])\n",
    "sns.histplot(twoRace['number_emergency'], ax=ax[1])\n",
    "sns.histplot(twoRace['number_inpatient'], ax=ax[2])\n",
    "\n",
    "plt.tight_layout()\n",
    "plt.show()\n"
   ]
  },
  {
   "cell_type": "markdown",
   "metadata": {},
   "source": [
    "For all 3 variables, the majority of oberservations have 0 encounters.  These would be better suited as boolean categorical types indicating if the patient had that type of encounter in the previous year or not.  "
   ]
  },
  {
   "cell_type": "code",
   "execution_count": 26,
   "metadata": {},
   "outputs": [],
   "source": [
    "twoRace['outpatientTF'] = twoRace.number_outpatient.astype(bool)\n",
    "twoRace['emergencyTF'] = twoRace.number_emergency.astype(bool)\n",
    "twoRace['inpatientTF'] = twoRace.number_inpatient.astype(bool)\n",
    "\n",
    "twoRace = twoRace.drop(['number_outpatient','number_emergency','number_inpatient'], axis=1)"
   ]
  },
  {
   "cell_type": "code",
   "execution_count": 27,
   "metadata": {},
   "outputs": [
    {
     "data": {
      "text/plain": [
       "['outpatientTF: 0.16288410721026803',\n",
       " 'emergencyTF: 0.11630049075122688',\n",
       " 'inpatientTF: 0.34322385805964517']"
      ]
     },
     "execution_count": 27,
     "metadata": {},
     "output_type": "execute_result"
    }
   ],
   "source": [
    "[f'{x}: {twoRace[x].mean()}' for x in ['outpatientTF','emergencyTF','inpatientTF']]"
   ]
  },
  {
   "cell_type": "markdown",
   "metadata": {},
   "source": [
    "#### glucose measurements<a id=\"glu_meas\"></a>"
   ]
  },
  {
   "cell_type": "markdown",
   "metadata": {},
   "source": [
    "A1Cresult and max_glu_serum speak to how well the patient's diabetes is managed.  These could be interesting as well."
   ]
  },
  {
   "cell_type": "code",
   "execution_count": 28,
   "metadata": {},
   "outputs": [
    {
     "name": "stdout",
     "output_type": "stream",
     "text": [
      "None    55216\n",
      ">8       5371\n",
      "Norm     3269\n",
      ">7       2369\n",
      "Name: A1Cresult, dtype: int64 \n",
      "\n",
      "\n",
      "None    62955\n",
      "Norm     1612\n",
      ">200      877\n",
      ">300      781\n",
      "Name: max_glu_serum, dtype: int64\n"
     ]
    }
   ],
   "source": [
    "print(twoRace.A1Cresult.astype('category').value_counts(), '\\n\\n')\n",
    "print(twoRace.max_glu_serum.astype('category').value_counts())"
   ]
  },
  {
   "cell_type": "markdown",
   "metadata": {},
   "source": [
    "These values were sparesely captured and categorized into broad categories.  Unfortunately, these will need to be dropped."
   ]
  },
  {
   "cell_type": "code",
   "execution_count": 29,
   "metadata": {},
   "outputs": [],
   "source": [
    "twoRace = twoRace.drop(['A1Cresult','max_glu_serum'], axis=1)"
   ]
  },
  {
   "cell_type": "markdown",
   "metadata": {},
   "source": [
    "### numerical descriptions of admission <a id=\"num_\"></a>"
   ]
  },
  {
   "cell_type": "markdown",
   "metadata": {},
   "source": [
    "The next set of variables to explore are the different counts of occurences in during the initial admission.  These include time_in_hospital, num_lab_procedures, num_procedures, num_medications, and num_diagnoses.  At a high level, these describe the number of interventions performed during the admission."
   ]
  },
  {
   "cell_type": "code",
   "execution_count": 30,
   "metadata": {},
   "outputs": [],
   "source": [
    "encounter_attributes = twoRace[['time_in_hospital',\n",
    "                                'num_lab_procedures',\n",
    "                                'num_procedures',\n",
    "                                'num_medications',\n",
    "                                'number_diagnoses']].copy()"
   ]
  },
  {
   "cell_type": "markdown",
   "metadata": {},
   "source": [
    "I would first like to see the distribution of these variables.  I will use a box plot and histogram for this."
   ]
  },
  {
   "cell_type": "code",
   "execution_count": 31,
   "metadata": {},
   "outputs": [
    {
     "data": {
      "image/png": "[encoded data removed]",
      "text/plain": [
       "<Figure size 1200x400 with 2 Axes>"
      ]
     },
     "metadata": {},
     "output_type": "display_data"
    },
    {
     "data": {
      "image/png": "[encoded data removed]",
      "text/plain": [
       "<Figure size 1200x400 with 2 Axes>"
      ]
     },
     "metadata": {},
     "output_type": "display_data"
    },
    {
     "data": {
      "image/png": "[encoded data removed]",
      "text/plain": [
       "<Figure size 1200x400 with 2 Axes>"
      ]
     },
     "metadata": {},
     "output_type": "display_data"
    },
    {
     "data": {
      "image/png": "[encoded data removed]",
      "text/plain": [
       "<Figure size 1200x400 with 2 Axes>"
      ]
     },
     "metadata": {},
     "output_type": "display_data"
    },
    {
     "data": {
      "image/png": "[encoded data removed]",
      "text/plain": [
       "<Figure size 1200x400 with 2 Axes>"
      ]
     },
     "metadata": {},
     "output_type": "display_data"
    },
    {
     "data": {
      "text/plain": [
       "[None, None, None, None, None]"
      ]
     },
     "execution_count": 31,
     "metadata": {},
     "output_type": "execute_result"
    }
   ],
   "source": [
    "def box_and_hist_int (array):\n",
    "\n",
    "    bins = np.arange(array.min() - 0.5, array.max() + 1.5, 1)\n",
    "    \n",
    "    fig, ax = plt.subplots(1, 2, figsize=(12,4))\n",
    "\n",
    "    sns.boxplot(x=array, ax=ax[0], showfliers=True)\n",
    "    sns.histplot(array, ax=ax[1], bins=bins)\n",
    "\n",
    "    plt.show()\n",
    "    \n",
    "    return\n",
    "\n",
    "[box_and_hist_int(encounter_attributes[col]) for col in encounter_attributes.columns]"
   ]
  },
  {
   "cell_type": "markdown",
   "metadata": {},
   "source": [
    "I will make notes on what to explore next for each variable individually.  I will define outliers as outside of the right most boxplot whisker (75th perctile + 1.5 x the Interquartile range).\n",
    "\n",
    "<ul style=\"margin-bottom: 10px;\">\n",
    "    <li>time_in_hopsital</li>\n",
    "    <ul>\n",
    "        <li>there are no zeroes</li>\n",
    "        <li>the distribution looks uniform</li>\n",
    "        <li>there are outliers that will need to be examined</li>\n",
    "    </ul>\n",
    "</ul>\n",
    "\n",
    "<ul style=\"margin-bottom: 10px;\">\n",
    "    <li>num_lab_procedures</li>\n",
    "    <ul>\n",
    "        <li>there are no zeroes</li>\n",
    "        <li>something strange is happening at the value 1</li>\n",
    "        <li>the distribution looks nearly normal, except for a long right tail and a large count of \"1\"s</li>\n",
    "        <li>there are many outliers in the long right tail</li>\n",
    "    </ul>\n",
    "</ul>\n",
    "\n",
    "<ul style=\"margin-bottom: 10px;\">\n",
    "    <li>num_procedures</li>\n",
    "    <ul>\n",
    "        <li>many of the observations have a value of 0</li>\n",
    "        <li>the distribution looks uniform</li>\n",
    "        <li>there are outliers that need a closer look</li>\n",
    "    </ul>\n",
    "</ul>    \n",
    "    \n",
    "<ul style=\"margin-bottom: 10px;\">\n",
    "    <li>num_medications</li>\n",
    "    <ul>\n",
    "        <li>there are no zeroes</li>\n",
    "        <li>the distribution looks nearly normal, except for the long right tail</li>\n",
    "        <li>there are many outliers in the right tail</li>\n",
    "    </ul>\n",
    "</ul>  \n",
    "\n",
    "<ul style=\"margin-bottom: 10px;\">\n",
    "    <li>number_diagnoses\n",
    "    <ul>\n",
    "        <li>there are no zeroes</li>\n",
    "        <li>the distribution follows no pattern</li>\n",
    "        <li>the count of observations with a value of 9 is interesting</li>\n",
    "        <li>there will be a few outliers to examine.</li>\n",
    "    </ul>\n",
    "</ul> "
   ]
  },
  {
   "cell_type": "markdown",
   "metadata": {},
   "source": [
    "#### time_in_hospital<a id=\"tih\"></a>"
   ]
  },
  {
   "cell_type": "markdown",
   "metadata": {},
   "source": [
    "This variable represents the number of days in a patient's admission.  Length of stay is a valuable metric for any hospital based analyses and the uniformity of the right tail in the histogram means it would be appropriate to leave any values deemed outliers by the Q3 + 1.5xIQR definition in place."
   ]
  },
  {
   "cell_type": "markdown",
   "metadata": {},
   "source": [
    "#### num_lab_procedures<a id=\"nlp\"></a>"
   ]
  },
  {
   "cell_type": "markdown",
   "metadata": {},
   "source": [
    "I first want to make sure that I read the plot correctly and there are no observations with a value of zero in this variable."
   ]
  },
  {
   "cell_type": "code",
   "execution_count": 32,
   "metadata": {},
   "outputs": [
    {
     "data": {
      "text/plain": [
       "0"
      ]
     },
     "execution_count": 32,
     "metadata": {},
     "output_type": "execute_result"
    }
   ],
   "source": [
    "focused_variable = encounter_attributes.num_lab_procedures\n",
    "(focused_variable == 0).sum()"
   ]
  },
  {
   "cell_type": "markdown",
   "metadata": {},
   "source": [
    "There are no observations with a value of 0.  \n",
    "\n",
    "The next step is to address the observations with a value of 1.  It seems highly unlikely that an inpatient encounter would result in only 1 lab test.  There isn't anything in the [documentation for the dataset](https://archive-beta.ics.uci.edu/dataset/296/diabetes+130+us+hospitals+for+years+1999+2008) that would explan this.  Its possible there is something in the data.  To explore this, I will create a new binary variable indicating if the observation had 1 lab procedure or more than 1."
   ]
  },
  {
   "cell_type": "code",
   "execution_count": 33,
   "metadata": {},
   "outputs": [
    {
     "data": {
      "text/plain": [
       "False    64215\n",
       "True      2010\n",
       "dtype: int64"
      ]
     },
     "execution_count": 33,
     "metadata": {},
     "output_type": "execute_result"
    }
   ],
   "source": [
    "one_lab_procedure = np.where(focused_variable == 1, True, False)\n",
    "pd.DataFrame(one_lab_procedure).value_counts()"
   ]
  },
  {
   "cell_type": "markdown",
   "metadata": {},
   "source": [
    "It is possible that the new one_lab_procedure is correlated to one of the other variables or values.  I will look for this by reviewing the correlation coefficient between one_lab_procedure and the other variables, using one hot encoding for categorical variables.  Diag_1, 2 and 3 will not be included yet as they all have many levels.  These variables will be compared against one_lab_procedure in their section."
   ]
  },
  {
   "cell_type": "code",
   "execution_count": 34,
   "metadata": {},
   "outputs": [
    {
     "data": {
      "text/plain": [
       "{}"
      ]
     },
     "execution_count": 34,
     "metadata": {},
     "output_type": "execute_result"
    }
   ],
   "source": [
    "numerics = ['time_in_hospital','num_procedures','num_medications','number_diagnoses',\n",
    "            'DischargedToCare', 'outpatientTF','emergencyTF', 'inpatientTF']\n",
    "\n",
    "need_dummies = ['race','gender','age','admission_type_id','admission_source_id',\n",
    "                'metformin','repaglinide','nateglinide','chlorpropamide', 'glimepiride', \n",
    "                'glipizide','glyburide','tolbutamide', 'pioglitazone', 'rosiglitazone', \n",
    "                'acarbose','miglitol','tolazamide', 'insulin', 'glyburide-metformin', \n",
    "                'change','diabetesMed']\n",
    "\n",
    "encoded = encoder.fit_transform(twoRace[need_dummies])\n",
    "corr_df = pd.DataFrame(encoded.toarray(), columns=encoder.get_feature_names_out(), index=twoRace.index)\n",
    "corr_df = pd.concat([corr_df, twoRace[numerics]], axis=1)\n",
    "correlated_features = {}\n",
    "\n",
    "for var in corr_df.columns:\n",
    "    correlation, p_value = pearsonr(corr_df[var], one_lab_procedure)\n",
    "    if abs(correlation) > 0.5:\n",
    "        correlated_features[var] = (correlation, p_value)\n",
    "\n",
    "correlated_features        "
   ]
  },
  {
   "cell_type": "markdown",
   "metadata": {},
   "source": [
    "No other variable has more than a 0.5 correlation with one_lab_procedure.  This variable will be added to the dataset and the observations with num_lab_procedures = 1 will have this value changed to other values, sampled randomly from the distribution of the rest of the values."
   ]
  },
  {
   "cell_type": "code",
   "execution_count": 35,
   "metadata": {},
   "outputs": [
    {
     "data": {
      "image/png": "[encoded data removed]",
      "text/plain": [
       "<Figure size 1200x400 with 2 Axes>"
      ]
     },
     "metadata": {},
     "output_type": "display_data"
    }
   ],
   "source": [
    "not_one = focused_variable[focused_variable != 1]\n",
    "count_of_ones = (focused_variable == 1).sum()\n",
    "\n",
    "new_values = np.random.choice(not_one, size=count_of_ones)\n",
    "\n",
    "# Replace the 1's in 'num_lab_procedures' with the random values\n",
    "focused_variable[focused_variable == 1] = new_values\n",
    "\n",
    "box_and_hist_int(focused_variable)"
   ]
  },
  {
   "cell_type": "markdown",
   "metadata": {},
   "source": [
    "This variable has maintained its distribution without 1s and the observations with a true value of 1 have been labeled.  Next, the outliers in the right tail need to be treated.  Would it be appropriate to reassign all high outliers to the value of the right whisker (Q3 + 1.5*IQR)?"
   ]
  },
  {
   "cell_type": "code",
   "execution_count": 36,
   "metadata": {},
   "outputs": [
    {
     "data": {
      "image/png": "[encoded data removed]",
      "text/plain": [
       "<Figure size 1200x400 with 2 Axes>"
      ]
     },
     "metadata": {},
     "output_type": "display_data"
    },
    {
     "name": "stdout",
     "output_type": "stream",
     "text": [
      "       num_lab_procedures\n",
      "count        66225.000000\n",
      "mean            44.537652\n",
      "std             18.245130\n",
      "min              2.000000\n",
      "25%             34.000000\n",
      "50%             45.000000\n",
      "75%             57.000000\n",
      "max            114.000000\n"
     ]
    },
    {
     "data": {
      "image/png": "[encoded data removed]",
      "text/plain": [
       "<Figure size 1200x400 with 2 Axes>"
      ]
     },
     "metadata": {},
     "output_type": "display_data"
    },
    {
     "name": "stdout",
     "output_type": "stream",
     "text": [
      "                  0\n",
      "count  66225.000000\n",
      "mean      44.517388\n",
      "std       18.187949\n",
      "min        2.000000\n",
      "25%       34.000000\n",
      "50%       45.000000\n",
      "75%       57.000000\n",
      "max       91.500000\n",
      "\n",
      "right whisker value: 91.5\n"
     ]
    }
   ],
   "source": [
    "def iqr_info(data):\n",
    "\n",
    "    right_whisker = np.percentile(data, 75) + 1.5 * (np.percentile(data, 75) - np.percentile(data, 25))\n",
    "    reassigned = np.where(data > right_whisker, right_whisker, data)\n",
    "    box_and_hist_int(data)\n",
    "    print(pd.DataFrame(data).describe())\n",
    "    box_and_hist_int(reassigned)\n",
    "    print(pd.DataFrame(reassigned).describe())\n",
    "    print(f'\\nright whisker value: {right_whisker}')\n",
    "\n",
    "iqr_info(focused_variable)"
   ]
  },
  {
   "cell_type": "markdown",
   "metadata": {},
   "source": [
    "In this case, reassigning the outliers to the right whisker value has little impact on the shape of this variable and any information lost would be offset by removing the undue weight of the outliers.  This variable is an integer and to maintain that, 92 will be used for the max value."
   ]
  },
  {
   "cell_type": "code",
   "execution_count": 37,
   "metadata": {},
   "outputs": [],
   "source": [
    "focused_variable = np.where(focused_variable > 92, 92, focused_variable)\n",
    "twoRace['num_lab_procedures'] = focused_variable.copy()\n",
    "twoRace['one_lab_procedure'] = one_lab_procedure.copy()"
   ]
  },
  {
   "cell_type": "markdown",
   "metadata": {},
   "source": [
    "#### num_procedures<a id=\"np\"></a>"
   ]
  },
  {
   "cell_type": "code",
   "execution_count": 38,
   "metadata": {},
   "outputs": [
    {
     "data": {
      "image/png": "[encoded data removed]",
      "text/plain": [
       "<Figure size 1200x400 with 2 Axes>"
      ]
     },
     "metadata": {},
     "output_type": "display_data"
    }
   ],
   "source": [
    "box_and_hist_int(twoRace['num_procedures'])"
   ]
  },
  {
   "cell_type": "markdown",
   "metadata": {},
   "source": [
    "As expected, this variable should remain untouched.  The small range of values and uniformity should model well."
   ]
  },
  {
   "cell_type": "markdown",
   "metadata": {},
   "source": [
    "#### num_medications<a id=\"nm\"></a>"
   ]
  },
  {
   "cell_type": "code",
   "execution_count": 39,
   "metadata": {},
   "outputs": [
    {
     "data": {
      "image/png": "[encoded data removed]",
      "text/plain": [
       "<Figure size 1200x400 with 2 Axes>"
      ]
     },
     "metadata": {},
     "output_type": "display_data"
    }
   ],
   "source": [
    "focused_variable = twoRace['num_medications'].copy()\n",
    "box_and_hist_int(focused_variable)"
   ]
  },
  {
   "cell_type": "markdown",
   "metadata": {},
   "source": [
    "This is very nearly a textbook normal distribution, except for the very long right tail.  Would it be appropriate to pull all of the higher values down to the outer whisker?"
   ]
  },
  {
   "cell_type": "code",
   "execution_count": 40,
   "metadata": {},
   "outputs": [
    {
     "data": {
      "image/png": "[encoded data removed]",
      "text/plain": [
       "<Figure size 1200x400 with 2 Axes>"
      ]
     },
     "metadata": {},
     "output_type": "display_data"
    },
    {
     "name": "stdout",
     "output_type": "stream",
     "text": [
      "       num_medications\n",
      "count     66225.000000\n",
      "mean         16.023873\n",
      "std           8.086132\n",
      "min           1.000000\n",
      "25%          10.000000\n",
      "50%          15.000000\n",
      "75%          20.000000\n",
      "max          81.000000\n"
     ]
    },
    {
     "data": {
      "image/png": "[encoded data removed]",
      "text/plain": [
       "<Figure size 1200x400 with 2 Axes>"
      ]
     },
     "metadata": {},
     "output_type": "display_data"
    },
    {
     "name": "stdout",
     "output_type": "stream",
     "text": [
      "                  0\n",
      "count  66225.000000\n",
      "mean      15.817229\n",
      "std        7.374946\n",
      "min        1.000000\n",
      "25%       10.000000\n",
      "50%       15.000000\n",
      "75%       20.000000\n",
      "max       35.000000\n",
      "\n",
      "right whisker value: 35.0\n"
     ]
    }
   ],
   "source": [
    "iqr_info(focused_variable)"
   ]
  },
  {
   "cell_type": "markdown",
   "metadata": {},
   "source": [
    "This seems passable, but it does change the mean and standard deviation significantly.  Would a log transformation be more appropriate?"
   ]
  },
  {
   "cell_type": "code",
   "execution_count": 41,
   "metadata": {},
   "outputs": [
    {
     "data": {
      "text/plain": [
       "<Axes: xlabel='num_medications', ylabel='Count'>"
      ]
     },
     "execution_count": 41,
     "metadata": {},
     "output_type": "execute_result"
    },
    {
     "data": {
      "image/png": "[encoded data removed]",
      "text/plain": [
       "<Figure size 640x480 with 1 Axes>"
      ]
     },
     "metadata": {},
     "output_type": "display_data"
    }
   ],
   "source": [
    "fv_log2 = np.log2(focused_variable)\n",
    "sns.histplot(fv_log2, color='grey')\n",
    "fv_log10 = np.log10(focused_variable)\n",
    "sns.histplot(fv_log10, color='blue')"
   ]
  },
  {
   "cell_type": "markdown",
   "metadata": {},
   "source": [
    "The log10 transformation results in a more uniform distribution with fewer outliers and seems like the best way to handle the long right tail of num_medications."
   ]
  },
  {
   "cell_type": "code",
   "execution_count": 42,
   "metadata": {},
   "outputs": [],
   "source": [
    "twoRace['num_medications'] = np.log10(fv_log10)"
   ]
  },
  {
   "cell_type": "markdown",
   "metadata": {},
   "source": [
    "#### number_diagnoses<a id=\"nd\"></a>"
   ]
  },
  {
   "cell_type": "code",
   "execution_count": 43,
   "metadata": {},
   "outputs": [
    {
     "data": {
      "image/png": "[encoded data removed]",
      "text/plain": [
       "<Figure size 1200x400 with 2 Axes>"
      ]
     },
     "metadata": {},
     "output_type": "display_data"
    }
   ],
   "source": [
    "focused_variable = twoRace['number_diagnoses'].copy()\n",
    "box_and_hist_int(focused_variable)"
   ]
  },
  {
   "cell_type": "markdown",
   "metadata": {},
   "source": [
    "There is something interesting happening at 9.  It seems like it could be a result of data collection where most facilities included in the study only keep 9 diagnoses for an admission while a small number of other facilities allow more.  It could also be that a common type of admission among diabetics has a diagnoses set that includes 9 different codes.  If the second option is true, the diag_1, 2 and 3 variables should have common values for many of the observations with 9. "
   ]
  },
  {
   "cell_type": "code",
   "execution_count": 44,
   "metadata": {},
   "outputs": [
    {
     "data": {
      "text/plain": [
       "diag_1  diag_2  diag_3\n",
       "414     411     428       74\n",
       "584     276     276       63\n",
       "414     411     427       51\n",
       "428     425     427       48\n",
       "414     411     250       44\n",
       "410     428     427       41\n",
       "38      599     276       40\n",
       "486     491     428       38\n",
       "414     411     401       38\n",
       "428     403     585       37\n",
       "dtype: int64"
      ]
     },
     "execution_count": 44,
     "metadata": {},
     "output_type": "execute_result"
    }
   ],
   "source": [
    "nines = focused_variable == 9\n",
    "\n",
    "only_9_dx = twoRace.loc[nines, ['diag_1','diag_2','diag_3']]\n",
    "only_9_dx.value_counts().sort_values(ascending=False).head(10)"
   ]
  },
  {
   "cell_type": "markdown",
   "metadata": {},
   "source": [
    "The 400 series codes are heart disase codes, 500s are kidney disease and 276 is a fluid imbalance, commonly seen with kidney disorders.  This has somewhat validated the theory that the 9s could be saved codesets, but this needs to be compared to the full dataset to verify."
   ]
  },
  {
   "cell_type": "code",
   "execution_count": 45,
   "metadata": {},
   "outputs": [
    {
     "data": {
      "text/plain": [
       "diag_1  diag_2  diag_3\n",
       "414     411     250       216\n",
       "                401       168\n",
       "786     401     250       168\n",
       "        250     401       158\n",
       "410     414     250       143\n",
       "715     401     250       136\n",
       "414     401     250       118\n",
       "715     250     401       116\n",
       "414     250     401       114\n",
       "        411     428       109\n",
       "dtype: int64"
      ]
     },
     "execution_count": 45,
     "metadata": {},
     "output_type": "execute_result"
    }
   ],
   "source": [
    "twoRace[['diag_1','diag_2','diag_3']].value_counts().sort_values(ascending=False).head(10)"
   ]
  },
  {
   "cell_type": "markdown",
   "metadata": {},
   "source": [
    "At a glance, the top 3 diagnoses of the oberservations with 9 diagnoses are much different than the full set.  This lends more weight to the idea that they are saved codesets.  Are these top 3 diagnoses similar for observations that have 9 total diagnoses and more than 9?"
   ]
  },
  {
   "cell_type": "code",
   "execution_count": 46,
   "metadata": {},
   "outputs": [
    {
     "data": {
      "text/plain": [
       "diag_1  diag_2  diag_3\n",
       "157     415     199       1\n",
       "403     585     250.8     1\n",
       "250.4   425     276       1\n",
       "250.8   458     V08       1\n",
       "        518     707       1\n",
       "250.82  707     682       1\n",
       "276     486     599       1\n",
       "        584     562       1\n",
       "        785     585       1\n",
       "283     574     250.02    1\n",
       "dtype: int64"
      ]
     },
     "execution_count": 46,
     "metadata": {},
     "output_type": "execute_result"
    }
   ],
   "source": [
    "more_than_nine = focused_variable > 9\n",
    "more_than_nine = twoRace.loc[more_than_nine, ['diag_1','diag_2','diag_3']]\n",
    "more_than_nine.value_counts().sort_values(ascending=False).head(10)"
   ]
  },
  {
   "cell_type": "markdown",
   "metadata": {},
   "source": [
    "No, every observation with more than 9 diagnoses has different values for diagnoses 1-3.  What does this distribution look like if we apply the q3 + 1.5iqr rule to it?"
   ]
  },
  {
   "cell_type": "code",
   "execution_count": 47,
   "metadata": {},
   "outputs": [
    {
     "data": {
      "image/png": "[encoded data removed]",
      "text/plain": [
       "<Figure size 1200x400 with 2 Axes>"
      ]
     },
     "metadata": {},
     "output_type": "display_data"
    },
    {
     "name": "stdout",
     "output_type": "stream",
     "text": [
      "       number_diagnoses\n",
      "count      66225.000000\n",
      "mean           7.420385\n",
      "std            1.925318\n",
      "min            1.000000\n",
      "25%            6.000000\n",
      "50%            8.000000\n",
      "75%            9.000000\n",
      "max           16.000000\n"
     ]
    },
    {
     "data": {
      "image/png": "[encoded data removed]",
      "text/plain": [
       "<Figure size 1200x400 with 2 Axes>"
      ]
     },
     "metadata": {},
     "output_type": "display_data"
    },
    {
     "name": "stdout",
     "output_type": "stream",
     "text": [
      "                  0\n",
      "count  66225.000000\n",
      "mean       7.419434\n",
      "std        1.921738\n",
      "min        1.000000\n",
      "25%        6.000000\n",
      "50%        8.000000\n",
      "75%        9.000000\n",
      "max       13.500000\n",
      "\n",
      "right whisker value: 13.5\n"
     ]
    }
   ],
   "source": [
    "iqr_info(focused_variable)"
   ]
  },
  {
   "cell_type": "markdown",
   "metadata": {},
   "source": [
    "This seems like an acceptable way to handle these outliers."
   ]
  },
  {
   "cell_type": "code",
   "execution_count": 48,
   "metadata": {},
   "outputs": [],
   "source": [
    "outer_whisker = np.percentile(focused_variable, 75) + 1.5 * (np.percentile(focused_variable, 75) - np.percentile(focused_variable, 25))\n",
    "twoRace.number_diagnoses = np.where(focused_variable > outer_whisker, outer_whisker, focused_variable)"
   ]
  },
  {
   "cell_type": "markdown",
   "metadata": {},
   "source": [
    "### diag_1-3<a id=\"dx\"></a>"
   ]
  },
  {
   "cell_type": "code",
   "execution_count": 49,
   "metadata": {},
   "outputs": [],
   "source": [
    "focused_variable = twoRace[['diag_1','diag_2','diag_3']].copy()"
   ]
  },
  {
   "cell_type": "markdown",
   "metadata": {},
   "source": [
    "The top 3 diagnoses for the patient's admission will be the next target of this exploration.  These are stored as ICD9 codes that describe a patient's condition.  Knowing how much of each variable is missing or formatted incorrectly would be a good place to start with these.  CMS has a well defined [format](https://www.cms.gov/Medicare/Quality-Initiatives-Patient-Assessment-Instruments/HospitalQualityInits/Downloads/HospitalAppendix_F.pdf) for ICD9 codes.  This is also found in the references folder of this project."
   ]
  },
  {
   "cell_type": "code",
   "execution_count": 50,
   "metadata": {},
   "outputs": [
    {
     "data": {
      "text/plain": [
       "['diag_1: (1738, 0)', 'diag_2: (1306, 0)', 'diag_3: (1894, 0)']"
      ]
     },
     "execution_count": 50,
     "metadata": {},
     "output_type": "execute_result"
    }
   ],
   "source": [
    "def bad_icd_len(diags):\n",
    "    diags = diags.astype(str)\n",
    "    too_short = (diags.str.len() < 3).sum()\n",
    "    too_long = (diags.str.len() > 6).sum()\n",
    "    return(too_short, too_long)\n",
    "\n",
    "[f'{dx}: {bad_icd_len(focused_variable[dx])}' for dx in focused_variable]"
   ]
  },
  {
   "cell_type": "markdown",
   "metadata": {},
   "source": [
    "All 3 diagnoses variables have values that are too short.  What do these look like?"
   ]
  },
  {
   "cell_type": "code",
   "execution_count": 51,
   "metadata": {},
   "outputs": [
    {
     "data": {
      "text/plain": [
       "{'diag_1': encounter_id\n",
       " 154962672    79\n",
       " 134785944    38\n",
       " 20188626     38\n",
       " 188046018    38\n",
       " 354954188    38\n",
       " 193820394    38\n",
       " 269796240    38\n",
       " 212953542    38\n",
       " 67326456     42\n",
       " 108723540     8\n",
       " Name: diag_1, dtype: object,\n",
       " 'diag_2': encounter_id\n",
       " 71022186     70\n",
       " 106180584    38\n",
       " 279893982    41\n",
       " 38225280      ?\n",
       " 53013012     38\n",
       " 110516160    41\n",
       " 249229662     8\n",
       " 155541264    70\n",
       " 11204994     34\n",
       " 223146180    42\n",
       " Name: diag_2, dtype: object,\n",
       " 'diag_3': encounter_id\n",
       " 97266516     70\n",
       " 38006994      ?\n",
       " 329574596    41\n",
       " 106942224     ?\n",
       " 179921040     ?\n",
       " 240689280    70\n",
       " 8308146      70\n",
       " 22788300      ?\n",
       " 150989268    41\n",
       " 214066392     ?\n",
       " Name: diag_3, dtype: object}"
      ]
     },
     "execution_count": 51,
     "metadata": {},
     "output_type": "execute_result"
    }
   ],
   "source": [
    "{dx: focused_variable[dx][focused_variable[dx].str.len() < 3].sample(n=10) for dx in focused_variable}"
   ]
  },
  {
   "cell_type": "markdown",
   "metadata": {},
   "source": [
    "From these samples, there are 2 issues to address.\n",
    "\n",
    "1. The leading 0 has been removed from the 000-099 series of codes.\n",
    "2. Missing codes have a value of \"?\"\n",
    "\n",
    "Issue 1 will be addressed first by padding the leading zeroes back onto the front of the codes."
   ]
  },
  {
   "cell_type": "code",
   "execution_count": 52,
   "metadata": {},
   "outputs": [],
   "source": [
    "for col in focused_variable.columns:\n",
    "    focused_variable[col] = focused_variable[col].str.zfill(3)"
   ]
  },
  {
   "cell_type": "markdown",
   "metadata": {},
   "source": [
    "I would like to explore using Word2Vec to create new features for the diag_x columns.  Missing values should not be included in the training.  I will create 1 sentence per observation that includes all non-missing values from diag_1-3.  In the interest of time, the vector size and workers will be based on my laptop's hardware."
   ]
  },
  {
   "cell_type": "code",
   "execution_count": 53,
   "metadata": {},
   "outputs": [],
   "source": [
    "fv_no_missing = focused_variable.replace('00?', np.nan).copy()\n",
    "sentences = fv_no_missing.apply(lambda row: row.dropna().tolist(), axis=1).tolist()\n",
    "model = Word2Vec(sentences, vector_size=500, window=2, min_count=1, workers=16)"
   ]
  },
  {
   "cell_type": "markdown",
   "metadata": {},
   "source": [
    "A new continuous variable will be created and assigned the value of the median of the vectors assigned to each diagnosis word.  "
   ]
  },
  {
   "cell_type": "code",
   "execution_count": 54,
   "metadata": {},
   "outputs": [],
   "source": [
    "def vec_dx(dx_list, model):\n",
    "    dx_list = dx_list.tolist()\n",
    "    vectors = [model.wv[dx] for dx in dx_list if dx in model.wv]\n",
    "    return np.median(vectors)\n",
    "\n",
    "fv_no_missing['3dx_vector'] = fv_no_missing[['diag_1','diag_2','diag_3']].apply(lambda row: vec_dx(row, model), axis=1)"
   ]
  },
  {
   "cell_type": "markdown",
   "metadata": {},
   "source": [
    "The new variable containing the median of the vectors will then have k-means clustering applied to group each unique set of values of diag_1-3 into broader categories that are similar to each other.  The number of clusters was selected based on the highest silhouette score in a reasonable range."
   ]
  },
  {
   "cell_type": "code",
   "execution_count": 55,
   "metadata": {},
   "outputs": [],
   "source": [
    "vectors = np.array(fv_no_missing['3dx_vector'].tolist())\n",
    "reshaped_vectors = vectors.reshape(-1, 1)\n",
    "\n",
    "#min_clusters = 3\n",
    "#max_clusters = 15\n",
    "#silhouette_scores = []\n",
    "\n",
    "#for n_clusters in range(min_clusters, max_clusters+1):\n",
    "#    kmeans = KMeans(n_clusters=n_clusters)\n",
    "#    cluster_labels = kmeans.fit_predict(reshaped_vectors)\n",
    "#    sihouette_avg = silhouette_score(reshaped_vectors, cluster_labels)\n",
    "#    silhouette_scores.append(sihouette_avg)\n",
    "    \n",
    "#plt.plot(range(min_clusters, max_clusters+1), silhouette_scores, marker='o')\n",
    "#plt.xlabel(\"Number of Clusters\")\n",
    "#plt.ylabel(\"Silhouette Score\")\n",
    "#plt.title(\"Silhouette Analysis\")\n",
    "#plt.show()"
   ]
  },
  {
   "cell_type": "code",
   "execution_count": 56,
   "metadata": {},
   "outputs": [
    {
     "data": {
      "text/html": [
       "<div>\n",
       "<style scoped>\n",
       "    .dataframe tbody tr th:only-of-type {\n",
       "        vertical-align: middle;\n",
       "    }\n",
       "\n",
       "    .dataframe tbody tr th {\n",
       "        vertical-align: top;\n",
       "    }\n",
       "\n",
       "    .dataframe thead th {\n",
       "        text-align: right;\n",
       "    }\n",
       "</style>\n",
       "<table border=\"1\" class=\"dataframe\">\n",
       "  <thead>\n",
       "    <tr style=\"text-align: right;\">\n",
       "      <th></th>\n",
       "      <th>diag_1</th>\n",
       "      <th>diag_2</th>\n",
       "      <th>diag_3</th>\n",
       "      <th>3dx_vector</th>\n",
       "      <th>dx_cluster</th>\n",
       "    </tr>\n",
       "    <tr>\n",
       "      <th>encounter_id</th>\n",
       "      <th></th>\n",
       "      <th></th>\n",
       "      <th></th>\n",
       "      <th></th>\n",
       "      <th></th>\n",
       "    </tr>\n",
       "  </thead>\n",
       "  <tbody>\n",
       "    <tr>\n",
       "      <th>64410</th>\n",
       "      <td>648</td>\n",
       "      <td>250</td>\n",
       "      <td>V27</td>\n",
       "      <td>-0.002332</td>\n",
       "      <td>3</td>\n",
       "    </tr>\n",
       "    <tr>\n",
       "      <th>28236</th>\n",
       "      <td>250.7</td>\n",
       "      <td>403</td>\n",
       "      <td>996</td>\n",
       "      <td>0.004136</td>\n",
       "      <td>1</td>\n",
       "    </tr>\n",
       "    <tr>\n",
       "      <th>36900</th>\n",
       "      <td>157</td>\n",
       "      <td>288</td>\n",
       "      <td>197</td>\n",
       "      <td>-0.006974</td>\n",
       "      <td>2</td>\n",
       "    </tr>\n",
       "    <tr>\n",
       "      <th>62256</th>\n",
       "      <td>518</td>\n",
       "      <td>998</td>\n",
       "      <td>627</td>\n",
       "      <td>0.000230</td>\n",
       "      <td>0</td>\n",
       "    </tr>\n",
       "    <tr>\n",
       "      <th>73578</th>\n",
       "      <td>999</td>\n",
       "      <td>507</td>\n",
       "      <td>996</td>\n",
       "      <td>0.001425</td>\n",
       "      <td>4</td>\n",
       "    </tr>\n",
       "    <tr>\n",
       "      <th>...</th>\n",
       "      <td>...</td>\n",
       "      <td>...</td>\n",
       "      <td>...</td>\n",
       "      <td>...</td>\n",
       "      <td>...</td>\n",
       "    </tr>\n",
       "    <tr>\n",
       "      <th>179844000</th>\n",
       "      <td>403</td>\n",
       "      <td>536</td>\n",
       "      <td>250</td>\n",
       "      <td>0.000797</td>\n",
       "      <td>0</td>\n",
       "    </tr>\n",
       "    <tr>\n",
       "      <th>274508874</th>\n",
       "      <td>515</td>\n",
       "      <td>799</td>\n",
       "      <td>466</td>\n",
       "      <td>0.002994</td>\n",
       "      <td>1</td>\n",
       "    </tr>\n",
       "    <tr>\n",
       "      <th>132023796</th>\n",
       "      <td>486</td>\n",
       "      <td>427</td>\n",
       "      <td>427</td>\n",
       "      <td>0.004295</td>\n",
       "      <td>1</td>\n",
       "    </tr>\n",
       "    <tr>\n",
       "      <th>163450164</th>\n",
       "      <td>820</td>\n",
       "      <td>359</td>\n",
       "      <td>E888</td>\n",
       "      <td>-0.001378</td>\n",
       "      <td>7</td>\n",
       "    </tr>\n",
       "    <tr>\n",
       "      <th>41227350</th>\n",
       "      <td>280</td>\n",
       "      <td>427</td>\n",
       "      <td>427</td>\n",
       "      <td>0.005343</td>\n",
       "      <td>6</td>\n",
       "    </tr>\n",
       "  </tbody>\n",
       "</table>\n",
       "<p>66225 rows × 5 columns</p>\n",
       "</div>"
      ],
      "text/plain": [
       "             diag_1 diag_2 diag_3  3dx_vector  dx_cluster\n",
       "encounter_id                                             \n",
       "64410           648    250    V27   -0.002332           3\n",
       "28236         250.7    403    996    0.004136           1\n",
       "36900           157    288    197   -0.006974           2\n",
       "62256           518    998    627    0.000230           0\n",
       "73578           999    507    996    0.001425           4\n",
       "...             ...    ...    ...         ...         ...\n",
       "179844000       403    536    250    0.000797           0\n",
       "274508874       515    799    466    0.002994           1\n",
       "132023796       486    427    427    0.004295           1\n",
       "163450164       820    359   E888   -0.001378           7\n",
       "41227350        280    427    427    0.005343           6\n",
       "\n",
       "[66225 rows x 5 columns]"
      ]
     },
     "execution_count": 56,
     "metadata": {},
     "output_type": "execute_result"
    }
   ],
   "source": [
    "kmeans = KMeans(n_clusters=9)\n",
    "cluster_labels = kmeans.fit(reshaped_vectors)\n",
    "cluster_labels = cluster_labels.labels_\n",
    "fv_no_missing['dx_cluster'] =  cluster_labels\n",
    "fv_no_missing"
   ]
  },
  {
   "cell_type": "markdown",
   "metadata": {},
   "source": [
    "This new feature represents groups of similar diagnoses in each admission.  It will replace diag_1-3."
   ]
  },
  {
   "cell_type": "code",
   "execution_count": 57,
   "metadata": {},
   "outputs": [],
   "source": [
    "twoRace['dx_cluster'] = fv_no_missing['dx_cluster']\n",
    "twoRace = twoRace.drop(['diag_1','diag_2','diag_3'], axis=1)"
   ]
  },
  {
   "cell_type": "markdown",
   "metadata": {},
   "source": [
    "The new feature should also be checked for correlation with one_lab_procedure"
   ]
  },
  {
   "cell_type": "code",
   "execution_count": 58,
   "metadata": {},
   "outputs": [
    {
     "data": {
      "text/plain": [
       "1.2492324271396358e-16"
      ]
     },
     "execution_count": 58,
     "metadata": {},
     "output_type": "execute_result"
    }
   ],
   "source": [
    "chi2pvalue(twoRace.one_lab_procedure, twoRace.dx_cluster)"
   ]
  },
  {
   "cell_type": "markdown",
   "metadata": {},
   "source": [
    "It is safe to leave the new feature in place. "
   ]
  },
  {
   "cell_type": "markdown",
   "metadata": {},
   "source": [
    "### medications<a id=\"meds\"></a>"
   ]
  },
  {
   "cell_type": "markdown",
   "metadata": {},
   "source": [
    "The last set of features to explore are the features that represent whether a particular prescription was continued after the admission or had its dosage changed.  "
   ]
  },
  {
   "cell_type": "code",
   "execution_count": 59,
   "metadata": {},
   "outputs": [
    {
     "name": "stdout",
     "output_type": "stream",
     "text": [
      "metformin:\n",
      "['No' 'Steady' 'Up' 'Down'] \n",
      "\n",
      "repaglinide:\n",
      "['No' 'Steady' 'Up' 'Down'] \n",
      "\n",
      "nateglinide:\n",
      "['No' 'Steady' 'Up' 'Down'] \n",
      "\n",
      "chlorpropamide:\n",
      "['No' 'Steady' 'Up'] \n",
      "\n",
      "glimepiride:\n",
      "['No' 'Steady' 'Down' 'Up'] \n",
      "\n",
      "glipizide:\n",
      "['Steady' 'No' 'Up' 'Down'] \n",
      "\n",
      "glyburide:\n",
      "['No' 'Up' 'Steady' 'Down'] \n",
      "\n",
      "tolbutamide:\n",
      "['No' 'Steady'] \n",
      "\n",
      "pioglitazone:\n",
      "['No' 'Steady' 'Down' 'Up'] \n",
      "\n",
      "rosiglitazone:\n",
      "['No' 'Steady' 'Up' 'Down'] \n",
      "\n",
      "acarbose:\n",
      "['No' 'Steady' 'Up' 'Down'] \n",
      "\n",
      "miglitol:\n",
      "['No' 'Steady' 'Up' 'Down'] \n",
      "\n",
      "tolazamide:\n",
      "['No' 'Steady' 'Up'] \n",
      "\n",
      "insulin:\n",
      "['No' 'Steady' 'Up' 'Down'] \n",
      "\n",
      "glyburide-metformin:\n",
      "['No' 'Steady' 'Down' 'Up'] \n",
      "\n"
     ]
    }
   ],
   "source": [
    "focused_variable = twoRace[['metformin','repaglinide','nateglinide','chlorpropamide','glimepiride','glipizide', \n",
    "                            'glyburide','tolbutamide','pioglitazone','rosiglitazone','acarbose','miglitol', \n",
    "                            'tolazamide','insulin','glyburide-metformin']].copy()\n",
    "\n",
    "for column in focused_variable.columns:\n",
    "    unique_values = focused_variable[column].unique()\n",
    "    print(f'{column}:')\n",
    "    print(unique_values, '\\n')    "
   ]
  },
  {
   "cell_type": "markdown",
   "metadata": {},
   "source": [
    "It looks like the levels for these categorical features are 'No', 'Up', 'Steady', and 'Down'. Although there are 3 medications that don't have the complete set of values, they share some of this list and it can be inferred that these were possibilities during data collection. In most cases, the levels for these categorical features are 'No', 'Up', 'Steady', and 'Down'.  Although there are 3 medications that don't have the complete set of values, they share some of this list and it can be inferred that these were possibilities during data collection.\n",
    "\n",
    "The glyburide-metformin combination could be redundant with the columns for the 2 individual drugs.  If they are redundant, the values across all 3 would match.  If they are not, the value of the combination would be populated (not 'No') and the value of the other 2 would not be (= 'No').  Is this what is happening?"
   ]
  },
  {
   "cell_type": "code",
   "execution_count": 60,
   "metadata": {},
   "outputs": [
    {
     "data": {
      "text/plain": [
       "metformin  glyburide  glyburide-metformin\n",
       "Down       Steady     Steady                   1\n",
       "           Up         Steady                   1\n",
       "No         Down       Steady                   1\n",
       "           No         Steady                 360\n",
       "                      Up                       5\n",
       "                      Down                     2\n",
       "           Steady     Steady                  15\n",
       "           Up         Steady                   1\n",
       "Steady     No         Steady                  22\n",
       "           Steady     Steady                   6\n",
       "           Up         Steady                   1\n",
       "Up         No         Steady                   1\n",
       "           Steady     Steady                   2\n",
       "dtype: int64"
      ]
     },
     "execution_count": 60,
     "metadata": {},
     "output_type": "execute_result"
    }
   ],
   "source": [
    "gbmt = focused_variable[['metformin','glyburide','glyburide-metformin']]\n",
    "gbmt[gbmt['glyburide-metformin'] != 'No'].groupby(['metformin','glyburide']).value_counts()"
   ]
  },
  {
   "cell_type": "markdown",
   "metadata": {},
   "source": [
    "For the majority of observations, this holds true.  It is possible for patients to have any combination of the prescriptions, but it should be rare.  That is what is seen here and no further action is needed on these variables.  \n",
    "\n",
    "Next, the high dimenstionality of these variables needs to be addressed.  There are 15 potentially low value variables here.  Encoding these would yield at least 40 total.  Some dimensionality reduction is needed.  Drugs are often grouped into pharmaceutical classes.  Several of the drugs in this list share a pharmaceutical class.  These classes describe the intended effect of the drug on specific body systems.  Patients should not be taking more than one drug of a class.  Let's make sure this is mostly true for this data.  The pharm class data was pulled from [drugbank.com](https://go.drugbank.com/)."
   ]
  },
  {
   "cell_type": "code",
   "execution_count": 61,
   "metadata": {},
   "outputs": [
    {
     "data": {
      "text/html": [
       "<div>\n",
       "<style scoped>\n",
       "    .dataframe tbody tr th:only-of-type {\n",
       "        vertical-align: middle;\n",
       "    }\n",
       "\n",
       "    .dataframe tbody tr th {\n",
       "        vertical-align: top;\n",
       "    }\n",
       "\n",
       "    .dataframe thead th {\n",
       "        text-align: right;\n",
       "    }\n",
       "</style>\n",
       "<table border=\"1\" class=\"dataframe\">\n",
       "  <thead>\n",
       "    <tr style=\"text-align: right;\">\n",
       "      <th></th>\n",
       "      <th>repaglinide</th>\n",
       "      <th>nateglinide</th>\n",
       "      <th>chlorpropamide</th>\n",
       "      <th>glimepiride</th>\n",
       "      <th>glipizide</th>\n",
       "      <th>glyburide</th>\n",
       "      <th>tolbutamide</th>\n",
       "      <th>pioglitazone</th>\n",
       "      <th>rosiglitazone</th>\n",
       "      <th>acarbose</th>\n",
       "      <th>miglitol</th>\n",
       "      <th>tolazamide</th>\n",
       "    </tr>\n",
       "    <tr>\n",
       "      <th>encounter_id</th>\n",
       "      <th></th>\n",
       "      <th></th>\n",
       "      <th></th>\n",
       "      <th></th>\n",
       "      <th></th>\n",
       "      <th></th>\n",
       "      <th></th>\n",
       "      <th></th>\n",
       "      <th></th>\n",
       "      <th></th>\n",
       "      <th></th>\n",
       "      <th></th>\n",
       "    </tr>\n",
       "  </thead>\n",
       "  <tbody>\n",
       "    <tr>\n",
       "      <th>8688120</th>\n",
       "      <td>No</td>\n",
       "      <td>No</td>\n",
       "      <td>No</td>\n",
       "      <td>Steady</td>\n",
       "      <td>Steady</td>\n",
       "      <td>Steady</td>\n",
       "      <td>No</td>\n",
       "      <td>No</td>\n",
       "      <td>No</td>\n",
       "      <td>No</td>\n",
       "      <td>No</td>\n",
       "      <td>No</td>\n",
       "    </tr>\n",
       "    <tr>\n",
       "      <th>9459792</th>\n",
       "      <td>No</td>\n",
       "      <td>No</td>\n",
       "      <td>No</td>\n",
       "      <td>Up</td>\n",
       "      <td>Steady</td>\n",
       "      <td>No</td>\n",
       "      <td>No</td>\n",
       "      <td>No</td>\n",
       "      <td>No</td>\n",
       "      <td>No</td>\n",
       "      <td>No</td>\n",
       "      <td>No</td>\n",
       "    </tr>\n",
       "    <tr>\n",
       "      <th>9808008</th>\n",
       "      <td>No</td>\n",
       "      <td>No</td>\n",
       "      <td>No</td>\n",
       "      <td>No</td>\n",
       "      <td>Up</td>\n",
       "      <td>Steady</td>\n",
       "      <td>No</td>\n",
       "      <td>No</td>\n",
       "      <td>No</td>\n",
       "      <td>No</td>\n",
       "      <td>No</td>\n",
       "      <td>No</td>\n",
       "    </tr>\n",
       "    <tr>\n",
       "      <th>11081784</th>\n",
       "      <td>No</td>\n",
       "      <td>No</td>\n",
       "      <td>No</td>\n",
       "      <td>No</td>\n",
       "      <td>Steady</td>\n",
       "      <td>Steady</td>\n",
       "      <td>No</td>\n",
       "      <td>No</td>\n",
       "      <td>No</td>\n",
       "      <td>No</td>\n",
       "      <td>No</td>\n",
       "      <td>No</td>\n",
       "    </tr>\n",
       "    <tr>\n",
       "      <th>22051944</th>\n",
       "      <td>No</td>\n",
       "      <td>No</td>\n",
       "      <td>No</td>\n",
       "      <td>No</td>\n",
       "      <td>Steady</td>\n",
       "      <td>Steady</td>\n",
       "      <td>No</td>\n",
       "      <td>No</td>\n",
       "      <td>No</td>\n",
       "      <td>No</td>\n",
       "      <td>No</td>\n",
       "      <td>No</td>\n",
       "    </tr>\n",
       "    <tr>\n",
       "      <th>...</th>\n",
       "      <td>...</td>\n",
       "      <td>...</td>\n",
       "      <td>...</td>\n",
       "      <td>...</td>\n",
       "      <td>...</td>\n",
       "      <td>...</td>\n",
       "      <td>...</td>\n",
       "      <td>...</td>\n",
       "      <td>...</td>\n",
       "      <td>...</td>\n",
       "      <td>...</td>\n",
       "      <td>...</td>\n",
       "    </tr>\n",
       "    <tr>\n",
       "      <th>125525730</th>\n",
       "      <td>No</td>\n",
       "      <td>No</td>\n",
       "      <td>No</td>\n",
       "      <td>Steady</td>\n",
       "      <td>Steady</td>\n",
       "      <td>No</td>\n",
       "      <td>No</td>\n",
       "      <td>Steady</td>\n",
       "      <td>No</td>\n",
       "      <td>No</td>\n",
       "      <td>No</td>\n",
       "      <td>No</td>\n",
       "    </tr>\n",
       "    <tr>\n",
       "      <th>383781080</th>\n",
       "      <td>No</td>\n",
       "      <td>No</td>\n",
       "      <td>No</td>\n",
       "      <td>No</td>\n",
       "      <td>Steady</td>\n",
       "      <td>No</td>\n",
       "      <td>No</td>\n",
       "      <td>Steady</td>\n",
       "      <td>Steady</td>\n",
       "      <td>No</td>\n",
       "      <td>No</td>\n",
       "      <td>No</td>\n",
       "    </tr>\n",
       "    <tr>\n",
       "      <th>199516566</th>\n",
       "      <td>No</td>\n",
       "      <td>No</td>\n",
       "      <td>No</td>\n",
       "      <td>No</td>\n",
       "      <td>No</td>\n",
       "      <td>No</td>\n",
       "      <td>No</td>\n",
       "      <td>Steady</td>\n",
       "      <td>Steady</td>\n",
       "      <td>No</td>\n",
       "      <td>No</td>\n",
       "      <td>No</td>\n",
       "    </tr>\n",
       "    <tr>\n",
       "      <th>64410936</th>\n",
       "      <td>No</td>\n",
       "      <td>No</td>\n",
       "      <td>No</td>\n",
       "      <td>No</td>\n",
       "      <td>Steady</td>\n",
       "      <td>Steady</td>\n",
       "      <td>No</td>\n",
       "      <td>No</td>\n",
       "      <td>No</td>\n",
       "      <td>No</td>\n",
       "      <td>No</td>\n",
       "      <td>No</td>\n",
       "    </tr>\n",
       "    <tr>\n",
       "      <th>64948056</th>\n",
       "      <td>No</td>\n",
       "      <td>No</td>\n",
       "      <td>No</td>\n",
       "      <td>No</td>\n",
       "      <td>Steady</td>\n",
       "      <td>Steady</td>\n",
       "      <td>No</td>\n",
       "      <td>Up</td>\n",
       "      <td>No</td>\n",
       "      <td>No</td>\n",
       "      <td>No</td>\n",
       "      <td>No</td>\n",
       "    </tr>\n",
       "  </tbody>\n",
       "</table>\n",
       "<p>280 rows × 12 columns</p>\n",
       "</div>"
      ],
      "text/plain": [
       "             repaglinide nateglinide chlorpropamide glimepiride glipizide  \\\n",
       "encounter_id                                                                \n",
       "8688120               No          No             No      Steady    Steady   \n",
       "9459792               No          No             No          Up    Steady   \n",
       "9808008               No          No             No          No        Up   \n",
       "11081784              No          No             No          No    Steady   \n",
       "22051944              No          No             No          No    Steady   \n",
       "...                  ...         ...            ...         ...       ...   \n",
       "125525730             No          No             No      Steady    Steady   \n",
       "383781080             No          No             No          No    Steady   \n",
       "199516566             No          No             No          No        No   \n",
       "64410936              No          No             No          No    Steady   \n",
       "64948056              No          No             No          No    Steady   \n",
       "\n",
       "             glyburide tolbutamide pioglitazone rosiglitazone acarbose  \\\n",
       "encounter_id                                                             \n",
       "8688120         Steady          No           No            No       No   \n",
       "9459792             No          No           No            No       No   \n",
       "9808008         Steady          No           No            No       No   \n",
       "11081784        Steady          No           No            No       No   \n",
       "22051944        Steady          No           No            No       No   \n",
       "...                ...         ...          ...           ...      ...   \n",
       "125525730           No          No       Steady            No       No   \n",
       "383781080           No          No       Steady        Steady       No   \n",
       "199516566           No          No       Steady        Steady       No   \n",
       "64410936        Steady          No           No            No       No   \n",
       "64948056        Steady          No           Up            No       No   \n",
       "\n",
       "             miglitol tolazamide  \n",
       "encounter_id                      \n",
       "8688120            No         No  \n",
       "9459792            No         No  \n",
       "9808008            No         No  \n",
       "11081784           No         No  \n",
       "22051944           No         No  \n",
       "...               ...        ...  \n",
       "125525730          No         No  \n",
       "383781080          No         No  \n",
       "199516566          No         No  \n",
       "64410936           No         No  \n",
       "64948056           No         No  \n",
       "\n",
       "[280 rows x 12 columns]"
      ]
     },
     "execution_count": 61,
     "metadata": {},
     "output_type": "execute_result"
    }
   ],
   "source": [
    "drug_classes = {\n",
    "    'metformin': 'Biguanide',\n",
    "    'repaglinide': 'Meglitinide',\n",
    "    'nateglinide': 'Meglitinide',\n",
    "    'chlorpropamide': 'Sulfonylurea',\n",
    "    'glimepiride': 'Sulfonylurea',\n",
    "    'glipizide': 'Sulfonylurea',\n",
    "    'glyburide': 'Sulfonylurea',\n",
    "    'tolbutamide': 'Sulfonylurea',    \n",
    "    'pioglitazone': 'Thiazolidinedione',\n",
    "    'rosiglitazone': 'Thiazolidinedione',\n",
    "    'acarbose': 'Alpha-glucosidase inhibitor',\n",
    "    'miglitol': 'Alpha-glucosidase inhibitor',\n",
    "    'tolazamide': 'Sulfonylurea',\n",
    "    'insulin': 'Hormone',\n",
    "    'glyburide-metformin': 'Combination medication (Sulfonylurea + Biguanide)'\n",
    "}\n",
    "\n",
    "multi_drug_classes = {\n",
    "    'repaglinide': 'Meglitinide',\n",
    "    'nateglinide': 'Meglitinide',\n",
    "    'chlorpropamide': 'Sulfonylurea',\n",
    "    'glimepiride': 'Sulfonylurea',\n",
    "    'glipizide': 'Sulfonylurea',\n",
    "    'glyburide': 'Sulfonylurea',\n",
    "    'tolbutamide': 'Sulfonylurea',    \n",
    "    'pioglitazone': 'Thiazolidinedione',\n",
    "    'rosiglitazone': 'Thiazolidinedione',\n",
    "    'acarbose': 'Alpha-glucosidase inhibitor',\n",
    "    'miglitol': 'Alpha-glucosidase inhibitor',\n",
    "    'tolazamide': 'Sulfonylurea'\n",
    "}\n",
    "\n",
    "multi_class_locs = []\n",
    "fv_just_mult = focused_variable[list(multi_drug_classes.keys())]\n",
    "\n",
    "for index, row in fv_just_mult.iterrows():\n",
    "    count_by_class = {}\n",
    "    not_no_count = 0\n",
    "\n",
    "    for drug, class_name in multi_drug_classes.items():\n",
    "        value = row[drug]\n",
    "        if value != \"No\":\n",
    "            not_no_count += 1\n",
    "            count_by_class[class_name] = count_by_class.get(class_name, 0) + 1\n",
    "\n",
    "    if not_no_count >= 2 and max(count_by_class.values()) >= 2:\n",
    "        multi_class_locs.append(index)\n",
    "\n",
    "multi_class_obs = fv_just_mult.loc[multi_class_locs]\n",
    "fv_just_mult.loc[multi_class_locs]"
   ]
  },
  {
   "cell_type": "markdown",
   "metadata": {},
   "source": [
    "As expected, this case is rare.  Each of the combinations here involve holding one drug (or more than one from the class) steady and increasing the other.  The net effect of this is that the class was increased.  A new feature with the class name would be \"Up\".  This creates a problem if any of these observations have \"Up\" and \"Down\" in the same class."
   ]
  },
  {
   "cell_type": "code",
   "execution_count": 62,
   "metadata": {},
   "outputs": [
    {
     "data": {
      "text/html": [
       "<div>\n",
       "<style scoped>\n",
       "    .dataframe tbody tr th:only-of-type {\n",
       "        vertical-align: middle;\n",
       "    }\n",
       "\n",
       "    .dataframe tbody tr th {\n",
       "        vertical-align: top;\n",
       "    }\n",
       "\n",
       "    .dataframe thead th {\n",
       "        text-align: right;\n",
       "    }\n",
       "</style>\n",
       "<table border=\"1\" class=\"dataframe\">\n",
       "  <thead>\n",
       "    <tr style=\"text-align: right;\">\n",
       "      <th></th>\n",
       "      <th>repaglinide</th>\n",
       "      <th>nateglinide</th>\n",
       "      <th>chlorpropamide</th>\n",
       "      <th>glimepiride</th>\n",
       "      <th>glipizide</th>\n",
       "      <th>glyburide</th>\n",
       "      <th>tolbutamide</th>\n",
       "      <th>pioglitazone</th>\n",
       "      <th>rosiglitazone</th>\n",
       "      <th>acarbose</th>\n",
       "      <th>miglitol</th>\n",
       "      <th>tolazamide</th>\n",
       "    </tr>\n",
       "    <tr>\n",
       "      <th>encounter_id</th>\n",
       "      <th></th>\n",
       "      <th></th>\n",
       "      <th></th>\n",
       "      <th></th>\n",
       "      <th></th>\n",
       "      <th></th>\n",
       "      <th></th>\n",
       "      <th></th>\n",
       "      <th></th>\n",
       "      <th></th>\n",
       "      <th></th>\n",
       "      <th></th>\n",
       "    </tr>\n",
       "  </thead>\n",
       "  <tbody>\n",
       "    <tr>\n",
       "      <th>98734140</th>\n",
       "      <td>No</td>\n",
       "      <td>No</td>\n",
       "      <td>No</td>\n",
       "      <td>Down</td>\n",
       "      <td>No</td>\n",
       "      <td>Up</td>\n",
       "      <td>No</td>\n",
       "      <td>No</td>\n",
       "      <td>No</td>\n",
       "      <td>No</td>\n",
       "      <td>No</td>\n",
       "      <td>No</td>\n",
       "    </tr>\n",
       "  </tbody>\n",
       "</table>\n",
       "</div>"
      ],
      "text/plain": [
       "             repaglinide nateglinide chlorpropamide glimepiride glipizide  \\\n",
       "encounter_id                                                                \n",
       "98734140              No          No             No        Down        No   \n",
       "\n",
       "             glyburide tolbutamide pioglitazone rosiglitazone acarbose  \\\n",
       "encounter_id                                                             \n",
       "98734140            Up          No           No            No       No   \n",
       "\n",
       "             miglitol tolazamide  \n",
       "encounter_id                      \n",
       "98734140           No         No  "
      ]
     },
     "execution_count": 62,
     "metadata": {},
     "output_type": "execute_result"
    }
   ],
   "source": [
    "problem_indexes = []\n",
    "\n",
    "for index, row in multi_class_obs.iterrows():\n",
    "    class_counts = {}\n",
    "    for drug, class_name in multi_drug_classes.items():\n",
    "        if row[drug] != 'No':\n",
    "            if class_name not in class_counts:\n",
    "                class_counts[class_name] = set()\n",
    "            class_counts[class_name].add(row[drug])\n",
    "\n",
    "    for class_name, drug_values in class_counts.items():\n",
    "        if 'Up' in drug_values and 'Down' in drug_values:\n",
    "            problem_indexes.append(index)\n",
    "\n",
    "multi_class_obs.loc[problem_indexes]"
   ]
  },
  {
   "cell_type": "markdown",
   "metadata": {},
   "source": [
    "The 1 encounter that meets this criteria can be dropped."
   ]
  },
  {
   "cell_type": "code",
   "execution_count": 63,
   "metadata": {},
   "outputs": [
    {
     "name": "stdout",
     "output_type": "stream",
     "text": [
      "(66225, 36)\n",
      "(66224, 36)\n"
     ]
    }
   ],
   "source": [
    "print(twoRace.shape)\n",
    "twoRace = twoRace.drop(index=problem_indexes)\n",
    "focused_variable = focused_variable.drop(index=problem_indexes)\n",
    "print(twoRace.shape)"
   ]
  },
  {
   "cell_type": "code",
   "execution_count": 64,
   "metadata": {},
   "outputs": [
    {
     "data": {
      "text/html": [
       "<div>\n",
       "<style scoped>\n",
       "    .dataframe tbody tr th:only-of-type {\n",
       "        vertical-align: middle;\n",
       "    }\n",
       "\n",
       "    .dataframe tbody tr th {\n",
       "        vertical-align: top;\n",
       "    }\n",
       "\n",
       "    .dataframe thead th {\n",
       "        text-align: right;\n",
       "    }\n",
       "</style>\n",
       "<table border=\"1\" class=\"dataframe\">\n",
       "  <thead>\n",
       "    <tr style=\"text-align: right;\">\n",
       "      <th></th>\n",
       "      <th>metformin</th>\n",
       "      <th>repaglinide</th>\n",
       "      <th>nateglinide</th>\n",
       "      <th>chlorpropamide</th>\n",
       "      <th>glimepiride</th>\n",
       "      <th>glipizide</th>\n",
       "      <th>glyburide</th>\n",
       "      <th>tolbutamide</th>\n",
       "      <th>pioglitazone</th>\n",
       "      <th>rosiglitazone</th>\n",
       "      <th>acarbose</th>\n",
       "      <th>miglitol</th>\n",
       "      <th>tolazamide</th>\n",
       "      <th>insulin</th>\n",
       "      <th>glyburide-metformin</th>\n",
       "      <th>Sulfonylurea_class</th>\n",
       "      <th>Thiazolidinedione_class</th>\n",
       "      <th>Alpha-glucosidase inhibitor_class</th>\n",
       "      <th>Meglitinide_class</th>\n",
       "    </tr>\n",
       "    <tr>\n",
       "      <th>encounter_id</th>\n",
       "      <th></th>\n",
       "      <th></th>\n",
       "      <th></th>\n",
       "      <th></th>\n",
       "      <th></th>\n",
       "      <th></th>\n",
       "      <th></th>\n",
       "      <th></th>\n",
       "      <th></th>\n",
       "      <th></th>\n",
       "      <th></th>\n",
       "      <th></th>\n",
       "      <th></th>\n",
       "      <th></th>\n",
       "      <th></th>\n",
       "      <th></th>\n",
       "      <th></th>\n",
       "      <th></th>\n",
       "      <th></th>\n",
       "    </tr>\n",
       "  </thead>\n",
       "  <tbody>\n",
       "    <tr>\n",
       "      <th>64410</th>\n",
       "      <td>No</td>\n",
       "      <td>No</td>\n",
       "      <td>No</td>\n",
       "      <td>No</td>\n",
       "      <td>No</td>\n",
       "      <td>Steady</td>\n",
       "      <td>No</td>\n",
       "      <td>No</td>\n",
       "      <td>No</td>\n",
       "      <td>No</td>\n",
       "      <td>No</td>\n",
       "      <td>No</td>\n",
       "      <td>No</td>\n",
       "      <td>No</td>\n",
       "      <td>No</td>\n",
       "      <td>Steady</td>\n",
       "      <td>No</td>\n",
       "      <td>No</td>\n",
       "      <td>No</td>\n",
       "    </tr>\n",
       "    <tr>\n",
       "      <th>28236</th>\n",
       "      <td>No</td>\n",
       "      <td>No</td>\n",
       "      <td>No</td>\n",
       "      <td>No</td>\n",
       "      <td>No</td>\n",
       "      <td>No</td>\n",
       "      <td>No</td>\n",
       "      <td>No</td>\n",
       "      <td>No</td>\n",
       "      <td>No</td>\n",
       "      <td>No</td>\n",
       "      <td>No</td>\n",
       "      <td>No</td>\n",
       "      <td>Steady</td>\n",
       "      <td>No</td>\n",
       "      <td>No</td>\n",
       "      <td>No</td>\n",
       "      <td>No</td>\n",
       "      <td>No</td>\n",
       "    </tr>\n",
       "    <tr>\n",
       "      <th>36900</th>\n",
       "      <td>No</td>\n",
       "      <td>No</td>\n",
       "      <td>No</td>\n",
       "      <td>No</td>\n",
       "      <td>No</td>\n",
       "      <td>No</td>\n",
       "      <td>Up</td>\n",
       "      <td>No</td>\n",
       "      <td>No</td>\n",
       "      <td>No</td>\n",
       "      <td>No</td>\n",
       "      <td>No</td>\n",
       "      <td>No</td>\n",
       "      <td>Steady</td>\n",
       "      <td>No</td>\n",
       "      <td>Up</td>\n",
       "      <td>No</td>\n",
       "      <td>No</td>\n",
       "      <td>No</td>\n",
       "    </tr>\n",
       "    <tr>\n",
       "      <th>62256</th>\n",
       "      <td>No</td>\n",
       "      <td>No</td>\n",
       "      <td>No</td>\n",
       "      <td>No</td>\n",
       "      <td>No</td>\n",
       "      <td>No</td>\n",
       "      <td>No</td>\n",
       "      <td>No</td>\n",
       "      <td>No</td>\n",
       "      <td>No</td>\n",
       "      <td>No</td>\n",
       "      <td>No</td>\n",
       "      <td>No</td>\n",
       "      <td>Steady</td>\n",
       "      <td>No</td>\n",
       "      <td>No</td>\n",
       "      <td>No</td>\n",
       "      <td>No</td>\n",
       "      <td>No</td>\n",
       "    </tr>\n",
       "    <tr>\n",
       "      <th>73578</th>\n",
       "      <td>No</td>\n",
       "      <td>No</td>\n",
       "      <td>No</td>\n",
       "      <td>No</td>\n",
       "      <td>No</td>\n",
       "      <td>No</td>\n",
       "      <td>No</td>\n",
       "      <td>No</td>\n",
       "      <td>No</td>\n",
       "      <td>No</td>\n",
       "      <td>No</td>\n",
       "      <td>No</td>\n",
       "      <td>No</td>\n",
       "      <td>Up</td>\n",
       "      <td>No</td>\n",
       "      <td>No</td>\n",
       "      <td>No</td>\n",
       "      <td>No</td>\n",
       "      <td>No</td>\n",
       "    </tr>\n",
       "    <tr>\n",
       "      <th>...</th>\n",
       "      <td>...</td>\n",
       "      <td>...</td>\n",
       "      <td>...</td>\n",
       "      <td>...</td>\n",
       "      <td>...</td>\n",
       "      <td>...</td>\n",
       "      <td>...</td>\n",
       "      <td>...</td>\n",
       "      <td>...</td>\n",
       "      <td>...</td>\n",
       "      <td>...</td>\n",
       "      <td>...</td>\n",
       "      <td>...</td>\n",
       "      <td>...</td>\n",
       "      <td>...</td>\n",
       "      <td>...</td>\n",
       "      <td>...</td>\n",
       "      <td>...</td>\n",
       "      <td>...</td>\n",
       "    </tr>\n",
       "    <tr>\n",
       "      <th>179844000</th>\n",
       "      <td>No</td>\n",
       "      <td>No</td>\n",
       "      <td>No</td>\n",
       "      <td>No</td>\n",
       "      <td>No</td>\n",
       "      <td>No</td>\n",
       "      <td>No</td>\n",
       "      <td>No</td>\n",
       "      <td>No</td>\n",
       "      <td>No</td>\n",
       "      <td>No</td>\n",
       "      <td>No</td>\n",
       "      <td>No</td>\n",
       "      <td>Steady</td>\n",
       "      <td>No</td>\n",
       "      <td>No</td>\n",
       "      <td>No</td>\n",
       "      <td>No</td>\n",
       "      <td>No</td>\n",
       "    </tr>\n",
       "    <tr>\n",
       "      <th>274508874</th>\n",
       "      <td>Steady</td>\n",
       "      <td>No</td>\n",
       "      <td>No</td>\n",
       "      <td>No</td>\n",
       "      <td>No</td>\n",
       "      <td>No</td>\n",
       "      <td>No</td>\n",
       "      <td>No</td>\n",
       "      <td>No</td>\n",
       "      <td>No</td>\n",
       "      <td>No</td>\n",
       "      <td>No</td>\n",
       "      <td>No</td>\n",
       "      <td>No</td>\n",
       "      <td>No</td>\n",
       "      <td>No</td>\n",
       "      <td>No</td>\n",
       "      <td>No</td>\n",
       "      <td>No</td>\n",
       "    </tr>\n",
       "    <tr>\n",
       "      <th>132023796</th>\n",
       "      <td>No</td>\n",
       "      <td>No</td>\n",
       "      <td>No</td>\n",
       "      <td>No</td>\n",
       "      <td>No</td>\n",
       "      <td>No</td>\n",
       "      <td>No</td>\n",
       "      <td>No</td>\n",
       "      <td>No</td>\n",
       "      <td>Steady</td>\n",
       "      <td>No</td>\n",
       "      <td>No</td>\n",
       "      <td>No</td>\n",
       "      <td>No</td>\n",
       "      <td>No</td>\n",
       "      <td>No</td>\n",
       "      <td>Steady</td>\n",
       "      <td>No</td>\n",
       "      <td>No</td>\n",
       "    </tr>\n",
       "    <tr>\n",
       "      <th>163450164</th>\n",
       "      <td>Steady</td>\n",
       "      <td>No</td>\n",
       "      <td>No</td>\n",
       "      <td>No</td>\n",
       "      <td>No</td>\n",
       "      <td>No</td>\n",
       "      <td>No</td>\n",
       "      <td>No</td>\n",
       "      <td>No</td>\n",
       "      <td>No</td>\n",
       "      <td>No</td>\n",
       "      <td>No</td>\n",
       "      <td>No</td>\n",
       "      <td>No</td>\n",
       "      <td>No</td>\n",
       "      <td>No</td>\n",
       "      <td>No</td>\n",
       "      <td>No</td>\n",
       "      <td>No</td>\n",
       "    </tr>\n",
       "    <tr>\n",
       "      <th>41227350</th>\n",
       "      <td>No</td>\n",
       "      <td>No</td>\n",
       "      <td>No</td>\n",
       "      <td>No</td>\n",
       "      <td>No</td>\n",
       "      <td>No</td>\n",
       "      <td>No</td>\n",
       "      <td>No</td>\n",
       "      <td>No</td>\n",
       "      <td>No</td>\n",
       "      <td>No</td>\n",
       "      <td>No</td>\n",
       "      <td>No</td>\n",
       "      <td>No</td>\n",
       "      <td>No</td>\n",
       "      <td>No</td>\n",
       "      <td>No</td>\n",
       "      <td>No</td>\n",
       "      <td>No</td>\n",
       "    </tr>\n",
       "  </tbody>\n",
       "</table>\n",
       "<p>66224 rows × 19 columns</p>\n",
       "</div>"
      ],
      "text/plain": [
       "             metformin repaglinide nateglinide chlorpropamide glimepiride  \\\n",
       "encounter_id                                                                \n",
       "64410               No          No          No             No          No   \n",
       "28236               No          No          No             No          No   \n",
       "36900               No          No          No             No          No   \n",
       "62256               No          No          No             No          No   \n",
       "73578               No          No          No             No          No   \n",
       "...                ...         ...         ...            ...         ...   \n",
       "179844000           No          No          No             No          No   \n",
       "274508874       Steady          No          No             No          No   \n",
       "132023796           No          No          No             No          No   \n",
       "163450164       Steady          No          No             No          No   \n",
       "41227350            No          No          No             No          No   \n",
       "\n",
       "             glipizide glyburide tolbutamide pioglitazone rosiglitazone  \\\n",
       "encounter_id                                                              \n",
       "64410           Steady        No          No           No            No   \n",
       "28236               No        No          No           No            No   \n",
       "36900               No        Up          No           No            No   \n",
       "62256               No        No          No           No            No   \n",
       "73578               No        No          No           No            No   \n",
       "...                ...       ...         ...          ...           ...   \n",
       "179844000           No        No          No           No            No   \n",
       "274508874           No        No          No           No            No   \n",
       "132023796           No        No          No           No        Steady   \n",
       "163450164           No        No          No           No            No   \n",
       "41227350            No        No          No           No            No   \n",
       "\n",
       "             acarbose miglitol tolazamide insulin glyburide-metformin  \\\n",
       "encounter_id                                                            \n",
       "64410              No       No         No      No                  No   \n",
       "28236              No       No         No  Steady                  No   \n",
       "36900              No       No         No  Steady                  No   \n",
       "62256              No       No         No  Steady                  No   \n",
       "73578              No       No         No      Up                  No   \n",
       "...               ...      ...        ...     ...                 ...   \n",
       "179844000          No       No         No  Steady                  No   \n",
       "274508874          No       No         No      No                  No   \n",
       "132023796          No       No         No      No                  No   \n",
       "163450164          No       No         No      No                  No   \n",
       "41227350           No       No         No      No                  No   \n",
       "\n",
       "             Sulfonylurea_class Thiazolidinedione_class  \\\n",
       "encounter_id                                              \n",
       "64410                    Steady                      No   \n",
       "28236                        No                      No   \n",
       "36900                        Up                      No   \n",
       "62256                        No                      No   \n",
       "73578                        No                      No   \n",
       "...                         ...                     ...   \n",
       "179844000                    No                      No   \n",
       "274508874                    No                      No   \n",
       "132023796                    No                  Steady   \n",
       "163450164                    No                      No   \n",
       "41227350                     No                      No   \n",
       "\n",
       "             Alpha-glucosidase inhibitor_class Meglitinide_class  \n",
       "encounter_id                                                      \n",
       "64410                                       No                No  \n",
       "28236                                       No                No  \n",
       "36900                                       No                No  \n",
       "62256                                       No                No  \n",
       "73578                                       No                No  \n",
       "...                                        ...               ...  \n",
       "179844000                                   No                No  \n",
       "274508874                                   No                No  \n",
       "132023796                                   No                No  \n",
       "163450164                                   No                No  \n",
       "41227350                                    No                No  \n",
       "\n",
       "[66224 rows x 19 columns]"
      ]
     },
     "execution_count": 64,
     "metadata": {},
     "output_type": "execute_result"
    }
   ],
   "source": [
    "def collapse_columns(row):\n",
    "    if 'Up' in row.values:\n",
    "        return 'Up'\n",
    "    elif 'Down' in row.values:\n",
    "        return 'Down'\n",
    "    elif 'Steady' in row.values:\n",
    "        return 'Steady'\n",
    "    else:\n",
    "        return 'No'\n",
    "\n",
    "def combine_classes(drug_class):\n",
    "    drugs = [key for key, value in multi_drug_classes.items() if value == drug_class]\n",
    "    rows = focused_variable[drugs].copy()\n",
    "    values = rows.apply(collapse_columns, axis=1)\n",
    "    drug_class += '_class'\n",
    "    focused_variable[drug_class] = values\n",
    "\n",
    "classes = list(set(multi_drug_classes.values()))\n",
    "for drug_class in classes:\n",
    "    combine_classes(drug_class)\n",
    "\n",
    "focused_variable\n"
   ]
  },
  {
   "cell_type": "code",
   "execution_count": 65,
   "metadata": {},
   "outputs": [],
   "source": [
    "to_drop = [col for col in focused_variable.columns if not col.endswith('_class')]\n",
    "focused_variable = focused_variable.drop(to_drop, axis=1)\n",
    "twoRace = twoRace.drop(to_drop, axis=1)\n",
    "twoRace = twoRace.merge(focused_variable, left_index=True, right_index=True)"
   ]
  },
  {
   "cell_type": "markdown",
   "metadata": {},
   "source": [
    "### Wrap-Up<a id=\"wrapUp\"></a>"
   ]
  },
  {
   "cell_type": "markdown",
   "metadata": {},
   "source": [
    "The exploratory analysis is complete.  In a high level review, the changes made are:\n",
    "\n",
    "- corrected for race bias\n",
    "- added a new feature 'DischargedToCare'\n",
    "- removed"
   ]
  }
 ],
 "metadata": {
  "kernelspec": {
   "display_name": "Python 3 (ipykernel)",
   "language": "python",
   "name": "python3"
  },
  "language_info": {
   "codemirror_mode": {
    "name": "ipython",
    "version": 3
   },
   "file_extension": ".py",
   "mimetype": "text/x-python",
   "name": "python",
   "nbconvert_exporter": "python",
   "pygments_lexer": "ipython3",
   "version": "3.8.16"
  },
  "vscode": {
   "interpreter": {
    "hash": "2d6168d7bc7859454aa8ce9bc6837161dc8041b6aaba9ceece6c315f9b1379bf"
   }
  }
 },
 "nbformat": 4,
 "nbformat_minor": 4
}
